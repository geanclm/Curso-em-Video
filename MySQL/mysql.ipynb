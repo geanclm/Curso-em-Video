{
 "cells": [
  {
   "cell_type": "code",
   "execution_count": 31,
   "id": "93f144b0",
   "metadata": {},
   "outputs": [],
   "source": [
    "# conectar banco de dados MySQl com Pyhon\n",
    "# by geanclm in 18/05/2022\n",
    "\n",
    "# CRUD com MySQL\n",
    "# !pip install mysql-connector-python\n",
    "import mysql.connector\n",
    "u = ''\n",
    "p = ''"
   ]
  },
  {
   "cell_type": "code",
   "execution_count": 33,
   "id": "afb65282",
   "metadata": {},
   "outputs": [
    {
     "name": "stdout",
     "output_type": "stream",
     "text": [
      "(1, 'Godofredo', datetime.date(1948, 1, 2), 'M', 78.5, 1.83, 'Brasil')\n",
      "(2, 'Maria', datetime.date(1999, 12, 30), 'F', 55.2, 1.65, 'Portugal')\n",
      "(3, 'Creuza', datetime.date(1920, 12, 30), 'F', 50.2, 1.65, 'Brasil')\n",
      "(4, 'Adalgiza', datetime.date(1930, 11, 2), 'F', 63.2, 1.75, 'Irlanda')\n",
      "(6, 'Pedro', datetime.date(2000, 7, 15), 'M', 52.3, 1.75, 'Brasil')\n",
      "(7, 'Maria', datetime.date(1999, 5, 30), 'F', 75.9, 1.7, 'Portugal')\n",
      "(8, 'Creuza', datetime.date(1920, 12, 30), 'F', 50.2, 1.65, 'Brasil')\n",
      "(9, 'Gean', datetime.date(1900, 11, 11), 'M', 80.5, 1.7, 'Brasil')\n",
      "(10, 'Madeira', datetime.date(1900, 11, 11), 'M', 80.5, 1.7, 'Brasil')\n"
     ]
    }
   ],
   "source": [
    "# CREATE\n",
    "# conexao = mysql.connector.connect(\n",
    "#     host = 'localhost',\n",
    "#     user = u\n",
    "#     password = p\n",
    "#     database = 'cadastro',\n",
    "# )\n",
    "# cursor = conexao.cursor()\n",
    "\n",
    "# comando = f'INSERT INTO clientes (id, nome, nascimento, sexo, peso, altura, nacionalidade) VALUES (default, \"Carlos\", \"1900-11-11\", \"M\", 80.5, 1.70, default)'\n",
    "\n",
    "# cursor.execute(comando)\n",
    "# conexao.commit() # para editar o banco de dados\n",
    "\n",
    "# cursor.close()\n",
    "# conexao.close()\n",
    "    \n",
    "\n",
    "# READ\n",
    "conexao = mysql.connector.connect(\n",
    "    host = 'localhost',\n",
    "    user = u,\n",
    "    password = p,\n",
    "    database = 'cadastro',\n",
    ")\n",
    "cursor = conexao.cursor()\n",
    "\n",
    "comando = f'SELECT * FROM clientes'\n",
    "cursor.execute(comando)\n",
    "\n",
    "resultado = cursor.fetchall() # para ler o banco de dados\n",
    "for i in resultado:\n",
    "    print (i)\n",
    "\n",
    "cursor.close()\n",
    "conexao.close()\n",
    "\n",
    "\n",
    "\n",
    "# UPDATE\n",
    "# conexao = mysql.connector.connect(\n",
    "#     host = 'localhost',\n",
    "#     user = u\n",
    "#     password = p\n",
    "#     database = 'cadastro',\n",
    "# )\n",
    "# cursor = conexao.cursor()\n",
    "\n",
    "# nome = 'Madeira'\n",
    "# comando = f'UPDATE clientes set nome = \"{nome}\" WHERE nome = \"Carlos\";'\n",
    "# cursor.execute(comando)\n",
    "# conexao.commit() # para editar o banco de dados\n",
    "\n",
    "# cursor.close()\n",
    "# conexao.close()\n",
    "\n",
    "\n",
    "# DELETE\n",
    "# conexao = mysql.connector.connect(\n",
    "#     host = 'localhost',\n",
    "#     user = u\n",
    "#     password = p\n",
    "#     database = 'cadastro',\n",
    "# )\n",
    "# cursor = conexao.cursor()\n",
    "\n",
    "# comando = f'DELETE from clientes WHERE nacionalidade = \"EUA\" LIMIT 1;'\n",
    "# cursor.execute(comando)\n",
    "# conexao.commit() # para editar o banco de dados\n",
    "\n",
    "# cursor.close()\n",
    "# conexao.close()"
   ]
  },
  {
   "cell_type": "code",
   "execution_count": null,
   "id": "a29cac3d",
   "metadata": {},
   "outputs": [],
   "source": []
  },
  {
   "cell_type": "code",
   "execution_count": 13,
   "id": "ebf7d14d",
   "metadata": {},
   "outputs": [
    {
     "data": {
      "text/plain": [
       "9"
      ]
     },
     "execution_count": 13,
     "metadata": {},
     "output_type": "execute_result"
    }
   ],
   "source": [
    "# números de dígitos em Python\n",
    "n = 530000000\n",
    "len(str(n))"
   ]
  }
 ],
 "metadata": {
  "kernelspec": {
   "display_name": "Python 3 (ipykernel)",
   "language": "python",
   "name": "python3"
  },
  "language_info": {
   "codemirror_mode": {
    "name": "ipython",
    "version": 3
   },
   "file_extension": ".py",
   "mimetype": "text/x-python",
   "name": "python",
   "nbconvert_exporter": "python",
   "pygments_lexer": "ipython3",
   "version": "3.10.4"
  }
 },
 "nbformat": 4,
 "nbformat_minor": 5
}
