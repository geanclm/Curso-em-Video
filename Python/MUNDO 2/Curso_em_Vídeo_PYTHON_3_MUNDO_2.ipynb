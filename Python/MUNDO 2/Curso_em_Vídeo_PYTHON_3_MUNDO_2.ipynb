{
  "nbformat": 4,
  "nbformat_minor": 0,
  "metadata": {
    "colab": {
      "name": "Curso em Vídeo - PYTHON 3 - MUNDO 2.ipynb",
      "provenance": [],
      "collapsed_sections": [
        "Iv1JvJMxr_3l"
      ]
    },
    "kernelspec": {
      "name": "python3",
      "display_name": "Python 3"
    }
  },
  "cells": [
    {
      "cell_type": "markdown",
      "metadata": {
        "id": "Iv1JvJMxr_3l"
      },
      "source": [
        "# CURSO EM VÍDEO - PYTHON 3 - MUNDO 2\n",
        "\n",
        "1.   Retomando o estudo em 15/07/2021\n",
        "<p>by geanclm</p>\n",
        "\n",
        "---\n",
        "<p>https://www.python.org/</p>"
      ]
    },
    {
      "cell_type": "markdown",
      "metadata": {
        "id": "ORH0FziVvh-Q"
      },
      "source": [
        "#Aula 12 – Condições Aninhadas"
      ]
    },
    {
      "cell_type": "code",
      "metadata": {
        "colab": {
          "base_uri": "https://localhost:8080/"
        },
        "id": "bUrp-RLypSKl",
        "outputId": "caa3df6e-82f9-4375-f89c-fb1e02695985"
      },
      "source": [
        "import this"
      ],
      "execution_count": null,
      "outputs": [
        {
          "output_type": "stream",
          "name": "stdout",
          "text": [
            "The Zen of Python, by Tim Peters\n",
            "\n",
            "Beautiful is better than ugly.\n",
            "Explicit is better than implicit.\n",
            "Simple is better than complex.\n",
            "Complex is better than complicated.\n",
            "Flat is better than nested.\n",
            "Sparse is better than dense.\n",
            "Readability counts.\n",
            "Special cases aren't special enough to break the rules.\n",
            "Although practicality beats purity.\n",
            "Errors should never pass silently.\n",
            "Unless explicitly silenced.\n",
            "In the face of ambiguity, refuse the temptation to guess.\n",
            "There should be one-- and preferably only one --obvious way to do it.\n",
            "Although that way may not be obvious at first unless you're Dutch.\n",
            "Now is better than never.\n",
            "Although never is often better than *right* now.\n",
            "If the implementation is hard to explain, it's a bad idea.\n",
            "If the implementation is easy to explain, it may be a good idea.\n",
            "Namespaces are one honking great idea -- let's do more of those!\n"
          ]
        }
      ]
    },
    {
      "cell_type": "code",
      "metadata": {
        "id": "-HNJ1LdpBCgA",
        "colab": {
          "base_uri": "https://localhost:8080/"
        },
        "outputId": "81b8e7e4-8bf0-4f7d-f4c6-81cf65515fe3"
      },
      "source": [
        "# DESAFIO 036\n",
        "# ANÁLISE empréstimo bancário\n",
        "# by geanclm in 08/08/2021 19:13h\n",
        "\n",
        "# Input:\n",
        "# Exercício Python 36: Escreva um programa para aprovar o empréstimo bancário\n",
        "# para a compra de uma casa. Pergunte o valor da casa, o salário do comprador\n",
        "# e em quantos anos ele vai pagar. A prestação mensal não pode exceder 30% do salário\n",
        "# ou então o empréstimo será negado.\n",
        "\n",
        "nome_comprador = input('nome comprador: ')\n",
        "salario_comprador = float(input('salário R$: '))\n",
        "preco_casa = float(input('Preço de venda da casa R$: '))\n",
        "numero_parcelas = int(input('números de meses para o pagamento: '))\n",
        "percentual_limite = 0.30\n",
        "limite_parcela_comprador = salario_comprador*percentual_limite\n",
        "parcela_casa = preco_casa/numero_parcelas\n",
        "\n",
        "print (f'''\n",
        "=-=-=-=-=-=-=-=-=-=-=-=-=-=-=\n",
        "NOME COMPRADOR: {nome_comprador}\n",
        "SALÁRIO COMRPADOR: R$ {salario_comprador:.2f}\n",
        "PREÇO DA CASA: R$ {preco_casa:.2f}\n",
        "NÚMERO PARCELAS:  {numero_parcelas}\n",
        "LIMITE PARCELA COMPRADOR: {limite_parcela_comprador:.2f}\n",
        "- - -\n",
        "Parcela mensal do financiamento: {parcela_casa:.2f}\n",
        "=-=-=-=-=-=-=-=-=-=-=-=-=-=-=\n",
        "''')\n",
        "if parcela_casa > limite_parcela_comprador:\n",
        "    print (f'{nome_comprador} o valor da casa excede seu limite de compra')\n",
        "else:\n",
        "    print (f'{nome_comprador} SEU LIMITE ESTÁ DE ACORDO COM O VALOR MENSAL da casa! :-)', end='')"
      ],
      "execution_count": null,
      "outputs": [
        {
          "output_type": "stream",
          "text": [
            "nome comprador: Gean\n",
            "salário R$: 5000\n",
            "Preço de venda da casa R$: 120000\n",
            "números de meses para o pagamento: 120\n",
            "\n",
            "=-=-=-=-=-=-=-=-=-=-=-=-=-=-=\n",
            "NOME COMPRADOR: Gean\n",
            "SALÁRIO COMRPADOR: R$ 5000.00\n",
            "PREÇO DA CASA: R$ 120000.00\n",
            "NÚMERO PARCELAS:  120\n",
            "LIMITE PARCELA COMPRADOR: 1500.00\n",
            "- - -\n",
            "Parcela mensal do financiamento: 1000.00\n",
            "=-=-=-=-=-=-=-=-=-=-=-=-=-=-=\n",
            "\n",
            "Gean SEU LIMITE ESTÁ DE ACORDO COM O VALOR MENSAL! :-)"
          ],
          "name": "stdout"
        }
      ]
    },
    {
      "cell_type": "code",
      "metadata": {
        "colab": {
          "base_uri": "https://localhost:8080/"
        },
        "id": "IDV4xwTXw3vU",
        "outputId": "d5f60a73-84c3-4f89-ca39-03b69c1628d5"
      },
      "source": [
        "import math\n",
        "print(f'The value of pi is approximately {math.pi:,.3f}.')"
      ],
      "execution_count": null,
      "outputs": [
        {
          "output_type": "stream",
          "text": [
            "The value of pi is approximately 3.142.\n"
          ],
          "name": "stdout"
        }
      ]
    },
    {
      "cell_type": "code",
      "metadata": {
        "id": "c6pjyVLZBBLi",
        "colab": {
          "base_uri": "https://localhost:8080/"
        },
        "outputId": "9b0da044-bac8-49e6-8f12-0d9781ffe9af"
      },
      "source": [
        "# DESAFIO 037\n",
        "# CONVERSÃO NÚMERICA\n",
        "# by geanclm in 20/08/2021 17:34h\n",
        "\n",
        "# Input\n",
        "# Exercício Python 37: Escreva um programa em Python que leia um número inteiro\n",
        "# qualquer e peça para o usuário escolher qual será a base de conversão:\n",
        "#  1 para binário, 2 para octal e 3 para hexadecimal.\n",
        "\n",
        "# Output\n",
        "# 1 - conversão\n",
        "\n",
        "n = int(input('digite um número inteiro qualquer: '))\n",
        "print (''' escolha uma forma de conversão numérica:\n",
        "[1] - binário\n",
        "[2] - octal\n",
        "[3] - hexadecimal ''')\n",
        "base = int(input('sua opção: '))\n",
        "if base == 1:\n",
        "    print (f'{n} em binário {bin(n)[2:]}')\n",
        "elif base == 2:\n",
        "    print (f'{n} em octal {oct(n)[2:]}')\n",
        "elif base == 3:\n",
        "    print (f'{n} em hexadecimal {hex(n)[2:]}')\n",
        "else:\n",
        "     print ('favor escolher uma opção válida para convesaão\"')"
      ],
      "execution_count": null,
      "outputs": [
        {
          "output_type": "stream",
          "text": [
            "digite um número inteiro qualquer: 127\n",
            " escolha uma forma de conversão numérica:\n",
            "[1] - binário\n",
            "[2] - octal\n",
            "[3] - hexadecimal \n",
            "sua opção: 2\n",
            "127 em octal 177\n"
          ],
          "name": "stdout"
        }
      ]
    },
    {
      "cell_type": "code",
      "metadata": {
        "id": "PxinOit4B0wf",
        "colab": {
          "base_uri": "https://localhost:8080/"
        },
        "outputId": "b8e12a8e-e7e8-47ed-a504-80eef330b2b3"
      },
      "source": [
        "# # DESAFIO 038\n",
        "# COMPARAR DOIS NÚMEROS\n",
        "# by geanclm in 22/08/2021 15:29h\n",
        "\n",
        "# Input\n",
        "# 1 - dois números quaisquer\n",
        "\n",
        "# Output\n",
        "# 1 - qual é o maior, menor ou se são iguais\n",
        "\n",
        "x,y = [int(n) for n in input('''Digite dois números inteiros\n",
        "Exemplo [3 5]:''').split()]\n",
        "\n",
        "print(f'primeiro número: {x}\\nsegundo número: {y}')\n",
        "if x > y:\n",
        "    print (f'{x} é maior que {y}')\n",
        "elif x < y:\n",
        "    print (f'{x} é menor que {y}')\n",
        "else:\n",
        "    print ('os números digitados são iguais!')"
      ],
      "execution_count": null,
      "outputs": [
        {
          "output_type": "stream",
          "name": "stdout",
          "text": [
            "Digite dois números inteiros\n",
            "Exemplo [3 5]:2 3\n",
            "primeiro número: 2\n",
            "segundo número: 3\n",
            "2 é menor que 3\n"
          ]
        }
      ]
    },
    {
      "cell_type": "code",
      "metadata": {
        "id": "fh-H9sgXCLsg",
        "colab": {
          "base_uri": "https://localhost:8080/"
        },
        "outputId": "cfa879a3-3a22-407a-bb99-fa23cf67ef13"
      },
      "source": [
        "# # DESAFIO 039\n",
        "# by geanclm in 03/09/2021 at 13:08h\n",
        "\n",
        "# Input\n",
        "# 1 - idade de uma pessoa\n",
        "\n",
        "# Output\n",
        "# 1 - informar se vai se alistar\n",
        "# 2 - hora de se alistar\n",
        "# 3 - passou do tempo\n",
        "# 4 - mostrar o tempo que falta\n",
        "\n",
        "# Exercício Python 39: Faça um programa que leia o ano de nascimento de um jovem e informe,\n",
        "# de acordo com a sua idade, se ele ainda vai se alistar ao serviço militar,\n",
        "# se é a hora exata de se alistar ou se já passou do tempo do alistamento.\n",
        "# Seu programa também deverá mostrar o tempo que falta ou que passou do prazo.\n",
        "\n",
        "\n",
        "# DESAFIO: testar se a pessoa é home ou mulher\n",
        "# para entrar ou não na estrutura de controle\n",
        "\n",
        "# =-=-=-=--=-=-=-=-=-=-=-=-=-=-=-=-=-=-=-=-=-=-=-=-=\n",
        "from datetime import datetime\n",
        "agora = data_e_hora.strftime(\"%d/%m/%Y %H:%M\"+\"h\")\n",
        "ano = int(agora[6:10])\n",
        "# =-=-=-=--=-=-=-=-=-=-=-=-=-=-=-=-=-=-=-=-=-=-=-=-=\n",
        "\n",
        "maioridade = 18\n",
        "nasc = int(input('qual o ano do seu nascimento? '))\n",
        "idade = ano - nasc\n",
        "if idade > maioridade:\n",
        "    dif = ano-nasc-maioridade\n",
        "    print (f'''Você nasceu em {nasc}\n",
        "           e neste ano de {ano}\n",
        "           você tem idade igual a {idade} anos e já passou {dif} anos do seu alistamento''')\n",
        "elif idade == maioridade:\n",
        "    print (f'você tem idade igual a {idade} anoa e deve se alistar IMEDIATAMENTE! Corre pra lá agora!')\n",
        "elif idade < maioridade:\n",
        "    dif = maioridade-(ano-nasc)\n",
        "    alistar = ano+dif\n",
        "    print (f'''Neste ano de {ano}\n",
        "    você tem somente {idade} anos\n",
        "    e restam {dif} anos para o alistamento,\n",
        "    ou seja anote na agenda o ano de {alistar}\n",
        "    para se apresentar em uma das\n",
        "    forças armadas do Brasil!''')"
      ],
      "execution_count": null,
      "outputs": [
        {
          "output_type": "stream",
          "name": "stdout",
          "text": [
            "qual o ano do seu nascimento? 2013\n",
            "Neste ano de 2021\n",
            "    você tem somente 8 anos\n",
            "    e restam 10 anos para o alistamento,\n",
            "    ou seja anote na agenda o ano de 2031\n",
            "    para se apresentar em uma das\n",
            "    forças armadas do Brasil!\n"
          ]
        }
      ]
    },
    {
      "cell_type": "code",
      "metadata": {
        "id": "ZlGaoyLhCqIW",
        "colab": {
          "base_uri": "https://localhost:8080/"
        },
        "outputId": "bc60b366-0962-410b-aa23-c9c296d05fa1"
      },
      "source": [
        "# DESAFIO 040\n",
        "# Input\n",
        "# Exercício Python 040: Crie um programa que leia duas notas de um aluno e calcule sua média,\n",
        "# mostrando uma mensagem no final, de acordo com a média atingida:\n",
        "# – Média abaixo de 5.0: REPROVADO\n",
        "# – Média entre 5.0 e 6.9: RECUPERAÇÃO\n",
        "# – Média 7.0 ou superior: APROVADO\n",
        "\n",
        "# by geanclm in 12/09/2021 at 16:50h\n",
        "n1,n2 = [float(n) for n in input('''Digite as duas notas do aluno com espaço''').split()]\n",
        "m = (n1+n2)/2\n",
        "if m < 5:\n",
        "    print (f'aluno com média {m}, REPROVADO!')\n",
        "elif m >= 7:\n",
        "    print (f'aluno com média {m}, APROVADO!')\n",
        "else:\n",
        "    print (f'aluno com média {m}, RECUPERAÇÃO!')"
      ],
      "execution_count": null,
      "outputs": [
        {
          "output_type": "stream",
          "name": "stdout",
          "text": [
            "Digite as duas notas do aluno com espaço2 4\n",
            "aluno com média 3.0, REPROVADO!\n"
          ]
        }
      ]
    },
    {
      "cell_type": "code",
      "metadata": {
        "id": "tRAZqrJdDOri",
        "colab": {
          "base_uri": "https://localhost:8080/"
        },
        "outputId": "a8c9a90a-e92b-4a67-ab4d-d25eb53da3d4"
      },
      "source": [
        "# # DESAFIO 041\n",
        "# by geanclm in 31/10/2021 at 17:19h\n",
        "# Exercício Python 041: A Confederação Nacional de Natação precisa de um programa que leia o ano de nascimento de um atleta e mostre sua categoria, de acordo com a idade:\n",
        "# – Até 9 anos: MIRIM\n",
        "# – Até 14 anos: INFANTIL\n",
        "# – Até 19 anos: JÚNIOR\n",
        "# – Até 25 anos: SÊNIOR\n",
        "# – Acima de 25 anos: MASTER\n",
        "\n",
        "from datetime import date\n",
        "ano_atual = date.today().year\n",
        "\n",
        "nasc = int(input('''Digite o ano de nascimento do atleta: '''))\n",
        "idade = ano_atual - nasc\n",
        "categoria = ['MIRIM', 'INFANTIL', 'JÚNIOR', 'SÊNIOR', 'MASTER']\n",
        "\n",
        "if idade <= 9:\n",
        "    print (f'o atleta nascido em  {nasc} tem {idade} anos e pertence a categgoria {categoria[0]}')\n",
        "elif idade <= 14:\n",
        "    print (f'o atleta nascido em  {nasc} tem {idade} anos e pertence a categgoria {categoria[1]}')\n",
        "elif idade <= 19:\n",
        "    print (f'o atleta nascido em  {nasc} tem {idade} anos e pertence a categgoria {categoria[2]}')\n",
        "elif idade <= 25:\n",
        "    print (f'o atleta nascido em  {nasc} tem {idade} anos e pertence a categgoria {categoria[3]}')\n",
        "else:\n",
        "    print (f'o atleta nascido em  {nasc} tem {idade} anos e pertence a categgoria {categoria[4]}')"
      ],
      "execution_count": null,
      "outputs": [
        {
          "output_type": "stream",
          "name": "stdout",
          "text": [
            "Digite o ano de nascimento do atleta: 1975\n",
            "o atleta nascido em  1975 tem 46 anos e pertence a categgoria MASTER\n"
          ]
        }
      ]
    },
    {
      "cell_type": "code",
      "metadata": {
        "id": "kPNgEtodDoEF",
        "colab": {
          "base_uri": "https://localhost:8080/"
        },
        "outputId": "ecd6f52f-779d-4092-a11a-96b1d875e40b"
      },
      "source": [
        "# # DESAFIO 042\n",
        "# # Input\n",
        "# desafio 035\n",
        "# # Output\n",
        "# triagno equilatero\n",
        "# triangulo isosceles\n",
        "# triangulo escaleno\n",
        "\n",
        "# =-=-=-=-=-=-=-=-=-=-=-=-=-=-=-=-=-=-=-=-=\n",
        "# CONDIÇÃO DE EXXISTÊNCIA DE UM TRIÂNGULO\n",
        "# =-=-=-=-=-=-=-=-=-=-=-=-=-=-=-=-=-=-=-=-=\n",
        "# | b - c | < a < b + c\n",
        "# | a - c | < b < a + c\n",
        "# | a - b | < c < a + b \n",
        "\n",
        "# informar se o triângulo formado é\n",
        "# – EQUILÁTERO: todos os lados iguais\n",
        "# – ISÓSCELES: dois lados iguais, um diferente\n",
        "# – ESCALENO: todos os lados diferentes \n",
        "\n",
        "a = float(input('digite o comprimento da rela 1: '))\n",
        "b = float(input('digite o comprimento da rela 2: '))\n",
        "c = float(input('digite o comprimento da rela 3: '))\n",
        "p = ['EQUILÁTERO', 'ISÓSCELES', 'ESCALENO', 'não forma um triângulo']\n",
        "\n",
        "if ( b - c) < a < (b + c) and (a - c) < b < (a + c) and (a - b) < c < (a + b ):\n",
        "    if (a == b == c):\n",
        "        t = p[0]\n",
        "    elif (a==b) or (b==c) or (a==c):\n",
        "        t = p[1]\n",
        "    else:\n",
        "        t = p[2]\n",
        "    print (f''' as medidas fornecidas formam um triângulo!\n",
        "            e o poligno formado é um {t}''')\n",
        "else:\n",
        "    print(f'o conjunto de medidas forneceidas com {a}, {b} e {c} {p[3]}')"
      ],
      "execution_count": null,
      "outputs": [
        {
          "output_type": "stream",
          "name": "stdout",
          "text": [
            "digite o comprimento da rela 1: 1\n",
            "digite o comprimento da rela 2: 2\n",
            "digite o comprimento da rela 3: 8\n",
            "o conjunto de medidas forneceidas com 1.0, 2.0 e 8.0 não forma um triângulo\n"
          ]
        }
      ]
    },
    {
      "cell_type": "code",
      "metadata": {
        "id": "P-ClVfn2ELlx",
        "colab": {
          "base_uri": "https://localhost:8080/"
        },
        "outputId": "04b7e6b6-c8ee-4e31-903d-a12774be5450"
      },
      "source": [
        "# # DESAFIO 043\n",
        "# by geanclm in 03/12/2021 at 19:48h\n",
        "\n",
        "# Exercício Python 43\n",
        "# Desenvolva uma lógica que leia\n",
        "# o peso\n",
        "# a altura\n",
        "# de uma pessoa,\n",
        "# calcule seu Índice de Massa Corporal (IMC) e mostre seu status, de acordo com a tabela abaixo:\n",
        "\n",
        "# – IMC abaixo de 18,5: Abaixo do Peso\n",
        "# – Entre 18,5 e 25: Peso Ideal\n",
        "# – 25 até 30: Sobrepeso\n",
        "# – 30 até 40: Obesidade\n",
        "# – Acima de 40: Obesidade Mórbida\n",
        "\n",
        "peso = float(input('digite o peso (Kg): '))\n",
        "altu = float(input('digite a altura (m): '))\n",
        "imc = peso/(altu**2)\n",
        "if imc < 18.5:\n",
        "    print (f'imc = {imc:.2f} Abaixo do Peso')\n",
        "elif 18.5 <= imc <= 24.9:\n",
        "    print (f'imc = {imc:.2f} Peso Ideal')\n",
        "elif 25 <= imc <= 29.9:\n",
        "    print (f'imc = {imc:.2f} Sobrepeso')\n",
        "elif 30 <= imc <= 39.9:\n",
        "    print (f'imc = {imc:.2f} Obesidade')    \n",
        "else:\n",
        "    print (f'imc = {imc:.2f} Obesidade Mórbida')"
      ],
      "execution_count": null,
      "outputs": [
        {
          "output_type": "stream",
          "name": "stdout",
          "text": [
            "digite o peso (Kg): 60\n",
            "digite a altura (m): 1.60\n",
            "imc = 23.44 Peso Ideal\n"
          ]
        }
      ]
    },
    {
      "cell_type": "code",
      "metadata": {
        "id": "JcE-M5_FE5uJ",
        "colab": {
          "base_uri": "https://localhost:8080/"
        },
        "outputId": "aba9b88c-c1ec-424b-e381-032ea9230658"
      },
      "source": [
        "# # DESAFIO 044\n",
        "# by geanclm in 05/12/02021\n",
        "# Exercício Python 44: Elabore um programa que calcule o valor a ser pago por um produto, considerando o seu preço normal e condição de pagamento:\n",
        "# – à vista dinheiro/cheque: 10% de desconto\n",
        "# – à vista no cartão: 5% de desconto\n",
        "# – em até 2x no cartão: preço formal \n",
        "# – 3x ou mais no cartão: 20% de juros\n",
        "\n",
        "print('{:=^40}'.format('[ LOJAS geanclm ]'))\n",
        "v = float(input('valor total da venda: R$ '))\n",
        "print ('-=-=-=-=-=-=-=-=-=-=-')\n",
        "f = int(input(f'''Forma de pagamento\n",
        "[1] pagamento em dinheito (10% desc)\n",
        "[2] pagamento à vista com cartão (5% desc)\n",
        "[3] parcela em 2x sem juros\n",
        "[4] parcela em 3x ou mais (juros 20%)\n",
        ": '''))\n",
        "print ('-=-=-=-=-=-=-=-=-=-=-')\n",
        "venda = 'valor total da compra: R$ '+str(v)\n",
        "if f == 1:\n",
        "    pf = v - (v * 0.10)\n",
        "    print (f''' {venda}\n",
        "    valor final para pagamento: R$ {pf}''')\n",
        "elif f == 2:\n",
        "    pf = v - (v * 0.05)\n",
        "    print (f''' {venda}\n",
        "    valor final para pagamento: R$ {pf}''')\n",
        "elif f == 3:\n",
        "    print (f'''{venda}\n",
        "    valor final parcelada em 2x de R$ {v/2}\n",
        "    ''')\n",
        "elif f == 4:\n",
        "    nparc = int(input('número de parcelas: '))\n",
        "    pf4 = v + (v * 0.20)\n",
        "    vparc = float (pf4/nparc)\n",
        "    print (f'''{venda}\n",
        "    valor final para pagamento: R$ {pf4} parcelada em {nparc}x de R$ {vparc:.2f} ''')\n",
        "else:\n",
        "    print ('Opção inválida! Escolha uma das formas de pagamento no menu')"
      ],
      "execution_count": null,
      "outputs": [
        {
          "output_type": "stream",
          "name": "stdout",
          "text": [
            "===========[ LOJAS geanclm ]============\n",
            "valor total da venda: R$ 1000\n",
            "-=-=-=-=-=-=-=-=-=-=-\n",
            "Forma de pagamento\n",
            "[1] pagamento em dinheito (10% desc)\n",
            "[2] pagamento à vista com cartão (5% desc)\n",
            "[3] parcela em 2x sem juros\n",
            "[4] parcela em 3x ou mais (juros 20%)\n",
            ": 5\n",
            "-=-=-=-=-=-=-=-=-=-=-\n",
            "opção inválida! Escolha uma das formas de pagamento no menu\n"
          ]
        }
      ]
    },
    {
      "cell_type": "markdown",
      "source": [
        "\n"
      ],
      "metadata": {
        "id": "7kMIyvW_abP1"
      }
    },
    {
      "cell_type": "code",
      "metadata": {
        "id": "OAQCIK_LFjda",
        "colab": {
          "base_uri": "https://localhost:8080/"
        },
        "outputId": "a92afe79-a5f7-49e1-d41d-24cd501d117f"
      },
      "source": [
        "# DESAFIO 045\n",
        "# jogo Jokenpô\n",
        "from random import randint\n",
        "from time import sleep\n",
        "itens = ('PEDRA','PAPEL','TESOURA')\n",
        "computador = randint(0,2)\n",
        "jogador = int(input(f'''digite sua opção, jogador!\n",
        "[0] PEDRA\n",
        "[1] PAPEL\n",
        "[2] TESOURA\n",
        "'''))\n",
        "print ('JO')\n",
        "sleep (1)\n",
        "print ('KEN')\n",
        "sleep (1)\n",
        "print ('PÔ')\n",
        "sleep (1)\n",
        "print ('=-' *10)\n",
        "print (f'computador escolheu {itens[computador]}')\n",
        "print (f'jogador escolheu {itens[jogador]}')\n",
        "print ('=-' *10)\n",
        "if computador == 0:\n",
        "    if jogador == 0:\n",
        "        print ('EMPATE')\n",
        "    elif jogador == 1:\n",
        "        print ('JOGADOR VENCEU!')            \n",
        "    elif jogador == 2:\n",
        "        print ('COMPUTADOR VENCEU!')\n",
        "    else:\n",
        "        print ('jogada INVÁLDA!')\n",
        "elif computador == 1:\n",
        "    if jogador == 0:\n",
        "        print ('COMPUTADOR VENCEU')\n",
        "    elif jogador == 1:\n",
        "        print ('EMPATE')            \n",
        "    elif jogador == 2:\n",
        "        print ('JGOADOR VENCEU!')\n",
        "    else:\n",
        "        print ('jogada INVÁLDA!')\n",
        "elif computador == 2:\n",
        "    if jogador == 0:\n",
        "        print ('JOGADOR VENCEU')\n",
        "    elif jogador == 1:\n",
        "        print ('COMPUTADOR VENCEU')            \n",
        "    elif jogador == 2:\n",
        "        print ('EMTAPE!')\n",
        "    else:\n",
        "        print ('jogada INVÁLDA!')"
      ],
      "execution_count": null,
      "outputs": [
        {
          "output_type": "stream",
          "name": "stdout",
          "text": [
            "digite sua opção, jogador!\n",
            "[0] PEDRA\n",
            "[1] PAPEL\n",
            "[2] TESOURA\n",
            "2\n",
            "JO\n",
            "KEN\n",
            "PÔ\n",
            "=-=-=-=-=-=-=-=-=-=-\n",
            "computador escolheu TESOURA\n",
            "jogador escolheu TESOURA\n",
            "=-=-=-=-=-=-=-=-=-=-\n",
            "EMTAPE!\n"
          ]
        }
      ]
    },
    {
      "cell_type": "markdown",
      "source": [
        "# Aula 13 – Estrutura de repetição for"
      ],
      "metadata": {
        "id": "A__9XpXEa1Hl"
      }
    },
    {
      "cell_type": "code",
      "source": [
        "# by geanclm in 08/12/2021 at 06:45h\n",
        "for i in range (0,10,1):\n",
        "    if i%2==0:\n",
        "        print (f'{i} número par')\n",
        "    elif i%2!=0:\n",
        "        print (f'{i} número ímpar')\n",
        "print ('fim do script for! :-)')"
      ],
      "metadata": {
        "colab": {
          "base_uri": "https://localhost:8080/"
        },
        "id": "uiWmNCPFbLQF",
        "outputId": "d5b1fd19-05ef-4d3d-e39e-0076a57a5a23"
      },
      "execution_count": null,
      "outputs": [
        {
          "output_type": "stream",
          "name": "stdout",
          "text": [
            "0 número par\n",
            "1 número ímpar\n",
            "2 número par\n",
            "3 número ímpar\n",
            "4 número par\n",
            "5 número ímpar\n",
            "6 número par\n",
            "7 número ímpar\n",
            "8 número par\n",
            "9 número ímpar\n",
            "fim do script for! :-)\n"
          ]
        }
      ]
    },
    {
      "cell_type": "code",
      "source": [
        "# Curso em Vídeo - PYTHON 3 - MUNDO 2\n",
        "# Exercício Python 46:\n",
        "# by geanclm in 19/02/2022 at 06:09h\n",
        "\n",
        "# Faça um programa que mostre na tela uma contagem regressiva para o estouro de fogos de artifício,\n",
        "# indo de 10 até 0, com uma pausa de 1 segundo entre eles.\n",
        "from time import sleep\n",
        "for i in range (10,-1,-1):\n",
        "    print (i, end=' ')\n",
        "    sleep(1)\n",
        "print ('Boom! Parabéns, você conseguiu! :-)')"
      ],
      "metadata": {
        "id": "-UdeCIjDfzma",
        "colab": {
          "base_uri": "https://localhost:8080/"
        },
        "outputId": "ba93d033-2c2f-41d4-a9ac-2c6a8b8bd944"
      },
      "execution_count": null,
      "outputs": [
        {
          "output_type": "stream",
          "name": "stdout",
          "text": [
            "10 9 8 7 6 5 4 3 2 1 0 Boom! Parabéns, você conseguiu! :-)\n"
          ]
        }
      ]
    },
    {
      "cell_type": "code",
      "source": [
        "# Curso em Vídeo - PYTHON 3 - MUNDO 2\n",
        "# Exercício Python 47:\n",
        "# Crie um programa que mostre na tela todos\n",
        "# os números pares que estão no intervalo entre 1 e 50. \n",
        "# by geanclm in 24/02/2022 at 06:22h\n",
        "\n",
        "for i in range (2,50,2):\n",
        "    # print ('.',end=' ') # o laço precisa verificar cada iteração!\n",
        "    if i%2 == 0:\n",
        "        print (i, end=' ')"
      ],
      "metadata": {
        "id": "iHa_OpcYOH80",
        "colab": {
          "base_uri": "https://localhost:8080/"
        },
        "outputId": "31f099f4-7a49-4806-d391-be2feab3e2d9"
      },
      "execution_count": null,
      "outputs": [
        {
          "output_type": "stream",
          "name": "stdout",
          "text": [
            "2 4 6 8 10 12 14 16 18 20 22 24 26 28 30 32 34 36 38 40 42 44 46 48 "
          ]
        }
      ]
    },
    {
      "cell_type": "code",
      "source": [
        "# Exercício Python 48:\n",
        "# Faça um programa que calcule a\n",
        "# soma entre todos os números ímpares que são múltiplos de três\n",
        "# e que se encontram no intervalo de 1 até 500.\n",
        "# by geanclm in 24/02/2022 at 07:13h\n",
        "c,n = 0,0\n",
        "for i in range (1,501,2):            \n",
        "    if i%3 == 0:\n",
        "        print (i, end=' ')       \n",
        "        n += 1\n",
        "        c += i\n",
        "print (f'''\n",
        "        a soma dos {n} múltiplos de 3 é igual a {c} ''')"
      ],
      "metadata": {
        "colab": {
          "base_uri": "https://localhost:8080/"
        },
        "id": "d499SAWzFLak",
        "outputId": "89a3def2-7c6f-4c68-f4d3-b0e4a7fc18b0"
      },
      "execution_count": null,
      "outputs": [
        {
          "output_type": "stream",
          "name": "stdout",
          "text": [
            "3 9 15 21 27 33 39 45 51 57 63 69 75 81 87 93 99 105 111 117 123 129 135 141 147 153 159 165 171 177 183 189 195 201 207 213 219 225 231 237 243 249 255 261 267 273 279 285 291 297 303 309 315 321 327 333 339 345 351 357 363 369 375 381 387 393 399 405 411 417 423 429 435 441 447 453 459 465 471 477 483 489 495 \n",
            "        a soma dos 83 múltiplos de 3 é igual a 20667 \n"
          ]
        }
      ]
    },
    {
      "cell_type": "code",
      "source": [
        "# Exercício 49 – Tabuada v.2.0\n",
        "# Refaça o DESAFIO 9, mostrando a tabuada de um número\n",
        "# que o usuário escolher, só que agora utilizando um laço for\n",
        "# by geanclm in 25/02/2022 at 06:46h\n",
        "\n",
        "# apresentando o mesmo resultado com List comprehension\n",
        "n = int(input('digite um número para a tabuada: '))\n",
        "[f'''{n} x {i} = {n*i}''' for i in range(1,10)]"
      ],
      "metadata": {
        "id": "p07nP09JNkRd",
        "colab": {
          "base_uri": "https://localhost:8080/"
        },
        "outputId": "b4f5c6c0-3cd7-4e57-d580-b399da30f39a"
      },
      "execution_count": null,
      "outputs": [
        {
          "name": "stdout",
          "output_type": "stream",
          "text": [
            "digite um número para a tabuada: 5\n"
          ]
        },
        {
          "output_type": "execute_result",
          "data": {
            "text/plain": [
              "['5 x 1 = 5',\n",
              " '5 x 2 = 10',\n",
              " '5 x 3 = 15',\n",
              " '5 x 4 = 20',\n",
              " '5 x 5 = 25',\n",
              " '5 x 6 = 30',\n",
              " '5 x 7 = 35',\n",
              " '5 x 8 = 40',\n",
              " '5 x 9 = 45']"
            ]
          },
          "metadata": {},
          "execution_count": 14
        }
      ]
    },
    {
      "cell_type": "code",
      "source": [
        "%time [i for i in 'Curso em Vídeo' if i in 'aeiou']"
      ],
      "metadata": {
        "colab": {
          "base_uri": "https://localhost:8080/"
        },
        "id": "4PxyynspSVMa",
        "outputId": "e465ab9a-56ba-406f-93ad-f1c5b685d0fd"
      },
      "execution_count": null,
      "outputs": [
        {
          "output_type": "stream",
          "name": "stdout",
          "text": [
            "CPU times: user 10 µs, sys: 1 µs, total: 11 µs\n",
            "Wall time: 15.3 µs\n"
          ]
        },
        {
          "output_type": "execute_result",
          "data": {
            "text/plain": [
              "['u', 'o', 'e', 'e', 'o']"
            ]
          },
          "metadata": {},
          "execution_count": 1
        }
      ]
    },
    {
      "cell_type": "code",
      "source": [
        "# Exercício Python 50: Desenvolva um programa que leia seis números inteiros\n",
        "# e mostre a soma apenas daqueles que forem pares. Se o valor digitado for ímpar, desconsidere-o.\n",
        "# by geanclm in 26/02/2022 in 06:34h\n",
        "n,p,o,ni,np = 1,0,1,0,0\n",
        "while (n!=0):\n",
        "    n = int(input(f'''digite o {o}º número inteiro ou zero se para finalizar: '''))\n",
        "    if (n%2 == 0) and (n != 0):\n",
        "        p += n\n",
        "        np += 1\n",
        "    elif (n%2 != 0) and (n != 0):\n",
        "        ni += 1\n",
        "    o += 1\n",
        "print (f'''\n",
        "        você digitou {np} número(s) pare(s) e a soma é {p},\n",
        "       e tentou {ni} número(s) ímpares.''')"
      ],
      "metadata": {
        "id": "rkOvtSmga3SR",
        "colab": {
          "base_uri": "https://localhost:8080/"
        },
        "outputId": "07b1cae4-8bbb-4c59-a2af-11c2d77365c9"
      },
      "execution_count": null,
      "outputs": [
        {
          "output_type": "stream",
          "name": "stdout",
          "text": [
            "digite o 1º número inteiro ou zero se para finalizar: 1\n",
            "digite o 2º número inteiro ou zero se para finalizar: 3\n",
            "digite o 3º número inteiro ou zero se para finalizar: 0\n",
            "\n",
            "        você digitou 0 número(s) pare(s) e a soma é 0,\n",
            "       e tentou 2 número(s) ímpares.\n"
          ]
        }
      ]
    },
    {
      "cell_type": "code",
      "source": [
        "# Exercício Python 51: Desenvolva um programa que leia o primeiro termo\n",
        "# e a razão de uma PA. No final, mostre os 10 primeiros termos dessa progressão.\n",
        "# by geanclm in 17/02/2022 at 09:24h\n",
        "\n",
        "n = int(input(f'''primeiro termo da Progressão aritmética: '''))\n",
        "r = int(input(f'''razão da PA: '''))\n",
        "\n",
        "# # solução geanclm\n",
        "# limite = 10\n",
        "# c = 0\n",
        "# for i in range (n,100,r):\n",
        "#     print (i, end=', ')\n",
        "#     c += 1\n",
        "#     if c == limite:\n",
        "#         break\n",
        "# print ('ACABOU!')\n",
        "\n",
        "# solução Curso em Video\n",
        "limite = n+(10-1)*r \n",
        "for i in range (n,limite+r,r):\n",
        "    print (i, end=', ')    \n",
        "print ('ACABOU!')"
      ],
      "metadata": {
        "colab": {
          "base_uri": "https://localhost:8080/"
        },
        "id": "_CtZhSjFbNAQ",
        "outputId": "dedd8f86-c8ca-4d93-f1d6-4a8c8eac4f86"
      },
      "execution_count": null,
      "outputs": [
        {
          "output_type": "stream",
          "name": "stdout",
          "text": [
            "primeiro termo da Progressão aritmética: 1\n",
            "razão da PA: 2\n",
            "1, 3, 5, 7, 9, 11, 13, 15, 17, 19, ACABOU!\n"
          ]
        }
      ]
    },
    {
      "cell_type": "code",
      "source": [
        "# Exercício Python 52: Faça um programa que leia um número\n",
        "# inteiro e diga se ele é ou não um número primo. \n",
        "# by geanclm in 27/02/2022 at 10:43h\n",
        "n = int(input(f'''digite um número inteiro: '''))\n",
        "c = 0\n",
        "for i in range (1,n+1):\n",
        "    if (n%i == 0):\n",
        "        print ('\\033[33m', end=' ')\n",
        "        c += 1\n",
        "    else:\n",
        "        print ('\\033[31m', end=' ')\n",
        "    print ('{}'.format(i), end=' ')\n",
        "print (f'''\\n\\033\n",
        "O número {n} é divisível {c} vezes''')\n",
        "if c == 2:\n",
        "    print ('NÚMERO PRIMO')\n",
        "else:\n",
        "    print ('NÃO É UM NÚMERO PRIMO')"
      ],
      "metadata": {
        "colab": {
          "base_uri": "https://localhost:8080/"
        },
        "id": "asNYIhsJMJPn",
        "outputId": "e6873831-c47f-4fce-d1c1-456cb328af2d"
      },
      "execution_count": null,
      "outputs": [
        {
          "output_type": "stream",
          "name": "stdout",
          "text": [
            "digite um número inteiro: 13\n",
            "\u001b[33m 1 \u001b[31m 2 \u001b[31m 3 \u001b[31m 4 \u001b[31m 5 \u001b[31m 6 \u001b[31m 7 \u001b[31m 8 \u001b[31m 9 \u001b[31m 10 \u001b[31m 11 \u001b[31m 12 \u001b[33m 13 \n",
            "\u001b\n",
            "O número 13 é divisível 2 vezes\n",
            "NÚMERO PRIMO\n"
          ]
        }
      ]
    },
    {
      "cell_type": "code",
      "source": [
        "# Exercício Python 53: Crie um programa que leia uma frase qualquer\n",
        "# e diga se ela é um palíndromo, desconsiderando os espaços.\n",
        "# Exemplos de palíndromos:\n",
        "# APOS A SOPA, A SACADA DA CASA, A TORRE DA DERROTA,\n",
        "# O LOBO AMA O BOLO, ANOTARAM A DATA DA MARATONA\n",
        "# by geanclm in 28/02/2022 at 08:54h\n",
        "\n",
        "f = input(f'''digite um número inteiro: ''')\n",
        "t = f.strip().upper().split()\n",
        "junto = ''.join(t)\n",
        "inverso = ''\n",
        "\n",
        "for i in range(len(junto)-1,-1,-1):\n",
        "    inverso += (junto[i])\n",
        "\n",
        "if junto != inverso:\n",
        "    mensagem = 'NÃO É PALÍNDROMO'\n",
        "else:\n",
        "    mensagem = 'É PALÍNDROMO'\n",
        "\n",
        "# =-=-=-=-=\n",
        "inverso2 = junto[::-1] # forma rápica de inverter string no python\n",
        "# =-=-=-=-=\n",
        "\n",
        "print(f'''\n",
        "texto em lista: {t}\n",
        "=-=-=-=-=\n",
        "texto sem espaços: {junto}\n",
        "texto inverso: {inverso}\n",
        "texto inverso2: {inverso2}\n",
        "=-=-=-=-=\n",
        "o texto digitado {mensagem}\n",
        "''')"
      ],
      "metadata": {
        "id": "gVqlBwNfbinR",
        "colab": {
          "base_uri": "https://localhost:8080/"
        },
        "outputId": "f36499b6-e743-4063-dfea-9ba029fdc37b"
      },
      "execution_count": null,
      "outputs": [
        {
          "output_type": "stream",
          "name": "stdout",
          "text": [
            "digite um número inteiro: Gean Carlos\n",
            "\n",
            "texto em lista: ['GEAN', 'CARLOS']\n",
            "=-=-=-=-=\n",
            "texto sem espaços: GEANCARLOS\n",
            "texto inverso: SOLRACNAEG\n",
            "texto inverso2: SOLRACNAEG\n",
            "=-=-=-=-=\n",
            "o texto digitado NÃO É PALÍNDROMO\n",
            "\n"
          ]
        }
      ]
    },
    {
      "cell_type": "code",
      "source": [
        "# Exercício Python 54: Crie um programa que leia o ano de nascimento de sete pessoas.\n",
        "# No final, mostre quantas pessoas ainda não atingiram a maioridade e quantas já são maiores\n",
        "# by geanclm in 01/02/2022 at 10:18h\n",
        "\n",
        "from datetime import date\n",
        "anoatual = date.today().year\n",
        "anos, maior, menor, maioridade = [],0,0,21\n",
        "for i in range(0,7,1):\n",
        "    anos.append(int(input(f'''Ano de nasc da {i+1}º pessoa: ''')))\n",
        "    if (anoatual-anos[i]>0):\n",
        "        if (anoatual-anos[i]<maioridade):\n",
        "            print (f'''Pessoa com  {anoatual-anos[i]} anos, menor de idade''')\n",
        "            menor += 1\n",
        "        elif (anoatual-anos[i]>=maioridade):\n",
        "            print (f'''Pessoa com  {anoatual-anos[i]} anos, maior de idade''')\n",
        "            maior += 1\n",
        "    else:\n",
        "        print ('você digitou um ano acima do tempo atual')\n",
        "        break\n",
        "print (f'''\n",
        "        TOTAL DE ENTRADAS\n",
        "        MENOR DE IDADE: {menor}\n",
        "        MAIOR DE IDADE: {maior}''')"
      ],
      "metadata": {
        "id": "yrayYW1TD_1_",
        "colab": {
          "base_uri": "https://localhost:8080/"
        },
        "outputId": "802d79dd-27c1-4710-fd30-7b466c7360e9"
      },
      "execution_count": null,
      "outputs": [
        {
          "output_type": "stream",
          "name": "stdout",
          "text": [
            "Ano de nasc da 1º pessoa: 1975\n",
            "Pessoa com  47 anos, maior de idade\n",
            "Ano de nasc da 2º pessoa: 2015\n",
            "Pessoa com  7 anos, menor de idade\n",
            "Ano de nasc da 3º pessoa: 1985\n",
            "Pessoa com  37 anos, maior de idade\n",
            "Ano de nasc da 4º pessoa: 2020\n",
            "Pessoa com  2 anos, menor de idade\n",
            "Ano de nasc da 5º pessoa: 2021\n",
            "Pessoa com  1 anos, menor de idade\n",
            "Ano de nasc da 6º pessoa: 2010\n",
            "Pessoa com  12 anos, menor de idade\n",
            "Ano de nasc da 7º pessoa: 1988\n",
            "Pessoa com  34 anos, maior de idade\n",
            "\n",
            "        TOTAL DE ENTRADAS\n",
            "        MENOR DE IDADE: 4\n",
            "        MAIOR DE IDADE: 3\n"
          ]
        }
      ]
    },
    {
      "cell_type": "code",
      "source": [
        "# Exercício Python 55: Faça um programa que leia o peso de cinco pessoas.\n",
        "# No final, mostre qual foi o maior e o menor peso lidos.\n",
        "# by geanclm in 03/03/2022 at 09:18h\n",
        "maior, menor =  0, 0\n",
        "for i in range(0,5):\n",
        "    m = float(input(f'''Massa da {i+1}º pessoa: '''))\n",
        "    if menor == 0:\n",
        "        menor = m\n",
        "    else:\n",
        "        if m > maior:\n",
        "            maior = m \n",
        "        if m < menor:\n",
        "            menor = m\n",
        "print (f'''\n",
        "        MAIOR MASSA: {maior}Kg\n",
        "        MENOR MASSA: {menor}Kg''')"
      ],
      "metadata": {
        "colab": {
          "base_uri": "https://localhost:8080/"
        },
        "id": "YtwByBOwrssK",
        "outputId": "adbd9c16-584a-4aff-cf20-5cf00079462b"
      },
      "execution_count": null,
      "outputs": [
        {
          "output_type": "stream",
          "name": "stdout",
          "text": [
            "Massa da 1º pessoa: 80\n",
            "Massa da 2º pessoa: 65.5\n",
            "Massa da 3º pessoa: 45.9\n",
            "Massa da 4º pessoa: 55\n",
            "Massa da 5º pessoa: 110.5\n",
            "\n",
            "        MAIOR MASSA: 110.5 Kg\n",
            "        MENOR MASSA: 45.9 Kg\n"
          ]
        }
      ]
    },
    {
      "cell_type": "code",
      "source": [
        "# Exercício Python 56: Desenvolva um programa que leia\n",
        "# nome, idade e sexo\n",
        "# de 4 pessoas. No final do programa, mostre:\n",
        "# a média de idade do grupo, qual é o nome do homem mais velho\n",
        "# e quantas mulheres têm menos de 20 anos.\n",
        "nome, idade, sexo = [],[],[]\n",
        "ihmv, immn, qm20, nhmv = 0, 0, 0,''\n",
        "acumulador, soma, m = 0,0,0\n",
        "for i in range(0,4):\n",
        "    nome.append(str(input(f'''Nome da {i+1}º pessoa: ''')).strip())\n",
        "    idade.append(int(input(f'''Idade da {i+1}º pessoa: ''')))\n",
        "    sexo.append(str(input(f'''Sexo [M/F] {i+1}º pessoa: ''')).strip())\n",
        "    if immn == 0:\n",
        "        immn =idade[i]\n",
        "    if (idade[i] > ihmv)and (sexo[i] in 'Mm'):\n",
        "        ihmv = idade[i]\n",
        "        nhmv = nome[i] \n",
        "    elif (idade[i] < immn) and (sexo[i] in'Ff'):\n",
        "        immn = idade[i]\n",
        "    if immn < 20:\n",
        "        qm20 += 1\n",
        "    acumulador += 1\n",
        "    soma += idade[i]\n",
        "m = (soma/acumulador) # média das idades       \n",
        "print (f'''\n",
        "REGISTRO DE DADOS\n",
        "Homem de maior idade na base de dados: {nhmv}, {ihmv} anos\n",
        "Quantidade de mulheres abaixo de 20 anos: {qm20}\n",
        "Média de idades na base de dados: {m}\n",
        "''')"
      ],
      "metadata": {
        "colab": {
          "base_uri": "https://localhost:8080/"
        },
        "id": "y9ZyDoiy09Uf",
        "outputId": "8f932b6b-31bd-4dab-c829-a4963f830df2"
      },
      "execution_count": null,
      "outputs": [
        {
          "output_type": "stream",
          "name": "stdout",
          "text": [
            "Nome da 1º pessoa: Jéssica\n",
            "Idade da 1º pessoa: 23\n",
            "Sexo [M/F] 1º pessoa: F\n",
            "Nome da 2º pessoa: Cláudio\n",
            "Idade da 2º pessoa: 12\n",
            "Sexo [M/F] 2º pessoa: M\n",
            "Nome da 3º pessoa: Pedro\n",
            "Idade da 3º pessoa: 75\n",
            "Sexo [M/F] 3º pessoa: M\n",
            "Nome da 4º pessoa: Maria\n",
            "Idade da 4º pessoa: 15\n",
            "Sexo [M/F] 4º pessoa: F\n",
            "\n",
            "REGISTRO DE DADOS\n",
            "Homem de maior idade na base de dados: Pedro, 75 anos\n",
            "Quantidade de mulheres abaixo de 20 anos: 1\n",
            "Média de idades na base de dados: 31.25\n",
            "\n"
          ]
        }
      ]
    },
    {
      "cell_type": "code",
      "source": [
        "(47+19)/2"
      ],
      "metadata": {
        "colab": {
          "base_uri": "https://localhost:8080/"
        },
        "id": "MuZ7kFcMYrP-",
        "outputId": "c7fc0cb5-e9c7-4608-c648-0650d9ec5fa4"
      },
      "execution_count": null,
      "outputs": [
        {
          "output_type": "execute_result",
          "data": {
            "text/plain": [
              "33.0"
            ]
          },
          "metadata": {},
          "execution_count": 34
        }
      ]
    },
    {
      "cell_type": "code",
      "source": [
        ""
      ],
      "metadata": {
        "id": "K2luRFFzYvao"
      },
      "execution_count": null,
      "outputs": []
    },
    {
      "cell_type": "markdown",
      "source": [
        "# Aula 14 – Estrutura de repetição while"
      ],
      "metadata": {
        "id": "2Siyaxt6rf5K"
      }
    },
    {
      "cell_type": "code",
      "source": [
        "c = 0\n",
        "while c < 10:\n",
        "    print (c, end=' ')\n",
        "    c += 1"
      ],
      "metadata": {
        "colab": {
          "base_uri": "https://localhost:8080/"
        },
        "id": "zNMhRiqRrh4q",
        "outputId": "00e5d90e-bc78-40b8-9e06-29533c51a2f7"
      },
      "execution_count": null,
      "outputs": [
        {
          "output_type": "stream",
          "name": "stdout",
          "text": [
            "0 1 2 3 4 5 6 7 8 9 "
          ]
        }
      ]
    },
    {
      "cell_type": "code",
      "source": [
        "# Exercício Python 57: Faça um programa que leia o sexo de uma pessoa, mas só aceite os valores ‘M’ ou ‘F’.\n",
        "# Caso esteja errado, peça a digitação novamente até ter um valor correto.\n",
        "# by geanclm in 04/03/2022 at 08:33h\n",
        "while True:\n",
        "    s = str(input('digiteo o sexo [M/F]: ')).strip().upper()[0]\n",
        "    if s in 'MF':\n",
        "        break\n",
        "    else:    \n",
        "        print ('Favor digitar uma opção válida [M/F]: ')\n",
        "print (f'''sexo informado no sistema: {s}''')"
      ],
      "metadata": {
        "colab": {
          "base_uri": "https://localhost:8080/"
        },
        "id": "M7TClP_Gpc7a",
        "outputId": "f4af06fe-8656-47eb-a02c-0d37613f8df4"
      },
      "execution_count": null,
      "outputs": [
        {
          "output_type": "stream",
          "name": "stdout",
          "text": [
            "digiteo o sexo [M/F]:       feminino\n",
            "sexo informado no sistema: F\n"
          ]
        }
      ]
    },
    {
      "cell_type": "code",
      "source": [
        "# Exercício Python 58: Melhore o jogo do DESAFIO 28 onde o computador vai “pensar”\n",
        "# em um número entre 0 e 10. Só que agora o jogador vai tentar adivinhar até acertar,\n",
        "# mostrando no final quantos palpites foram necessários para vencer.\n",
        "# - - -\n",
        "# Recomendação ao canal Curso em Vídeo para novos cursos:\n",
        "# Data science\n",
        "# Criação de Games\n",
        "# Edição de vídeos\n",
        "# Projeto científico\n",
        "# Segurança da informação\n",
        "# - - -\n",
        "# by geanclm in 05/03/2022 at 10h\n",
        "\n",
        "# Import lib\n",
        "from  random import randint\n",
        "\n",
        "# Solution\n",
        "number_c, c = randint(0,10),0\n",
        "while True:\n",
        "    number_h = (int(input('digite um número entre 0 e 10: ')))\n",
        "#     print(f'''computador {number_c[0]}''')\n",
        "#     print(f'''humano {number_h}''')\n",
        "    if number_c == number_h:\n",
        "        print ('\\nvoce acertou! PARABÉNS!\\n')\n",
        "        print ('número da sorte', number_c)\n",
        "        print ('seu número digitado:', number_h)\n",
        "        break\n",
        "    else:\n",
        "        if (number_h < number_c):\n",
        "            print ('...ainda não acertou! Tente um número MAIOR :-)')\n",
        "        if (number_h > number_c):\n",
        "            print ('...ainda não acertou! Tente um número MENOR :-)')\n",
        "        c += 1\n",
        "print (f'''\n",
        "Número de tentativas: {c}''')"
      ],
      "metadata": {
        "id": "uDG1OEaJp91S",
        "colab": {
          "base_uri": "https://localhost:8080/"
        },
        "outputId": "e54303f2-a80d-4d7f-a21a-7c01d22f6709"
      },
      "execution_count": null,
      "outputs": [
        {
          "output_type": "stream",
          "name": "stdout",
          "text": [
            "digite um número entre 0 e 10: 8\n",
            "...ainda não acertou! Tente um número MAIOR :-)\n",
            "digite um número entre 0 e 10: 9\n",
            "\n",
            "voce acertou! PARABÉNS!\n",
            "\n",
            "número da sorte 9\n",
            "seu número digitado: 9\n",
            "\n",
            "Número de tentativas: 1\n"
          ]
        }
      ]
    },
    {
      "cell_type": "code",
      "source": [
        "# Exercício Python 059: Crie um programa que leia dois valores e mostre um menu na tela:\n",
        "# [ 1 ] somar\n",
        "# [ 2 ] multiplicar\n",
        "# [ 3 ] maior\n",
        "# [ 4 ] novos números\n",
        "# [ 5 ] sair do programa\n",
        "# Seu programa deverá realizar a operação solicitada em cada caso.\n",
        "# by geanclm in 09/03/2022 at 06:01h\n",
        "from time import sleep\n",
        "maior = 0\n",
        "n1 = int(input('Diginte o número 1: '))\n",
        "n2 = int(input('Diginte o número 2: '))\n",
        "menu = 0\n",
        "while menu != 5:\n",
        "    print (f'''\n",
        "    =-=-=-=-=-=-=-=-=-=-=\n",
        "    [ 1 ] somar\n",
        "    [ 2 ] multiplicar\n",
        "    [ 3 ] maior\n",
        "    [ 4 ] novos números\n",
        "    [ 5 ] sir\n",
        "    =-=-=-=-=-=-=-=-=-=-=\n",
        "    ''')\n",
        "    menu = int(input('Digite a opção: '))\n",
        "    if menu == 1:\n",
        "        print (f'Soma dos números {n1}+{n2} é {n1+n2}')\n",
        "        # p = str(input(print (f'''\n",
        "        # Deseja continuar? [S/N]'''))).strip().upper()[0]\n",
        "        # if p == 'N':\n",
        "        #     break\n",
        "    elif menu == 2:\n",
        "        print (f'O produto da operação {n1} * {n2} é {n1*n2}')\n",
        "    elif menu == 3:\n",
        "        if n1 > n2:\n",
        "            maior = n1\n",
        "        else:\n",
        "            maior = n2\n",
        "        print (f'''Entre {n1} e {2}\n",
        "               o maior número é {maior}''')    \n",
        "    elif menu == 4:\n",
        "        n1 = int(input('Diginte o número 1: '))\n",
        "        n2 = int(input('Diginte o número 2: '))     \n",
        "    elif menu == 5:\n",
        "        print('Finalizando...')\n",
        "    else:\n",
        "        print ('Opção inválida! Digite uma opção do MENU, por favor.')\n",
        "    print ('=-='*10)\n",
        "    sleep(2)\n",
        "print ('Volte sempre!')"
      ],
      "metadata": {
        "colab": {
          "base_uri": "https://localhost:8080/"
        },
        "id": "b5acf8xG5C7A",
        "outputId": "e981e8a6-7599-4b98-ae36-c63247e4e3e4"
      },
      "execution_count": 24,
      "outputs": [
        {
          "output_type": "stream",
          "name": "stdout",
          "text": [
            "Diginte o número 1: 7\n",
            "Diginte o número 2: 8\n",
            "\n",
            "    =-=-=-=-=-=-=-=-=-=-=\n",
            "    [ 1 ] somar\n",
            "    [ 2 ] multiplicar\n",
            "    [ 3 ] maior\n",
            "    [ 4 ] novos números\n",
            "    [ 5 ] sir\n",
            "    =-=-=-=-=-=-=-=-=-=-=\n",
            "    \n",
            "Digite uma opção: 3\n",
            "Entre 7 e 2\n",
            "               o maior número é 8\n",
            "=-==-==-==-==-==-==-==-==-==-=\n",
            "\n",
            "    =-=-=-=-=-=-=-=-=-=-=\n",
            "    [ 1 ] somar\n",
            "    [ 2 ] multiplicar\n",
            "    [ 3 ] maior\n",
            "    [ 4 ] novos números\n",
            "    [ 5 ] sir\n",
            "    =-=-=-=-=-=-=-=-=-=-=\n",
            "    \n",
            "Digite uma opção: 4\n",
            "Diginte o número 1: 6\n",
            "Diginte o número 2: 0\n",
            "=-==-==-==-==-==-==-==-==-==-=\n",
            "\n",
            "    =-=-=-=-=-=-=-=-=-=-=\n",
            "    [ 1 ] somar\n",
            "    [ 2 ] multiplicar\n",
            "    [ 3 ] maior\n",
            "    [ 4 ] novos números\n",
            "    [ 5 ] sir\n",
            "    =-=-=-=-=-=-=-=-=-=-=\n",
            "    \n",
            "Digite uma opção: 2\n",
            "O produto da operação 6 * 0 é 0\n",
            "=-==-==-==-==-==-==-==-==-==-=\n",
            "\n",
            "    =-=-=-=-=-=-=-=-=-=-=\n",
            "    [ 1 ] somar\n",
            "    [ 2 ] multiplicar\n",
            "    [ 3 ] maior\n",
            "    [ 4 ] novos números\n",
            "    [ 5 ] sir\n",
            "    =-=-=-=-=-=-=-=-=-=-=\n",
            "    \n",
            "Digite uma opção: 5\n",
            "Finalizando...\n",
            "=-==-==-==-==-==-==-==-==-==-=\n",
            "Volte sempre!\n"
          ]
        }
      ]
    }
  ]
}