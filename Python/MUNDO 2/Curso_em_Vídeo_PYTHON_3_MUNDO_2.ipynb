{
  "nbformat": 4,
  "nbformat_minor": 0,
  "metadata": {
    "colab": {
      "name": "Curso em Vídeo - PYTHON 3 - MUNDO 2.ipynb",
      "provenance": [],
      "collapsed_sections": [
        "ORH0FziVvh-Q"
      ]
    },
    "kernelspec": {
      "name": "python3",
      "display_name": "Python 3"
    }
  },
  "cells": [
    {
      "cell_type": "markdown",
      "metadata": {
        "id": "Iv1JvJMxr_3l"
      },
      "source": [
        "# CURSO EM VÍDEO - PYTHON 3 - MUNDO 2\n",
        "\n",
        "1.   Retomando o estudo em 15/07/2021\n",
        "<p>by geanclm</p>\n",
        "\n",
        "---\n",
        "<p>https://www.python.org/</p>"
      ]
    },
    {
      "cell_type": "markdown",
      "metadata": {
        "id": "ORH0FziVvh-Q"
      },
      "source": [
        "#Aula 12 – Condições Aninhadas"
      ]
    },
    {
      "cell_type": "code",
      "metadata": {
        "colab": {
          "base_uri": "https://localhost:8080/"
        },
        "id": "bUrp-RLypSKl",
        "outputId": "caa3df6e-82f9-4375-f89c-fb1e02695985"
      },
      "source": [
        "import this"
      ],
      "execution_count": null,
      "outputs": [
        {
          "output_type": "stream",
          "name": "stdout",
          "text": [
            "The Zen of Python, by Tim Peters\n",
            "\n",
            "Beautiful is better than ugly.\n",
            "Explicit is better than implicit.\n",
            "Simple is better than complex.\n",
            "Complex is better than complicated.\n",
            "Flat is better than nested.\n",
            "Sparse is better than dense.\n",
            "Readability counts.\n",
            "Special cases aren't special enough to break the rules.\n",
            "Although practicality beats purity.\n",
            "Errors should never pass silently.\n",
            "Unless explicitly silenced.\n",
            "In the face of ambiguity, refuse the temptation to guess.\n",
            "There should be one-- and preferably only one --obvious way to do it.\n",
            "Although that way may not be obvious at first unless you're Dutch.\n",
            "Now is better than never.\n",
            "Although never is often better than *right* now.\n",
            "If the implementation is hard to explain, it's a bad idea.\n",
            "If the implementation is easy to explain, it may be a good idea.\n",
            "Namespaces are one honking great idea -- let's do more of those!\n"
          ]
        }
      ]
    },
    {
      "cell_type": "code",
      "metadata": {
        "id": "-HNJ1LdpBCgA",
        "colab": {
          "base_uri": "https://localhost:8080/"
        },
        "outputId": "81b8e7e4-8bf0-4f7d-f4c6-81cf65515fe3"
      },
      "source": [
        "# DESAFIO 036\n",
        "# ANÁLISE empréstimo bancário\n",
        "# by geanclm in 08/08/2021 19:13h\n",
        "\n",
        "# Input:\n",
        "# Exercício Python 36: Escreva um programa para aprovar o empréstimo bancário\n",
        "# para a compra de uma casa. Pergunte o valor da casa, o salário do comprador\n",
        "# e em quantos anos ele vai pagar. A prestação mensal não pode exceder 30% do salário\n",
        "# ou então o empréstimo será negado.\n",
        "\n",
        "nome_comprador = input('nome comprador: ')\n",
        "salario_comprador = float(input('salário R$: '))\n",
        "preco_casa = float(input('Preço de venda da casa R$: '))\n",
        "numero_parcelas = int(input('números de meses para o pagamento: '))\n",
        "percentual_limite = 0.30\n",
        "limite_parcela_comprador = salario_comprador*percentual_limite\n",
        "parcela_casa = preco_casa/numero_parcelas\n",
        "\n",
        "print (f'''\n",
        "=-=-=-=-=-=-=-=-=-=-=-=-=-=-=\n",
        "NOME COMPRADOR: {nome_comprador}\n",
        "SALÁRIO COMRPADOR: R$ {salario_comprador:.2f}\n",
        "PREÇO DA CASA: R$ {preco_casa:.2f}\n",
        "NÚMERO PARCELAS:  {numero_parcelas}\n",
        "LIMITE PARCELA COMPRADOR: {limite_parcela_comprador:.2f}\n",
        "- - -\n",
        "Parcela mensal do financiamento: {parcela_casa:.2f}\n",
        "=-=-=-=-=-=-=-=-=-=-=-=-=-=-=\n",
        "''')\n",
        "if parcela_casa > limite_parcela_comprador:\n",
        "    print (f'{nome_comprador} o valor da casa excede seu limite de compra')\n",
        "else:\n",
        "    print (f'{nome_comprador} SEU LIMITE ESTÁ DE ACORDO COM O VALOR MENSAL da casa! :-)', end='')"
      ],
      "execution_count": null,
      "outputs": [
        {
          "output_type": "stream",
          "text": [
            "nome comprador: Gean\n",
            "salário R$: 5000\n",
            "Preço de venda da casa R$: 120000\n",
            "números de meses para o pagamento: 120\n",
            "\n",
            "=-=-=-=-=-=-=-=-=-=-=-=-=-=-=\n",
            "NOME COMPRADOR: Gean\n",
            "SALÁRIO COMRPADOR: R$ 5000.00\n",
            "PREÇO DA CASA: R$ 120000.00\n",
            "NÚMERO PARCELAS:  120\n",
            "LIMITE PARCELA COMPRADOR: 1500.00\n",
            "- - -\n",
            "Parcela mensal do financiamento: 1000.00\n",
            "=-=-=-=-=-=-=-=-=-=-=-=-=-=-=\n",
            "\n",
            "Gean SEU LIMITE ESTÁ DE ACORDO COM O VALOR MENSAL! :-)"
          ],
          "name": "stdout"
        }
      ]
    },
    {
      "cell_type": "code",
      "metadata": {
        "colab": {
          "base_uri": "https://localhost:8080/"
        },
        "id": "IDV4xwTXw3vU",
        "outputId": "d5f60a73-84c3-4f89-ca39-03b69c1628d5"
      },
      "source": [
        "import math\n",
        "print(f'The value of pi is approximately {math.pi:,.3f}.')"
      ],
      "execution_count": null,
      "outputs": [
        {
          "output_type": "stream",
          "text": [
            "The value of pi is approximately 3.142.\n"
          ],
          "name": "stdout"
        }
      ]
    },
    {
      "cell_type": "code",
      "metadata": {
        "id": "c6pjyVLZBBLi",
        "colab": {
          "base_uri": "https://localhost:8080/"
        },
        "outputId": "9b0da044-bac8-49e6-8f12-0d9781ffe9af"
      },
      "source": [
        "# DESAFIO 037\n",
        "# CONVERSÃO NÚMERICA\n",
        "# by geanclm in 20/08/2021 17:34h\n",
        "\n",
        "# Input\n",
        "# Exercício Python 37: Escreva um programa em Python que leia um número inteiro\n",
        "# qualquer e peça para o usuário escolher qual será a base de conversão:\n",
        "#  1 para binário, 2 para octal e 3 para hexadecimal.\n",
        "\n",
        "# Output\n",
        "# 1 - conversão\n",
        "\n",
        "n = int(input('digite um número inteiro qualquer: '))\n",
        "print (''' escolha uma forma de conversão numérica:\n",
        "[1] - binário\n",
        "[2] - octal\n",
        "[3] - hexadecimal ''')\n",
        "base = int(input('sua opção: '))\n",
        "if base == 1:\n",
        "    print (f'{n} em binário {bin(n)[2:]}')\n",
        "elif base == 2:\n",
        "    print (f'{n} em octal {oct(n)[2:]}')\n",
        "elif base == 3:\n",
        "    print (f'{n} em hexadecimal {hex(n)[2:]}')\n",
        "else:\n",
        "     print ('favor escolher uma opção válida para convesaão\"')"
      ],
      "execution_count": null,
      "outputs": [
        {
          "output_type": "stream",
          "text": [
            "digite um número inteiro qualquer: 127\n",
            " escolha uma forma de conversão numérica:\n",
            "[1] - binário\n",
            "[2] - octal\n",
            "[3] - hexadecimal \n",
            "sua opção: 2\n",
            "127 em octal 177\n"
          ],
          "name": "stdout"
        }
      ]
    },
    {
      "cell_type": "code",
      "metadata": {
        "id": "PxinOit4B0wf",
        "colab": {
          "base_uri": "https://localhost:8080/"
        },
        "outputId": "b8e12a8e-e7e8-47ed-a504-80eef330b2b3"
      },
      "source": [
        "# # DESAFIO 038\n",
        "# COMPARAR DOIS NÚMEROS\n",
        "# by geanclm in 22/08/2021 15:29h\n",
        "\n",
        "# Input\n",
        "# 1 - dois números quaisquer\n",
        "\n",
        "# Output\n",
        "# 1 - qual é o maior, menor ou se são iguais\n",
        "\n",
        "x,y = [int(n) for n in input('''Digite dois números inteiros\n",
        "Exemplo [3 5]:''').split()]\n",
        "\n",
        "print(f'primeiro número: {x}\\nsegundo número: {y}')\n",
        "if x > y:\n",
        "    print (f'{x} é maior que {y}')\n",
        "elif x < y:\n",
        "    print (f'{x} é menor que {y}')\n",
        "else:\n",
        "    print ('os números digitados são iguais!')"
      ],
      "execution_count": null,
      "outputs": [
        {
          "output_type": "stream",
          "name": "stdout",
          "text": [
            "Digite dois números inteiros\n",
            "Exemplo [3 5]:2 3\n",
            "primeiro número: 2\n",
            "segundo número: 3\n",
            "2 é menor que 3\n"
          ]
        }
      ]
    },
    {
      "cell_type": "code",
      "metadata": {
        "id": "fh-H9sgXCLsg",
        "colab": {
          "base_uri": "https://localhost:8080/"
        },
        "outputId": "cfa879a3-3a22-407a-bb99-fa23cf67ef13"
      },
      "source": [
        "# # DESAFIO 039\n",
        "# by geanclm in 03/09/2021 at 13:08h\n",
        "\n",
        "# Input\n",
        "# 1 - idade de uma pessoa\n",
        "\n",
        "# Output\n",
        "# 1 - informar se vai se alistar\n",
        "# 2 - hora de se alistar\n",
        "# 3 - passou do tempo\n",
        "# 4 - mostrar o tempo que falta\n",
        "\n",
        "# Exercício Python 39: Faça um programa que leia o ano de nascimento de um jovem e informe,\n",
        "# de acordo com a sua idade, se ele ainda vai se alistar ao serviço militar,\n",
        "# se é a hora exata de se alistar ou se já passou do tempo do alistamento.\n",
        "# Seu programa também deverá mostrar o tempo que falta ou que passou do prazo.\n",
        "\n",
        "\n",
        "# DESAFIO: testar se a pessoa é home ou mulher\n",
        "# para entrar ou não na estrutura de controle\n",
        "\n",
        "# =-=-=-=--=-=-=-=-=-=-=-=-=-=-=-=-=-=-=-=-=-=-=-=-=\n",
        "from datetime import datetime\n",
        "agora = data_e_hora.strftime(\"%d/%m/%Y %H:%M\"+\"h\")\n",
        "ano = int(agora[6:10])\n",
        "# =-=-=-=--=-=-=-=-=-=-=-=-=-=-=-=-=-=-=-=-=-=-=-=-=\n",
        "\n",
        "maioridade = 18\n",
        "nasc = int(input('qual o ano do seu nascimento? '))\n",
        "idade = ano - nasc\n",
        "if idade > maioridade:\n",
        "    dif = ano-nasc-maioridade\n",
        "    print (f'''Você nasceu em {nasc}\n",
        "           e neste ano de {ano}\n",
        "           você tem idade igual a {idade} anos e já passou {dif} anos do seu alistamento''')\n",
        "elif idade == maioridade:\n",
        "    print (f'você tem idade igual a {idade} anoa e deve se alistar IMEDIATAMENTE! Corre pra lá agora!')\n",
        "elif idade < maioridade:\n",
        "    dif = maioridade-(ano-nasc)\n",
        "    alistar = ano+dif\n",
        "    print (f'''Neste ano de {ano}\n",
        "    você tem somente {idade} anos\n",
        "    e restam {dif} anos para o alistamento,\n",
        "    ou seja anote na agenda o ano de {alistar}\n",
        "    para se apresentar em uma das\n",
        "    forças armadas do Brasil!''')"
      ],
      "execution_count": null,
      "outputs": [
        {
          "output_type": "stream",
          "name": "stdout",
          "text": [
            "qual o ano do seu nascimento? 2013\n",
            "Neste ano de 2021\n",
            "    você tem somente 8 anos\n",
            "    e restam 10 anos para o alistamento,\n",
            "    ou seja anote na agenda o ano de 2031\n",
            "    para se apresentar em uma das\n",
            "    forças armadas do Brasil!\n"
          ]
        }
      ]
    },
    {
      "cell_type": "code",
      "metadata": {
        "id": "ZlGaoyLhCqIW",
        "colab": {
          "base_uri": "https://localhost:8080/"
        },
        "outputId": "bc60b366-0962-410b-aa23-c9c296d05fa1"
      },
      "source": [
        "# DESAFIO 040\n",
        "# Input\n",
        "# Exercício Python 040: Crie um programa que leia duas notas de um aluno e calcule sua média,\n",
        "# mostrando uma mensagem no final, de acordo com a média atingida:\n",
        "# – Média abaixo de 5.0: REPROVADO\n",
        "# – Média entre 5.0 e 6.9: RECUPERAÇÃO\n",
        "# – Média 7.0 ou superior: APROVADO\n",
        "\n",
        "# by geanclm in 12/09/2021 at 16:50h\n",
        "n1,n2 = [float(n) for n in input('''Digite as duas notas do aluno com espaço''').split()]\n",
        "m = (n1+n2)/2\n",
        "if m < 5:\n",
        "    print (f'aluno com média {m}, REPROVADO!')\n",
        "elif m >= 7:\n",
        "    print (f'aluno com média {m}, APROVADO!')\n",
        "else:\n",
        "    print (f'aluno com média {m}, RECUPERAÇÃO!')"
      ],
      "execution_count": null,
      "outputs": [
        {
          "output_type": "stream",
          "name": "stdout",
          "text": [
            "Digite as duas notas do aluno com espaço2 4\n",
            "aluno com média 3.0, REPROVADO!\n"
          ]
        }
      ]
    },
    {
      "cell_type": "code",
      "metadata": {
        "id": "tRAZqrJdDOri",
        "colab": {
          "base_uri": "https://localhost:8080/"
        },
        "outputId": "a8c9a90a-e92b-4a67-ab4d-d25eb53da3d4"
      },
      "source": [
        "# # DESAFIO 041\n",
        "# by geanclm in 31/10/2021 at 17:19h\n",
        "# Exercício Python 041: A Confederação Nacional de Natação precisa de um programa que leia o ano de nascimento de um atleta e mostre sua categoria, de acordo com a idade:\n",
        "# – Até 9 anos: MIRIM\n",
        "# – Até 14 anos: INFANTIL\n",
        "# – Até 19 anos: JÚNIOR\n",
        "# – Até 25 anos: SÊNIOR\n",
        "# – Acima de 25 anos: MASTER\n",
        "\n",
        "from datetime import date\n",
        "ano_atual = date.today().year\n",
        "\n",
        "nasc = int(input('''Digite o ano de nascimento do atleta: '''))\n",
        "idade = ano_atual - nasc\n",
        "categoria = ['MIRIM', 'INFANTIL', 'JÚNIOR', 'SÊNIOR', 'MASTER']\n",
        "\n",
        "if idade <= 9:\n",
        "    print (f'o atleta nascido em  {nasc} tem {idade} anos e pertence a categgoria {categoria[0]}')\n",
        "elif idade <= 14:\n",
        "    print (f'o atleta nascido em  {nasc} tem {idade} anos e pertence a categgoria {categoria[1]}')\n",
        "elif idade <= 19:\n",
        "    print (f'o atleta nascido em  {nasc} tem {idade} anos e pertence a categgoria {categoria[2]}')\n",
        "elif idade <= 25:\n",
        "    print (f'o atleta nascido em  {nasc} tem {idade} anos e pertence a categgoria {categoria[3]}')\n",
        "else:\n",
        "    print (f'o atleta nascido em  {nasc} tem {idade} anos e pertence a categgoria {categoria[4]}')"
      ],
      "execution_count": null,
      "outputs": [
        {
          "output_type": "stream",
          "name": "stdout",
          "text": [
            "Digite o ano de nascimento do atleta: 1975\n",
            "o atleta nascido em  1975 tem 46 anos e pertence a categgoria MASTER\n"
          ]
        }
      ]
    },
    {
      "cell_type": "code",
      "metadata": {
        "id": "kPNgEtodDoEF",
        "colab": {
          "base_uri": "https://localhost:8080/"
        },
        "outputId": "ecd6f52f-779d-4092-a11a-96b1d875e40b"
      },
      "source": [
        "# # DESAFIO 042\n",
        "# # Input\n",
        "# desafio 035\n",
        "# # Output\n",
        "# triagno equilatero\n",
        "# triangulo isosceles\n",
        "# triangulo escaleno\n",
        "\n",
        "# =-=-=-=-=-=-=-=-=-=-=-=-=-=-=-=-=-=-=-=-=\n",
        "# CONDIÇÃO DE EXXISTÊNCIA DE UM TRIÂNGULO\n",
        "# =-=-=-=-=-=-=-=-=-=-=-=-=-=-=-=-=-=-=-=-=\n",
        "# | b - c | < a < b + c\n",
        "# | a - c | < b < a + c\n",
        "# | a - b | < c < a + b \n",
        "\n",
        "# informar se o triângulo formado é\n",
        "# – EQUILÁTERO: todos os lados iguais\n",
        "# – ISÓSCELES: dois lados iguais, um diferente\n",
        "# – ESCALENO: todos os lados diferentes \n",
        "\n",
        "a = float(input('digite o comprimento da rela 1: '))\n",
        "b = float(input('digite o comprimento da rela 2: '))\n",
        "c = float(input('digite o comprimento da rela 3: '))\n",
        "p = ['EQUILÁTERO', 'ISÓSCELES', 'ESCALENO', 'não forma um triângulo']\n",
        "\n",
        "if ( b - c) < a < (b + c) and (a - c) < b < (a + c) and (a - b) < c < (a + b ):\n",
        "    if (a == b == c):\n",
        "        t = p[0]\n",
        "    elif (a==b) or (b==c) or (a==c):\n",
        "        t = p[1]\n",
        "    else:\n",
        "        t = p[2]\n",
        "    print (f''' as medidas fornecidas formam um triângulo!\n",
        "            e o poligno formado é um {t}''')\n",
        "else:\n",
        "    print(f'o conjunto de medidas forneceidas com {a}, {b} e {c} {p[3]}')"
      ],
      "execution_count": null,
      "outputs": [
        {
          "output_type": "stream",
          "name": "stdout",
          "text": [
            "digite o comprimento da rela 1: 1\n",
            "digite o comprimento da rela 2: 2\n",
            "digite o comprimento da rela 3: 8\n",
            "o conjunto de medidas forneceidas com 1.0, 2.0 e 8.0 não forma um triângulo\n"
          ]
        }
      ]
    },
    {
      "cell_type": "code",
      "metadata": {
        "id": "P-ClVfn2ELlx",
        "colab": {
          "base_uri": "https://localhost:8080/"
        },
        "outputId": "04b7e6b6-c8ee-4e31-903d-a12774be5450"
      },
      "source": [
        "# # DESAFIO 043\n",
        "# by geanclm in 03/12/2021 at 19:48h\n",
        "\n",
        "# Exercício Python 43\n",
        "# Desenvolva uma lógica que leia\n",
        "# o peso\n",
        "# a altura\n",
        "# de uma pessoa,\n",
        "# calcule seu Índice de Massa Corporal (IMC) e mostre seu status, de acordo com a tabela abaixo:\n",
        "\n",
        "# – IMC abaixo de 18,5: Abaixo do Peso\n",
        "# – Entre 18,5 e 25: Peso Ideal\n",
        "# – 25 até 30: Sobrepeso\n",
        "# – 30 até 40: Obesidade\n",
        "# – Acima de 40: Obesidade Mórbida\n",
        "\n",
        "peso = float(input('digite o peso (Kg): '))\n",
        "altu = float(input('digite a altura (m): '))\n",
        "imc = peso/(altu**2)\n",
        "if imc < 18.5:\n",
        "    print (f'imc = {imc:.2f} Abaixo do Peso')\n",
        "elif 18.5 <= imc <= 24.9:\n",
        "    print (f'imc = {imc:.2f} Peso Ideal')\n",
        "elif 25 <= imc <= 29.9:\n",
        "    print (f'imc = {imc:.2f} Sobrepeso')\n",
        "elif 30 <= imc <= 39.9:\n",
        "    print (f'imc = {imc:.2f} Obesidade')    \n",
        "else:\n",
        "    print (f'imc = {imc:.2f} Obesidade Mórbida')"
      ],
      "execution_count": null,
      "outputs": [
        {
          "output_type": "stream",
          "name": "stdout",
          "text": [
            "digite o peso (Kg): 60\n",
            "digite a altura (m): 1.60\n",
            "imc = 23.44 Peso Ideal\n"
          ]
        }
      ]
    },
    {
      "cell_type": "code",
      "metadata": {
        "id": "JcE-M5_FE5uJ",
        "colab": {
          "base_uri": "https://localhost:8080/"
        },
        "outputId": "aba9b88c-c1ec-424b-e381-032ea9230658"
      },
      "source": [
        "# # DESAFIO 044\n",
        "# by geanclm in 05/12/02021\n",
        "# Exercício Python 44: Elabore um programa que calcule o valor a ser pago por um produto, considerando o seu preço normal e condição de pagamento:\n",
        "# – à vista dinheiro/cheque: 10% de desconto\n",
        "# – à vista no cartão: 5% de desconto\n",
        "# – em até 2x no cartão: preço formal \n",
        "# – 3x ou mais no cartão: 20% de juros\n",
        "\n",
        "print('{:=^40}'.format('[ LOJAS geanclm ]'))\n",
        "v = float(input('valor total da venda: R$ '))\n",
        "print ('-=-=-=-=-=-=-=-=-=-=-')\n",
        "f = int(input(f'''Forma de pagamento\n",
        "[1] pagamento em dinheito (10% desc)\n",
        "[2] pagamento à vista com cartão (5% desc)\n",
        "[3] parcela em 2x sem juros\n",
        "[4] parcela em 3x ou mais (juros 20%)\n",
        ": '''))\n",
        "print ('-=-=-=-=-=-=-=-=-=-=-')\n",
        "venda = 'valor total da compra: R$ '+str(v)\n",
        "if f == 1:\n",
        "    pf = v - (v * 0.10)\n",
        "    print (f''' {venda}\n",
        "    valor final para pagamento: R$ {pf}''')\n",
        "elif f == 2:\n",
        "    pf = v - (v * 0.05)\n",
        "    print (f''' {venda}\n",
        "    valor final para pagamento: R$ {pf}''')\n",
        "elif f == 3:\n",
        "    print (f'''{venda}\n",
        "    valor final parcelada em 2x de R$ {v/2}\n",
        "    ''')\n",
        "elif f == 4:\n",
        "    nparc = int(input('número de parcelas: '))\n",
        "    pf4 = v + (v * 0.20)\n",
        "    vparc = float (pf4/nparc)\n",
        "    print (f'''{venda}\n",
        "    valor final para pagamento: R$ {pf4} parcelada em {nparc}x de R$ {vparc:.2f} ''')\n",
        "else:\n",
        "    print ('Opção inválida! Escolha uma das formas de pagamento no menu')"
      ],
      "execution_count": null,
      "outputs": [
        {
          "output_type": "stream",
          "name": "stdout",
          "text": [
            "===========[ LOJAS geanclm ]============\n",
            "valor total da venda: R$ 1000\n",
            "-=-=-=-=-=-=-=-=-=-=-\n",
            "Forma de pagamento\n",
            "[1] pagamento em dinheito (10% desc)\n",
            "[2] pagamento à vista com cartão (5% desc)\n",
            "[3] parcela em 2x sem juros\n",
            "[4] parcela em 3x ou mais (juros 20%)\n",
            ": 5\n",
            "-=-=-=-=-=-=-=-=-=-=-\n",
            "opção inválida! Escolha uma das formas de pagamento no menu\n"
          ]
        }
      ]
    },
    {
      "cell_type": "markdown",
      "source": [
        "\n"
      ],
      "metadata": {
        "id": "7kMIyvW_abP1"
      }
    },
    {
      "cell_type": "code",
      "metadata": {
        "id": "OAQCIK_LFjda",
        "colab": {
          "base_uri": "https://localhost:8080/"
        },
        "outputId": "a92afe79-a5f7-49e1-d41d-24cd501d117f"
      },
      "source": [
        "# DESAFIO 045\n",
        "# jogo Jokenpô\n",
        "from random import randint\n",
        "from time import sleep\n",
        "itens = ('PEDRA','PAPEL','TESOURA')\n",
        "computador = randint(0,2)\n",
        "jogador = int(input(f'''digite sua opção, jogador!\n",
        "[0] PEDRA\n",
        "[1] PAPEL\n",
        "[2] TESOURA\n",
        "'''))\n",
        "print ('JO')\n",
        "sleep (1)\n",
        "print ('KEN')\n",
        "sleep (1)\n",
        "print ('PÔ')\n",
        "sleep (1)\n",
        "print ('=-' *10)\n",
        "print (f'computador escolheu {itens[computador]}')\n",
        "print (f'jogador escolheu {itens[jogador]}')\n",
        "print ('=-' *10)\n",
        "if computador == 0:\n",
        "    if jogador == 0:\n",
        "        print ('EMPATE')\n",
        "    elif jogador == 1:\n",
        "        print ('JOGADOR VENCEU!')            \n",
        "    elif jogador == 2:\n",
        "        print ('COMPUTADOR VENCEU!')\n",
        "    else:\n",
        "        print ('jogada INVÁLDA!')\n",
        "elif computador == 1:\n",
        "    if jogador == 0:\n",
        "        print ('COMPUTADOR VENCEU')\n",
        "    elif jogador == 1:\n",
        "        print ('EMPATE')            \n",
        "    elif jogador == 2:\n",
        "        print ('JGOADOR VENCEU!')\n",
        "    else:\n",
        "        print ('jogada INVÁLDA!')\n",
        "elif computador == 2:\n",
        "    if jogador == 0:\n",
        "        print ('JOGADOR VENCEU')\n",
        "    elif jogador == 1:\n",
        "        print ('COMPUTADOR VENCEU')            \n",
        "    elif jogador == 2:\n",
        "        print ('EMTAPE!')\n",
        "    else:\n",
        "        print ('jogada INVÁLDA!')"
      ],
      "execution_count": null,
      "outputs": [
        {
          "output_type": "stream",
          "name": "stdout",
          "text": [
            "digite sua opção, jogador!\n",
            "[0] PEDRA\n",
            "[1] PAPEL\n",
            "[2] TESOURA\n",
            "2\n",
            "JO\n",
            "KEN\n",
            "PÔ\n",
            "=-=-=-=-=-=-=-=-=-=-\n",
            "computador escolheu TESOURA\n",
            "jogador escolheu TESOURA\n",
            "=-=-=-=-=-=-=-=-=-=-\n",
            "EMTAPE!\n"
          ]
        }
      ]
    },
    {
      "cell_type": "markdown",
      "source": [
        "# Aula 13 – Estrutura de repetição for"
      ],
      "metadata": {
        "id": "A__9XpXEa1Hl"
      }
    },
    {
      "cell_type": "code",
      "source": [
        "# by geanclm in 08/12/2021 at 06:45h\n",
        "for i in range (0,10,1):\n",
        "    if i%2==0:\n",
        "        print (f'{i} número par')\n",
        "    elif i%2!=0:\n",
        "        print (f'{i} número ímpar')\n",
        "print ('fim do script for! :-)')"
      ],
      "metadata": {
        "colab": {
          "base_uri": "https://localhost:8080/"
        },
        "id": "uiWmNCPFbLQF",
        "outputId": "d5b1fd19-05ef-4d3d-e39e-0076a57a5a23"
      },
      "execution_count": 1,
      "outputs": [
        {
          "output_type": "stream",
          "name": "stdout",
          "text": [
            "0 número par\n",
            "1 número ímpar\n",
            "2 número par\n",
            "3 número ímpar\n",
            "4 número par\n",
            "5 número ímpar\n",
            "6 número par\n",
            "7 número ímpar\n",
            "8 número par\n",
            "9 número ímpar\n",
            "fim do script for! :-)\n"
          ]
        }
      ]
    },
    {
      "cell_type": "code",
      "source": [
        "# Curso em Vídeo - PYTHON 3 - MUNDO 2\n",
        "# Exercício Python 46:\n",
        "# by geanclm in 19/02/2022 at 06:09h\n",
        "\n",
        "# Faça um programa que mostre na tela uma contagem regressiva para o estouro de fogos de artifício,\n",
        "# indo de 10 até 0, com uma pausa de 1 segundo entre eles.\n",
        "from time import sleep\n",
        "for i in range (10,-1,-1):\n",
        "    print (i, end=' ')\n",
        "    sleep(1)\n",
        "print ('Boom! Parabéns, você conseguiu! :-)')"
      ],
      "metadata": {
        "id": "-UdeCIjDfzma",
        "colab": {
          "base_uri": "https://localhost:8080/"
        },
        "outputId": "ba93d033-2c2f-41d4-a9ac-2c6a8b8bd944"
      },
      "execution_count": 10,
      "outputs": [
        {
          "output_type": "stream",
          "name": "stdout",
          "text": [
            "10 9 8 7 6 5 4 3 2 1 0 Boom! Parabéns, você conseguiu! :-)\n"
          ]
        }
      ]
    },
    {
      "cell_type": "code",
      "source": [
        "# Curso em Vídeo - PYTHON 3 - MUNDO 2\n",
        "# Exercício Python 47:\n",
        "# Crie um programa que mostre na tela todos\n",
        "# os números pares que estão no intervalo entre 1 e 50. \n",
        "# by geanclm in 24/02/2022 at 06:22h\n",
        "\n",
        "for i in range (2,50,2):\n",
        "    # print ('.',end=' ') # o laço precisa verificar cada iteração!\n",
        "    if i%2 == 0:\n",
        "        print (i, end=' ')"
      ],
      "metadata": {
        "id": "iHa_OpcYOH80",
        "colab": {
          "base_uri": "https://localhost:8080/"
        },
        "outputId": "31f099f4-7a49-4806-d391-be2feab3e2d9"
      },
      "execution_count": 22,
      "outputs": [
        {
          "output_type": "stream",
          "name": "stdout",
          "text": [
            "2 4 6 8 10 12 14 16 18 20 22 24 26 28 30 32 34 36 38 40 42 44 46 48 "
          ]
        }
      ]
    },
    {
      "cell_type": "code",
      "source": [
        "# Exercício Python 48:\n",
        "# Faça um programa que calcule a\n",
        "# soma entre todos os números ímpares que são múltiplos de três\n",
        "# e que se encontram no intervalo de 1 até 500.\n",
        "# by geanclm in 24/02/2022 at 07:13h\n",
        "c,n = 0,0\n",
        "for i in range (1,501,2):            \n",
        "    if i%3 == 0:\n",
        "        print (i, end=' ')       \n",
        "        n += 1\n",
        "        c += i\n",
        "print (f'''\n",
        "        a soma dos {n} múltiplos de 3 é igual a {c} ''')"
      ],
      "metadata": {
        "colab": {
          "base_uri": "https://localhost:8080/"
        },
        "id": "d499SAWzFLak",
        "outputId": "89a3def2-7c6f-4c68-f4d3-b0e4a7fc18b0"
      },
      "execution_count": 65,
      "outputs": [
        {
          "output_type": "stream",
          "name": "stdout",
          "text": [
            "3 9 15 21 27 33 39 45 51 57 63 69 75 81 87 93 99 105 111 117 123 129 135 141 147 153 159 165 171 177 183 189 195 201 207 213 219 225 231 237 243 249 255 261 267 273 279 285 291 297 303 309 315 321 327 333 339 345 351 357 363 369 375 381 387 393 399 405 411 417 423 429 435 441 447 453 459 465 471 477 483 489 495 \n",
            "        a soma dos 83 múltiplos de 3 é igual a 20667 \n"
          ]
        }
      ]
    },
    {
      "cell_type": "code",
      "source": [
        ""
      ],
      "metadata": {
        "id": "p07nP09JNkRd"
      },
      "execution_count": null,
      "outputs": []
    }
  ]
}