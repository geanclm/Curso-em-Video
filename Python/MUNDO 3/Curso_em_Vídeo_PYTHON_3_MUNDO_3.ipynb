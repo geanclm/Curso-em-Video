{
  "nbformat": 4,
  "nbformat_minor": 0,
  "metadata": {
    "colab": {
      "name": "Curso em Vídeo - PYTHON 3 - MUNDO 3.ipynb",
      "provenance": [],
      "collapsed_sections": [
        "Iv1JvJMxr_3l"
      ]
    },
    "kernelspec": {
      "name": "python3",
      "display_name": "Python 3"
    }
  },
  "cells": [
    {
      "cell_type": "markdown",
      "metadata": {
        "id": "Iv1JvJMxr_3l"
      },
      "source": [
        "# CURSO EM VÍDEO - PYTHON 3 - MUNDO 3\n",
        "\n",
        "<p>by geanclm</p>\n",
        "\n",
        "---\n",
        "<p>https://www.python.org/</p>"
      ]
    },
    {
      "cell_type": "markdown",
      "metadata": {
        "id": "ORH0FziVvh-Q"
      },
      "source": [
        "#Aula 16 – Tuplas"
      ]
    },
    {
      "cell_type": "code",
      "source": [
        "# Tuplas são estruturas de dados imutáveis"
      ],
      "metadata": {
        "id": "Mwts5geEeje-"
      },
      "execution_count": null,
      "outputs": []
    },
    {
      "cell_type": "code",
      "source": [
        "frutas = ('banana', 'abacaxi', 'uva', 'goiaba', 'banana', 'banana')"
      ],
      "metadata": {
        "id": "5rP0F13VYerh"
      },
      "execution_count": null,
      "outputs": []
    },
    {
      "cell_type": "code",
      "source": [
        "for i in frutas:\n",
        "    print (i, end=' ')"
      ],
      "metadata": {
        "id": "YatAPOXhYn9a"
      },
      "execution_count": null,
      "outputs": []
    },
    {
      "cell_type": "code",
      "source": [
        "for i in range(0, len(frutas)):\n",
        "    print(frutas[i], end=' ')"
      ],
      "metadata": {
        "id": "xPLPUKyLgll5"
      },
      "execution_count": null,
      "outputs": []
    },
    {
      "cell_type": "code",
      "source": [
        "for i, fruta in enumerate(frutas):\n",
        "    print (i+1, fruta)"
      ],
      "metadata": {
        "id": "dNKzYWdUhpHw"
      },
      "execution_count": null,
      "outputs": []
    },
    {
      "cell_type": "code",
      "source": [
        "print (frutas[:])"
      ],
      "metadata": {
        "id": "HUO2OgJKY0Hp"
      },
      "execution_count": null,
      "outputs": []
    },
    {
      "cell_type": "code",
      "source": [
        "print(sorted(frutas))"
      ],
      "metadata": {
        "id": "O25txfJGiu9q"
      },
      "execution_count": null,
      "outputs": []
    },
    {
      "cell_type": "code",
      "source": [
        "print(len(frutas))"
      ],
      "metadata": {
        "id": "i7Hffl4Ri5cb"
      },
      "execution_count": null,
      "outputs": []
    },
    {
      "cell_type": "code",
      "source": [
        "print(frutas.count('banana'))"
      ],
      "metadata": {
        "id": "eO-WfwYrjc-o"
      },
      "execution_count": null,
      "outputs": []
    },
    {
      "cell_type": "code",
      "source": [
        "print(frutas.index('banana',1))"
      ],
      "metadata": {
        "id": "-RoUhhH5jkHv"
      },
      "execution_count": null,
      "outputs": []
    },
    {
      "cell_type": "code",
      "source": [
        "# Exercício Python 72: Crie um programa que tenha uma dupla totalmente preenchida\n",
        "# com uma contagem por extenso, de zero até vinte.\n",
        "# Seu programa deverá ler um número pelo teclado (entre 0 e 20) e mostrá-lo por extenso.\n",
        "# by geanclm in 17/03/2022 at 07:56h\n",
        "tupla = ('zero', 'um', 'dois', 'três', 'quatro', 'cinco', 'seis', 'sete',\n",
        "         'oito', 'nove', 'dez', 'onze', 'doze', 'treze', 'quatorze',\n",
        "         'quinze', 'dezesseis', 'dezessete', 'dezoito', 'dezenove', 'vinte')\n",
        "continua = ' '\n",
        "while True:\n",
        "    n = int(input('número [0-20]: '))\n",
        "    if  0 <= n <= 20:\n",
        "        print (f'''\n",
        "        Você digitou o número {tupla[n]}''')\n",
        "        continua = str(input('deseja continuar: ')).upper().strip()\n",
        "        if continua not in 'S':\n",
        "            break\n",
        "    else:\n",
        "        print(f'''\n",
        "        DIGITE NOVAMENTE!''', end=' ')\n",
        "print ('FIM DO PROGRAMA')"
      ],
      "metadata": {
        "id": "h47c_yXtkCSH"
      },
      "execution_count": null,
      "outputs": []
    },
    {
      "cell_type": "code",
      "source": [
        "# Exercício Python 73: Crie uma tupla preenchida com os 20 primeiros colocados da\n",
        "# Tabela do Campeonato Brasileiro de Futebol, na ordem de colocação. Depois mostre:\n",
        "# a) Os 5 primeiros times.\n",
        "# b) Os últimos 4 colocados.\n",
        "# c) Times em ordem alfabética.\n",
        "# d) Em que posição está o time da Chapecoense, [Avaí] para esse caso\n",
        "# by geanclm in 20/03/2022 at 10:25h\n",
        "\n",
        "times = ('América-MG', 'Athletico-PR', 'Atlético-GO', 'Atlético-MG', 'Avaí', 'Botafogo',\n",
        "         'Bragantino', 'Ceará', 'Corinthians', 'Coritiba', 'Cuiabá', 'Flamengo', 'Fluminense',\n",
        "         'Fortaleza', 'Goiás', 'Internacional', 'Palmeiras', 'Santos', 'São Paulo', 'Juventude')\n",
        "\n",
        "print ('-'*46)\n",
        "print (f'''DOS TIMES DO BRASILEIRÃO\n",
        "{times[:]}''')\n",
        "\n",
        "print ('-'*46)\n",
        "print (f'''Os cinco primeiros colocados da lista\n",
        "{times[:5]}''')\n",
        "\n",
        "print ('-'*33)\n",
        "print (f'''Os quatro últimos colocados da lista\n",
        "{times[-4:]}''')\n",
        "\n",
        "print ('-'*33)\n",
        "print(f'''Ordem alfabética\n",
        "{(sorted(times))}''')\n",
        "\n",
        "print ('-'*33)\n",
        "print (f'O Avaí está na {(times.index(\"Avaí\",1)+1)}ª posição da tabela')"
      ],
      "metadata": {
        "id": "7keiGA_uZNqo"
      },
      "execution_count": null,
      "outputs": []
    },
    {
      "cell_type": "code",
      "source": [
        "# Exercício Python 074: Crie um programa que vai gerar cinco números aleatórios\n",
        "# e colocar em uma tupla. Depois disso, mostre a listagem de números gerados\n",
        "# e também indique o menor e o maior valor que estão na tupla.\n",
        "# by geanclm in 21/03/2022 at 07:18h\n",
        "from random import sample\n",
        "tupla = sample(range(1, 10),5)\n",
        "\n",
        "# maior = menor = 0\n",
        "# for i in tupla:\n",
        "#     if menor == 0:\n",
        "#         menor = i\n",
        "#     if i < menor:\n",
        "#         menor = i\n",
        "#     if i > maior:\n",
        "#         maior = i\n",
        "\n",
        "maior = max(tupla)\n",
        "menor = min(tupla)\n",
        "\n",
        "print (f'NÚMEROS gerados na tupla: {tupla}')\n",
        "print (f'MAIOR número da sequência: {maior}')\n",
        "print (f'MENOR número da sequência: {menor}')\n",
        "print ('-'*33)\n",
        "print (f'ORDEM CRESCENTE da sequência: {sorted(tupla)}')"
      ],
      "metadata": {
        "colab": {
          "base_uri": "https://localhost:8080/"
        },
        "id": "L2NS20ng_0wC",
        "outputId": "5739e38d-e8fd-4500-bd31-6f6096ee9aa8"
      },
      "execution_count": 37,
      "outputs": [
        {
          "output_type": "stream",
          "name": "stdout",
          "text": [
            "NÚMEROS gerados na tupla: [3, 4, 6, 7, 9]\n",
            "MAIOR número da sequência: 9\n",
            "MENOR número da sequência: 3\n",
            "---------------------------------\n",
            "ORDEM CRESCENTE da sequência: [3, 4, 6, 7, 9]\n"
          ]
        }
      ]
    }
  ]
}