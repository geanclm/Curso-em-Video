{
  "nbformat": 4,
  "nbformat_minor": 0,
  "metadata": {
    "colab": {
      "name": "Curso em Vídeo - PYTHON 3 - MUNDO 3.ipynb",
      "provenance": [],
      "collapsed_sections": []
    },
    "kernelspec": {
      "name": "python3",
      "display_name": "Python 3"
    }
  },
  "cells": [
    {
      "cell_type": "markdown",
      "metadata": {
        "id": "Iv1JvJMxr_3l"
      },
      "source": [
        "# CURSO EM VÍDEO - PYTHON 3 - MUNDO 3\n",
        "\n",
        "<p>by geanclm</p>\n",
        "\n",
        "---\n",
        "<p>https://www.python.org/</p>"
      ]
    },
    {
      "cell_type": "markdown",
      "metadata": {
        "id": "ORH0FziVvh-Q"
      },
      "source": [
        "#Aula 16 – Tuplas"
      ]
    },
    {
      "cell_type": "code",
      "source": [
        "# Tuplas são estruturas de dados imutáveis"
      ],
      "metadata": {
        "id": "Mwts5geEeje-"
      },
      "execution_count": null,
      "outputs": []
    },
    {
      "cell_type": "code",
      "source": [
        "frutas = ('banana', 'abacaxi', 'uva', 'goiaba', 'banana', 'banana')"
      ],
      "metadata": {
        "id": "5rP0F13VYerh"
      },
      "execution_count": null,
      "outputs": []
    },
    {
      "cell_type": "code",
      "source": [
        "for i in frutas:\n",
        "    print (i, end=' ')"
      ],
      "metadata": {
        "id": "YatAPOXhYn9a"
      },
      "execution_count": null,
      "outputs": []
    },
    {
      "cell_type": "code",
      "source": [
        "for i in range(0, len(frutas)):\n",
        "    print(frutas[i], end=' ')"
      ],
      "metadata": {
        "id": "xPLPUKyLgll5"
      },
      "execution_count": null,
      "outputs": []
    },
    {
      "cell_type": "code",
      "source": [
        "for i, fruta in enumerate(frutas):\n",
        "    print (i+1, fruta)"
      ],
      "metadata": {
        "id": "dNKzYWdUhpHw"
      },
      "execution_count": null,
      "outputs": []
    },
    {
      "cell_type": "code",
      "source": [
        "print (frutas[:])"
      ],
      "metadata": {
        "id": "HUO2OgJKY0Hp"
      },
      "execution_count": null,
      "outputs": []
    },
    {
      "cell_type": "code",
      "source": [
        "print(sorted(frutas))"
      ],
      "metadata": {
        "id": "O25txfJGiu9q"
      },
      "execution_count": null,
      "outputs": []
    },
    {
      "cell_type": "code",
      "source": [
        "print(len(frutas))"
      ],
      "metadata": {
        "id": "i7Hffl4Ri5cb"
      },
      "execution_count": null,
      "outputs": []
    },
    {
      "cell_type": "code",
      "source": [
        "print(frutas.count('banana'))"
      ],
      "metadata": {
        "id": "eO-WfwYrjc-o"
      },
      "execution_count": null,
      "outputs": []
    },
    {
      "cell_type": "code",
      "source": [
        "print(frutas.index('banana',1))"
      ],
      "metadata": {
        "id": "-RoUhhH5jkHv"
      },
      "execution_count": null,
      "outputs": []
    },
    {
      "cell_type": "code",
      "source": [
        "# Exercício Python 72: Crie um programa que tenha uma dupla totalmente preenchida\n",
        "# com uma contagem por extenso, de zero até vinte.\n",
        "# Seu programa deverá ler um número pelo teclado (entre 0 e 20) e mostrá-lo por extenso.\n",
        "# by geanclm in 17/03/2022 at 07:56h\n",
        "tupla = ('zero', 'um', 'dois', 'três', 'quatro', 'cinco', 'seis', 'sete',\n",
        "         'oito', 'nove', 'dez', 'onze', 'doze', 'treze', 'quatorze',\n",
        "         'quinze', 'dezesseis', 'dezessete', 'dezoito', 'dezenove', 'vinte')\n",
        "continua = ' '\n",
        "while True:\n",
        "    n = int(input('número [0-20]: '))\n",
        "    if  0 <= n <= 20:\n",
        "        print (f'''\n",
        "        Você digitou o número {tupla[n]}''')\n",
        "        continua = str(input('deseja continuar: ')).upper().strip()\n",
        "        if continua not in 'S':\n",
        "            break\n",
        "    else:\n",
        "        print(f'''\n",
        "        DIGITE NOVAMENTE!''', end=' ')\n",
        "print ('FIM DO PROGRAMA')"
      ],
      "metadata": {
        "id": "h47c_yXtkCSH"
      },
      "execution_count": null,
      "outputs": []
    },
    {
      "cell_type": "code",
      "source": [
        "# Exercício Python 73: Crie uma tupla preenchida com os 20 primeiros colocados da\n",
        "# Tabela do Campeonato Brasileiro de Futebol, na ordem de colocação. Depois mostre:\n",
        "# a) Os 5 primeiros times.\n",
        "# b) Os últimos 4 colocados.\n",
        "# c) Times em ordem alfabética.\n",
        "# d) Em que posição está o time da Chapecoense, [Avaí] para esse caso\n",
        "# by geanclm in 20/03/2022 at 10:25h\n",
        "\n",
        "times = ('América-MG', 'Athletico-PR', 'Atlético-GO', 'Atlético-MG', 'Avaí', 'Botafogo',\n",
        "         'Bragantino', 'Ceará', 'Corinthians', 'Coritiba', 'Cuiabá', 'Flamengo', 'Fluminense',\n",
        "         'Fortaleza', 'Goiás', 'Internacional', 'Palmeiras', 'Santos', 'São Paulo', 'Juventude')\n",
        "\n",
        "print ('-'*46)\n",
        "print (f'''DOS TIMES DO BRASILEIRÃO\n",
        "{times[:]}''')\n",
        "\n",
        "print ('-'*46)\n",
        "print (f'''Os cinco primeiros colocados da lista\n",
        "{times[:5]}''')\n",
        "\n",
        "print ('-'*33)\n",
        "print (f'''Os quatro últimos colocados da lista\n",
        "{times[-4:]}''')\n",
        "\n",
        "print ('-'*33)\n",
        "print(f'''Ordem alfabética\n",
        "{(sorted(times))}''')\n",
        "\n",
        "print ('-'*33)\n",
        "print (f'O Avaí está na {(times.index(\"Avaí\",1)+1)}ª posição da tabela')"
      ],
      "metadata": {
        "id": "7keiGA_uZNqo"
      },
      "execution_count": null,
      "outputs": []
    },
    {
      "cell_type": "code",
      "source": [
        "# Exercício Python 074: Crie um programa que vai gerar cinco números aleatórios\n",
        "# e colocar em uma tupla. Depois disso, mostre a listagem de números gerados\n",
        "# e também indique o menor e o maior valor que estão na tupla.\n",
        "# by geanclm in 21/03/2022 at 07:18h\n",
        "from random import sample\n",
        "tupla = sample(range(1, 10),5)\n",
        "\n",
        "# maior = menor = 0\n",
        "# for i in tupla:\n",
        "#     if menor == 0:\n",
        "#         menor = i\n",
        "#     if i < menor:\n",
        "#         menor = i\n",
        "#     if i > maior:\n",
        "#         maior = i\n",
        "\n",
        "maior = max(tupla)\n",
        "menor = min(tupla)\n",
        "\n",
        "print (f'NÚMEROS gerados na tupla: {tupla}')\n",
        "print (f'MAIOR número da sequência: {maior}')\n",
        "print (f'MENOR número da sequência: {menor}')\n",
        "print ('-'*33)\n",
        "print (f'ORDEM CRESCENTE da sequência: {sorted(tupla)}')"
      ],
      "metadata": {
        "colab": {
          "base_uri": "https://localhost:8080/"
        },
        "id": "L2NS20ng_0wC",
        "outputId": "5739e38d-e8fd-4500-bd31-6f6096ee9aa8"
      },
      "execution_count": null,
      "outputs": [
        {
          "output_type": "stream",
          "name": "stdout",
          "text": [
            "NÚMEROS gerados na tupla: [3, 4, 6, 7, 9]\n",
            "MAIOR número da sequência: 9\n",
            "MENOR número da sequência: 3\n",
            "---------------------------------\n",
            "ORDEM CRESCENTE da sequência: [3, 4, 6, 7, 9]\n"
          ]
        }
      ]
    },
    {
      "cell_type": "code",
      "source": [
        "# https://www.cursoemvideo.com/apoie/\n",
        "# Exercício Python 075: Desenvolva um programa que leia quatro valores pelo teclado\n",
        "# e guarde-os em uma tupla. No final, mostre:\n",
        "# A) Quantas vezes apareceu o valor 9.\n",
        "# B) Em que posição foi digitado o primeiro valor 3.\n",
        "# C) Quais foram os números pares.\n",
        "# by geanclm in 22/03/2022 at 07:06h\n",
        "\n",
        "\n",
        "tupla = (\n",
        "    int(input('digite o primeiro número inteiro: ' )),\n",
        "    int(input('digite o seguento número inteiro: ' )),\n",
        "    int(input('digite o tereceiro número inteiro: ' )),\n",
        "    int(input('digite o último número: ' ))\n",
        "    )\n",
        "\n",
        "# visualização dos resultados finais\n",
        "print ('-'*33)\n",
        "print (f'Valores registrados na tupla: {tupla}')\n",
        "print ('-'*33)\n",
        "\n",
        "# verificação e visualização da entrada dos dados\n",
        "if 9 in tupla:\n",
        "    print (f'O número 9 apareceu {tupla.count(9)} vez(es)')\n",
        "else:\n",
        "    print ('O número 9 não foi registrado na tupla!')\n",
        "if 3 in tupla:\n",
        "    print (f'O número 3 está na posição {tupla.index(3,1)+1}ª da tupla')\n",
        "else:\n",
        "    print ('O número 3 não foi registrado na tupla!')\n",
        "print (f'A tupla tem os seguintes números pares: {[i for i in tupla if i%2 == 0]}')"
      ],
      "metadata": {
        "colab": {
          "base_uri": "https://localhost:8080/"
        },
        "id": "wnqECvsC8h4I",
        "outputId": "e2dd23e7-4664-4db0-e6da-287e1ffd4859"
      },
      "execution_count": null,
      "outputs": [
        {
          "output_type": "stream",
          "name": "stdout",
          "text": [
            "digite o primeiro número inteiro: 1\n",
            "digite o seguento número inteiro: 2\n",
            "digite o tereceiro número inteiro: 4\n",
            "digite o último número: 6\n",
            "---------------------------------\n",
            "Valores registrados na tupla: (1, 2, 4, 6)\n",
            "---------------------------------\n",
            "O número 9 não foi registrado na tupla!\n",
            "O número 3 não foi registrado na tupla!\n",
            "A tupla tem os seguintes pares: [2, 4, 6]\n"
          ]
        }
      ]
    },
    {
      "cell_type": "code",
      "source": [
        "# Exercício Python 076: Crie um programa que tenha uma tupla única com\n",
        "# nomes de produtos e seus respectivos preços, na sequência.\n",
        "# No final, mostre uma listagem\n",
        "# de preços, organizando os dados em forma tabular.\n",
        "# by geanclm in 23/03/2022 at 06:46h\n",
        "\n",
        "produtos = ('lápis',1.75, 'borracha', 2, 'Caderno', 15.90, 'Estojo', 25.00,\n",
        "            'Tranferidor', 4.2, 'Compasso', 9.9, 'Mochila', 120.3,\n",
        "            'Canetas', 22.30, 'Livro', 34.9)\n",
        "\n",
        "print ('-'*33)\n",
        "print ('{:-^33}'.format('| LISTAGEM DE PREÇOS |'))\n",
        "print ('-'*33)\n",
        "for i in (range(0,len(produtos))):\n",
        "    if i%2==0:\n",
        "        print (f'{produtos[i]:.<23}', end=' ')\n",
        "    elif i%2!=0:\n",
        "        print (f'R${produtos[i]:>7,.2f}')\n",
        "print ('-'*33)"
      ],
      "metadata": {
        "id": "10Pf53BoEGv1"
      },
      "execution_count": null,
      "outputs": []
    },
    {
      "cell_type": "code",
      "source": [
        "# Exercício Python 077: Crie um programa que tenha uma tupla com várias palavras\n",
        "# (não usar acentos). Depois disso, você deve mostrar, para cada palavra, quais são as suas vogais.\n",
        "# by geanclm in 24/03/2022 at 07:01h\n",
        "\n",
        "tupla = ('motocicleta','CARRO', 'CASA', 'MOTO', 'BARCO', 'BICICLETA', 'TREM', 'UBER')\n",
        "for i in tupla:\n",
        "    print (f'\\nNa palavra {i} temos:', end=' ')\n",
        "    # if 'A' in i:\n",
        "    #     print ('a', end=' ')\n",
        "    # if 'E' in i:\n",
        "    #     print ('e', end=' ')\n",
        "    # if 'I' in i:\n",
        "    #     print ('i', end=' ')\n",
        "    # if 'O' in i:\n",
        "    #     print ('o', end=' ')\n",
        "    # if 'U' in i:\n",
        "    #     print ('u', end=' ')\n",
        "    for letra in i:\n",
        "        if letra in 'aeiouAEIOU':\n",
        "            print (letra, end=' ')"
      ],
      "metadata": {
        "id": "JSlF_M2sSYA2"
      },
      "execution_count": null,
      "outputs": []
    },
    {
      "cell_type": "markdown",
      "source": [
        "# Aula 17 – Listas (Parte 1)"
      ],
      "metadata": {
        "id": "RWEDdX2metCk"
      }
    },
    {
      "cell_type": "code",
      "source": [
        "lista01 = []"
      ],
      "metadata": {
        "id": "eSIeg5VStC57"
      },
      "execution_count": null,
      "outputs": []
    },
    {
      "cell_type": "code",
      "source": [
        "lista02 = list()"
      ],
      "metadata": {
        "id": "yzpGXuGAtGW7"
      },
      "execution_count": null,
      "outputs": []
    },
    {
      "cell_type": "code",
      "source": [
        "lista = ['gean', 'carlos', 'cientista', 'dados', 'machine learning', 'dados']"
      ],
      "metadata": {
        "id": "qK0fxMDwjuba"
      },
      "execution_count": null,
      "outputs": []
    },
    {
      "cell_type": "code",
      "source": [
        "lista"
      ],
      "metadata": {
        "id": "cKf6J7Fdj5QK"
      },
      "execution_count": null,
      "outputs": []
    },
    {
      "cell_type": "code",
      "source": [
        "# del lista[3]\n",
        "# lista.pop(4)\n",
        "lista.remove('dados')"
      ],
      "metadata": {
        "id": "ewWnwahPjc_r"
      },
      "execution_count": null,
      "outputs": []
    },
    {
      "cell_type": "code",
      "source": [
        "if 'dados' in lista:\n",
        "    lista.remove('dados')\n",
        "else:\n",
        "    print ('dados inexistentes')"
      ],
      "metadata": {
        "id": "zbFfRGpblubz"
      },
      "execution_count": null,
      "outputs": []
    },
    {
      "cell_type": "code",
      "source": [
        "valores = list(range(1,26,5))"
      ],
      "metadata": {
        "id": "qB_LYmkvorGL"
      },
      "execution_count": null,
      "outputs": []
    },
    {
      "cell_type": "code",
      "source": [
        "print (valores, end=' ')"
      ],
      "metadata": {
        "id": "C0NF7UcVov-0"
      },
      "execution_count": null,
      "outputs": []
    },
    {
      "cell_type": "code",
      "source": [
        "lista2 = [2,9,8,1,6,0,7,2,3]"
      ],
      "metadata": {
        "id": "JovndDMmpNeU"
      },
      "execution_count": null,
      "outputs": []
    },
    {
      "cell_type": "code",
      "source": [
        "lista2"
      ],
      "metadata": {
        "id": "q9n0bjUFr1Ob"
      },
      "execution_count": null,
      "outputs": []
    },
    {
      "cell_type": "code",
      "source": [
        "print(sorted(lista2, reverse=True))"
      ],
      "metadata": {
        "id": "Cd1Ioe77plzF"
      },
      "execution_count": null,
      "outputs": []
    },
    {
      "cell_type": "code",
      "source": [
        "len(lista2)"
      ],
      "metadata": {
        "id": "K8y48x0tqM70"
      },
      "execution_count": null,
      "outputs": []
    },
    {
      "cell_type": "code",
      "source": [
        "lista2.append(999)"
      ],
      "metadata": {
        "id": "uPEnKuazrQt6"
      },
      "execution_count": null,
      "outputs": []
    },
    {
      "cell_type": "code",
      "source": [
        "lista2.insert(1,888)"
      ],
      "metadata": {
        "id": "rNyFY5ASrvyl"
      },
      "execution_count": null,
      "outputs": []
    },
    {
      "cell_type": "code",
      "source": [
        "valores = []\n",
        "for i in range(0,2):\n",
        "    valores.append(input('digite um números: '))\n",
        "print('-'*15)\n",
        "for i,n in enumerate(valores):\n",
        "    print (i,n)"
      ],
      "metadata": {
        "id": "b3L31m7iuPTi"
      },
      "execution_count": null,
      "outputs": []
    },
    {
      "cell_type": "code",
      "source": [
        "a = [1,2,3,4,5]\n",
        "b = a[:]\n",
        "b[2] = 888\n",
        "print(f'lista a: {a}')\n",
        "print(f'lista a: {b}')"
      ],
      "metadata": {
        "id": "K5fvt0B6wEMC"
      },
      "execution_count": null,
      "outputs": []
    },
    {
      "cell_type": "code",
      "source": [
        "# https://docs.python.org/pt-br/3/tutorial/datastructures.html?highlight=tupla\n",
        "\n",
        "# Exercício Python 078: Faça um programa que leia 5 valores numéricos e guarde-os em uma lista.\n",
        "# No final, mostre qual foi o maior e o menor valor digitado e as suas respectivas posições na lista.\n",
        "# by geanclm in 25/03/2022 at 09:12h\n",
        "\n",
        "lista = []\n",
        "maior = menor = 0\n",
        "\n",
        "for i in range(0,5):\n",
        "    lista.append(int(input(f'digite um valor na posição {i}: ')))\n",
        "    if menor == 0:\n",
        "        menor = lista[i]\n",
        "    if lista[i] > maior:\n",
        "        maior = lista[i]\n",
        "    if lista[i] < menor:\n",
        "        menor = lista[i]\n",
        "\n",
        "print('-'*15)        \n",
        "print(f'LISTA completa:', end=' ')\n",
        "for i in lista:\n",
        "    print(f'{i}', end=' ')\n",
        "print('\\n')\n",
        "\n",
        "print(f'MENOR valor digitado: {menor}, posição(ões)', end=' ')\n",
        "for i,n in enumerate(lista):\n",
        "    if n == menor:\n",
        "        print(f'{i}... ', end=' ')\n",
        "print(f'\\nMAIOR valor digitado: {maior}, posição(ões)', end=' ')\n",
        "for i,n in enumerate(lista):\n",
        "    if n == maior:\n",
        "         print(f'{i}... ', end=' ')"
      ],
      "metadata": {
        "colab": {
          "base_uri": "https://localhost:8080/"
        },
        "id": "ztMnjqm6z3p1",
        "outputId": "d71fb345-c240-4c66-fc21-a79d141f125c"
      },
      "execution_count": null,
      "outputs": [
        {
          "output_type": "stream",
          "name": "stdout",
          "text": [
            "digite um valor na posição 0: 1\n",
            "digite um valor na posição 1: 8\n",
            "digite um valor na posição 2: 8\n",
            "digite um valor na posição 3: 2\n",
            "digite um valor na posição 4: 1\n",
            "---------------\n",
            "LISTA completa: 1 8 8 2 1 \n",
            "\n",
            "MENOR valor digitado: 1, posição(ões) 0...  4...  \n",
            "MAIOR valor digitado: 8, posição(ões) 1...  2...  "
          ]
        }
      ]
    },
    {
      "cell_type": "code",
      "source": [
        "# Exercício Python 079: Crie um programa onde o usuário possa digitar vários valores\n",
        "# numéricos e cadastre-os em uma lista. Caso o número já exista lá dentro, ele não será adicionado.\n",
        "# No final, serão exibidos todos os valores únicos digitados, em ordem crescente.\n",
        "# by geanclm in 29/03/2022 at 05:30h\n",
        "\n",
        "lista = []\n",
        "while True:\n",
        "    n = int(input(f'digite um número: '))\n",
        "    if n not in lista:\n",
        "        lista.append(n)\n",
        "    else:\n",
        "        print (f'valor {n} já existente na lista!')\n",
        "    continua = str(input('continua? [S/N]: ')).upper().strip()\n",
        "    if continua not in 'S':\n",
        "        break\n",
        "print (sorted(lista))"
      ],
      "metadata": {
        "id": "UYWf75eux_ud"
      },
      "execution_count": null,
      "outputs": []
    },
    {
      "cell_type": "code",
      "source": [
        "# Exercício Python 080: Crie um programa onde o usuário possa digitar cinco valores\n",
        "# numéricos e cadastre-os em uma lista, já na posição correta de inserção (sem usar o sort()).\n",
        "# No final, mostre a lista ordenada na tela.\n",
        "# by geanclm in 03/30/2022 at 07:04h\n",
        "lista = []\n",
        "for i in range(0,5):\n",
        "    n = int(input('digite um número inteiro: '))\n",
        "    if (i == 0) or (n > lista[-1]):\n",
        "        lista.append(n)\n",
        "        print (f'O valor {n} foi inserido no final da lista')\n",
        "    else:\n",
        "        c = 0\n",
        "        while c < len(lista):\n",
        "            if n <= lista[c]:\n",
        "                lista.insert(c,n)\n",
        "                print (f'O valor {n} foi inserido na posição {c} da lista')\n",
        "                break\n",
        "            c += 1\n",
        "print('-'*33)  \n",
        "print (lista)"
      ],
      "metadata": {
        "id": "ScqC4IcZ9duI"
      },
      "execution_count": null,
      "outputs": []
    },
    {
      "cell_type": "code",
      "source": [
        "# Exercício Python 081: Crie um programa que vai ler vários números e colocar em uma lista.\n",
        "# Depois disso, mostre:\n",
        "# A) Quantos números foram digitados.\n",
        "# B) A lista de valores, ordenada de forma decrescente.\n",
        "# C) Se o valor 5 foi digitado e está ou não na lista.\n",
        "# by geanclm in 02/04/2022 at 06:51h\n",
        "lista = []\n",
        "while True:\n",
        "    lista.append(int(input(f'digite um número: ')))\n",
        "    continua = str(input('continua? [S/N]: ')).upper().strip()\n",
        "    if continua not in 'S': break\n",
        "print('-'*33)\n",
        "print (f'lista de números: {lista}')\n",
        "print (f'quantidade de números: {len(lista)}')\n",
        "print (f'ordem decrescente: {sorted(lista, reverse=True)}')\n",
        "if 5 in lista:\n",
        "    print ('O número 5 está na lista')\n",
        "else:\n",
        "    print ('O valor 5 não foi encontrado da lista')"
      ],
      "metadata": {
        "id": "Vv1_BW3XnRqX"
      },
      "execution_count": null,
      "outputs": []
    },
    {
      "cell_type": "code",
      "source": [
        "# Exercício Python 082: Crie um programa que vai ler vários números e colocar em uma lista.\n",
        "# Depois disso, crie duas listas extras que vão conter apenas os valores pares e os valores\n",
        "# ímpares digitados, respectivamente. Ao final, mostre o conteúdo das três listas geradas.\n",
        "# by geanclm in 02/04/2022 at 07:26h\n",
        "lista = pares = ímpares = []\n",
        "while True:\n",
        "    lista.append(int(input(f'digite um número: ')))\n",
        "    continua = str(input('continua? [S/N]: ')).upper().strip()\n",
        "    if continua not in 'S': break\n",
        "for i in lista:\n",
        "    if i%2 == 0:\n",
        "        pares.append(i)\n",
        "    else:\n",
        "        ímpares.append(i)\n",
        "print('-'*33)\n",
        "print(f'lista completa: {lista}')\n",
        "print(f'pares: {pares}')\n",
        "print(f'ímpares: {ímpares}')"
      ],
      "metadata": {
        "id": "IgGJ4TUAxXQ0"
      },
      "execution_count": null,
      "outputs": []
    },
    {
      "cell_type": "code",
      "source": [
        "# Exercício Python 083: Crie um programa onde o usuário digite uma expressão qualquer que use parênteses.\n",
        "# Seu aplicativo deverá analisar se a expressão passada está com os parênteses abertos\n",
        "# e fechados na ordem correta.\n",
        "# by geanclm in 02/04/2022 at 08:28h\n",
        "lista = []\n",
        "expr = str(input(f'digite uma expressão matemática: '))\n",
        "for i in expr:\n",
        "    lista.append(i)\n",
        "if (lista.count('(')) == lista.count(')'):\n",
        "    print ('EXPRESSÃO VÁLIDA')\n",
        "else:\n",
        "    print ('EXPRESSÃO INVÁLIDA')"
      ],
      "metadata": {
        "id": "3pfgnKzs2MyS"
      },
      "execution_count": null,
      "outputs": []
    },
    {
      "cell_type": "markdown",
      "source": [
        "# Aula 18 – Listas (Parte 2)"
      ],
      "metadata": {
        "id": "QOCxu-_Q0ili"
      }
    },
    {
      "cell_type": "code",
      "source": [
        "equipe1 =[['geanclm', 11],['gclm', 22],['clm', 33],['lm', 44]]\n",
        "equipe2 =[['Gean', 10],['Carlos', 20],['Luciano', 30],['Madeira', 40]]"
      ],
      "metadata": {
        "id": "FXOT2GFjGGhK"
      },
      "execution_count": null,
      "outputs": []
    },
    {
      "cell_type": "code",
      "source": [
        "for i in equipe1:\n",
        "    print (f'name: {i[0]} code: {i[1]}')"
      ],
      "metadata": {
        "id": "RfiyytctI5Ny"
      },
      "execution_count": null,
      "outputs": []
    },
    {
      "cell_type": "code",
      "source": [
        "equipe2.append(equipe1[:])"
      ],
      "metadata": {
        "id": "1HrPOcjcG-e7"
      },
      "execution_count": null,
      "outputs": []
    },
    {
      "cell_type": "code",
      "source": [
        "equipe2"
      ],
      "metadata": {
        "id": "y2UCRaz8HdCy"
      },
      "execution_count": null,
      "outputs": []
    },
    {
      "cell_type": "code",
      "source": [
        "equipe2[4][0][0]"
      ],
      "metadata": {
        "id": "0R9vN48hH1EP"
      },
      "execution_count": null,
      "outputs": []
    },
    {
      "cell_type": "code",
      "source": [
        "for i in equipe2:\n",
        "    print (i[0])"
      ],
      "metadata": {
        "id": "EaRHG7Y9IenC"
      },
      "execution_count": null,
      "outputs": []
    },
    {
      "cell_type": "code",
      "source": [
        "dados = []\n",
        "for i in range(0,3):\n",
        "    dados.append(str(input('nome: ')))\n",
        "    dados.append(int(input('idade: ')))\n",
        "    equipe2.append(dados[:])\n",
        "    dados.clear()"
      ],
      "metadata": {
        "id": "CPAmfdfJJ_mS",
        "colab": {
          "base_uri": "https://localhost:8080/"
        },
        "outputId": "ef1cadd2-82b7-4b7d-a13a-7a4669e78ad3"
      },
      "execution_count": null,
      "outputs": [
        {
          "name": "stdout",
          "output_type": "stream",
          "text": [
            "nome: Gean\n",
            "idade: 46\n",
            "nome: Carlos\n",
            "idade: 47\n",
            "nome: Luciano\n",
            "idade: 48\n"
          ]
        }
      ]
    },
    {
      "cell_type": "code",
      "source": [
        "equipe2"
      ],
      "metadata": {
        "colab": {
          "base_uri": "https://localhost:8080/"
        },
        "id": "LFL3gQWKGycT",
        "outputId": "d585765c-563b-452c-cb21-9738384924db"
      },
      "execution_count": null,
      "outputs": [
        {
          "output_type": "execute_result",
          "data": {
            "text/plain": [
              "[['Gean', 10],\n",
              " ['Carlos', 20],\n",
              " ['Luciano', 30],\n",
              " ['Madeira', 40],\n",
              " ['Gean', 46],\n",
              " ['Carlos', 47],\n",
              " ['Luciano', 48]]"
            ]
          },
          "metadata": {},
          "execution_count": 16
        }
      ]
    },
    {
      "cell_type": "code",
      "source": [
        "menor = maior = 0\n",
        "for j in equipe1:\n",
        "    if j[1] >= 21:\n",
        "        print (f'{j[0]} tem code acima de 21')\n",
        "        maior += 1\n",
        "    else:\n",
        "        print (f'{j[0]} tem code abaixo de 21')\n",
        "        menor += 1\n",
        "print ('-'*33)\n",
        "print (f'TOTAL DE CODE ACIMA DE 21: {maior}')\n",
        "print (f'TOTAL DE CODE ABAIXO DE 21: {menor}')"
      ],
      "metadata": {
        "id": "ZMT-a-BeLgDB"
      },
      "execution_count": null,
      "outputs": []
    },
    {
      "cell_type": "code",
      "source": [
        "Exercício Python 084: Faça um programa que leia nome e peso de várias pessoas,                                      guardando tudo em uma lista. No final, mostre:                                                                                                    A) Quantas pessoas foram cadastradas.                                                                                                                B) Uma listagem com as pessoas mais pesadas.                                                                                                    C) Uma listagem com as pessoas mais leves."
      ],
      "metadata": {
        "id": "4S8kxidqCsgC"
      },
      "execution_count": null,
      "outputs": []
    },
    {
      "cell_type": "code",
      "source": [
        "# Exercício Python 084: Faça um programa que leia nome e peso de várias pessoas,\n",
        "# guardando tudo em uma lista. No final, mostre:\n",
        "# A) Quantas pessoas foram cadastradas.\n",
        "# B) Uma listagem com as pessoas mais pesadas.\n",
        "# C) Uma listagem com as pessoas mais leves.\n",
        "# by geanclm in 05/04/2022 at 15:54h\n",
        "lista = []\n",
        "dados = []\n",
        "maior = menor = 0\n",
        "while True:\n",
        "    dados.append(str(input('nome: ')))\n",
        "    dados.append(float(input('peso: ')))   \n",
        "    if len(lista) == 0:\n",
        "        maior = menor = dados[1]\n",
        "    else:\n",
        "        if dados[1] < menor:\n",
        "            menor = dados[1]\n",
        "        if dados[1] > maior:\n",
        "            maior = dados[1]\n",
        "    lista.append(dados[:])\n",
        "    dados.clear()\n",
        "    continua = str(input('continua? [S/N]: ')).upper().strip()\n",
        "    if continua not in 'S': break\n",
        "print ('-'*33)\n",
        "print (f'TOTAL DE PESSOAS CADASTRADAS: {len(lista)}')\n",
        "print (f'PESSOA(S) MAIS PESADA(S): {maior} Kg', end=' ')\n",
        "for i in lista:\n",
        "    if i[1] == maior:\n",
        "        print (f'[{i[0]}]')\n",
        "print (f'PESSOA(S) MAIS LEVE(S): {menor} Kg', end=' ')\n",
        "for i in lista:\n",
        "    if i[1] == menor:\n",
        "        print (f'[{i[0]}]')"
      ],
      "metadata": {
        "id": "h7WCPN5gDXSC"
      },
      "execution_count": null,
      "outputs": []
    },
    {
      "cell_type": "code",
      "source": [
        "# Exercício Python 085: Crie um programa onde o usuário possa digitar\n",
        "# sete valores numéricos e cadastre-os em uma lista única que mantenha\n",
        "# separados os valores pares e ímpares.\n",
        "# No final, mostre os valores pares e ímpares em ordem crescente.\n",
        "# by geanclm in 05/04/2022 at 18:36h\n",
        "lista = [[],[]]\n",
        "for i in range (0,7):\n",
        "    n = int(input(f'Digite o {i+1}º número: '))\n",
        "    if n%2 == 0:\n",
        "        lista[0].insert(0,n)\n",
        "    else:\n",
        "        lista[1].append(n)\n",
        "print ('-'*33)\n",
        "print (f'RELAÇÃO DE PARES DIGITADOS: {sorted(lista[0])}')\n",
        "print (f'RELAÇÃO DE ÍMPARES DIGITADOS: {sorted(lista[1])}')"
      ],
      "metadata": {
        "id": "izNor5sOg7Zy"
      },
      "execution_count": null,
      "outputs": []
    },
    {
      "cell_type": "code",
      "source": [
        "# Exercício Python 086: Crie um programa que declare uma matriz de dimensão 3×3\n",
        "# e preencha com valores lidos pelo teclado. No final, mostre a matriz na tela,\n",
        "# com a formatação correta.\n",
        "# by geanclm in 06/07/2022 at 06:10h\n",
        "\n",
        "# solução geanclm\n",
        "matriz = [[],[],[]]\n",
        "for i in range (0,9):\n",
        "    n = int(input(f'Digite o {i+1}º número: '))\n",
        "    if i < 3: matriz[0].append(n)\n",
        "    elif i >= 3 and i < 6:\n",
        "        matriz[1].append(n)\n",
        "    else: matriz[2].append(n)\n",
        "print ('-'*33)\n",
        "print ('MATRIZ 3x3')\n",
        "print (f'{matriz[0]}\\n{matriz[1]}\\n{matriz[2]}')\n",
        "\n",
        "# solução Curso em Vídeo\n",
        "# matriz = [[0,0,0],[0,0,0],[0,0,0]]\n",
        "# for l in range(0,3):\n",
        "#     for c in range(0,3):\n",
        "#         matriz[l][c] = int(input(f'Digite um inteiro para a positção [{l},{c}]: '))\n",
        "# for l in range(0,3):\n",
        "#     for c in range(0,3):\n",
        "#         print (f'[{matriz[l][c]:^5}]', end=' ')\n",
        "#     print()"
      ],
      "metadata": {
        "id": "33XRYF27ETyf"
      },
      "execution_count": null,
      "outputs": []
    },
    {
      "cell_type": "code",
      "source": [
        "# Exercício Python 087: Aprimore o desafio anterior, mostrando no final:\n",
        "# A) A soma de todos os valores pares digitados.\n",
        "# B) A soma dos valores da terceira coluna.\n",
        "# C) O maior valor da segunda linha.\n",
        "# by geanclm in 07/04/2022 at 06:06h\n",
        "\n",
        "matriz = [[0,0,0],[0,0,0],[0,0,0]]\n",
        "soma_pares = soma_terceira_coluna = maior_valor_segunda_linha = 0\n",
        "for l in range(0,3):\n",
        "    for c in range(0,3):\n",
        "        matriz[l][c] = int(input(f'Digite um inteiro para a positção [{l},{c}]: '))\n",
        "        if matriz[l][c]%2==0: # soma de todos os valores pares digitados\n",
        "            soma_pares += matriz[l][c]\n",
        "        if c == 2: # soma dos valores da terceira coluna\n",
        "            soma_terceira_coluna += matriz[l][c]\n",
        "        if l == 0 or matriz[1][c] > maior_valor_segunda_linha: # maior valor da segunda linha\n",
        "            maior_valor_segunda_linha = matriz[1][c]\n",
        "print ('-'*33)\n",
        "for l in range(0,3):\n",
        "    for c in range(0,3):\n",
        "        print (f'[{matriz[l][c]:^5}]', end=' ')\n",
        "    print()\n",
        "print ('-'*33)\n",
        "print (f'soma de todos os valores pares digitados: {soma_pares}')\n",
        "print (f'soma dos valores da terceira coluna: {soma_terceira_coluna}')\n",
        "print (f'maior valor da segunda linha: {maior_valor_segunda_linha}')"
      ],
      "metadata": {
        "colab": {
          "base_uri": "https://localhost:8080/"
        },
        "id": "FOwc-ilMNAqb",
        "outputId": "d8be5ce6-9ad6-438f-85e8-e2ff30ac939d"
      },
      "execution_count": null,
      "outputs": [
        {
          "output_type": "stream",
          "name": "stdout",
          "text": [
            "Digite um inteiro para a positção [0,0]: 1\n",
            "Digite um inteiro para a positção [0,1]: 2\n",
            "Digite um inteiro para a positção [0,2]: 3\n",
            "Digite um inteiro para a positção [1,0]: 4\n",
            "Digite um inteiro para a positção [1,1]: 5\n",
            "Digite um inteiro para a positção [1,2]: 6\n",
            "Digite um inteiro para a positção [2,0]: 7\n",
            "Digite um inteiro para a positção [2,1]: 8\n",
            "Digite um inteiro para a positção [2,2]: 9\n",
            "---------------------------------\n",
            "[  1  ] [  2  ] [  3  ] \n",
            "[  4  ] [  5  ] [  6  ] \n",
            "[  7  ] [  8  ] [  9  ] \n",
            "---------------------------------\n",
            "soma de todos os valores pares digitados: 20\n",
            "soma dos valores da terceira coluna: 18\n",
            "maior valor da segunda linha: 6\n"
          ]
        }
      ]
    },
    {
      "cell_type": "code",
      "source": [
        "# Exercício Python 088: Faça um programa que ajude um jogador da MEGA SENA\n",
        "# a criar palpites.O programa vai perguntar quantos jogos serão gerados\n",
        "# e vai sortear 6 números entre 1 e 60 para cada jogo, cadastrando tudo em uma lista composta.\n",
        "# - - -\n",
        "# by geanclm in 07/04/2022 at 08:20h\n",
        "\n",
        "# Import libs\n",
        "from time import sleep\n",
        "import time, random\n",
        "from datetime import datetime, date\n",
        "from random import sample\n",
        "from pytz import timezone\n",
        "\n",
        "# date\n",
        "registro_data_e_hora_completo = time.ctime()\n",
        "hoje = datetime.now()\n",
        "fuso_horario = timezone(\"America/Sao_Paulo\")\n",
        "data_e_hora = hoje.astimezone(fuso_horario)\n",
        "agora = data_e_hora.strftime(\"%A %B %d/%m/%Y %H:%M\"+\"h\")"
      ],
      "metadata": {
        "id": "TSQ7H_MIZn3C"
      },
      "execution_count": null,
      "outputs": []
    },
    {
      "cell_type": "code",
      "source": [
        "jogos = []\n",
        "i,custo = 0,4.5\n",
        "local = '--| LOTÉRICA MENTE MILIONÁRIA |--'\n",
        "mensagem1 = 'Mentalize, acredite e solte!'\n",
        "mensagem2 = 'BOA SORTE!'\n",
        "bilhete = int(input(\"Número de bilhetes para listar? \"))\n",
        "while i < bilhete:\n",
        "    jogos.append(sorted(random.sample(range(1,60),6)))\n",
        "    i += 1\n",
        "print ('-'*33)\n",
        "print (f'{local:^34}')\n",
        "print ('-'*33)\n",
        "print (f'''\n",
        "Gerando jogo(s)...\n",
        "''')\n",
        "print ('-=' * 16)\n",
        "for i, jogo in enumerate(jogos):\n",
        "    sleep(1)\n",
        "    print (f'Jogo{(i+1):<1}: {jogo}')\n",
        "print ('-=' * 16)\n",
        "print (f'''Total de {bilhete} bilhete(s) gerado(s)''')\n",
        "print (f'''Valor bilhete 6 números: R$ {custo:,.2f}''')\n",
        "print (f'''Valor total a pagar: R$ {(custo*bilhete):,.2f}''')\n",
        "print (f'-'*33)\n",
        "print (f'{mensagem1:^33}')\n",
        "print (f'{mensagem2:^33}')\n",
        "print ('-'*33)\n",
        "print (f'{agora:^33}')\n",
        "print ('-'*33)"
      ],
      "metadata": {
        "id": "kAynonyfZsBm"
      },
      "execution_count": null,
      "outputs": []
    },
    {
      "cell_type": "code",
      "source": [
        "# Exercício Python 089: Crie um programa que leia nome e duas notas de vários alunos\n",
        "# e guarde tudo em uma lista composta. No final, mostre um boletim contendo a média\n",
        "# de cada um e permita que o usuário possa mostrar as notas de cada aluno individualmente.\n",
        "# by geanclm in 07/04/2022 at 13:09h\n",
        "aluno = []\n",
        "turma = []\n",
        "while True:    \n",
        "    aluno.append(input('nome do aluno: '))\n",
        "    aluno.append(float(input(f'nota 1 de {nome}: ')))\n",
        "    aluno.append(float(input(f'nota 2: ')))\n",
        "    turma.append(aluno[:])\n",
        "    aluno.clear()\n",
        "    continua = str(input('continua? [S/N]: ')).upper().strip()\n",
        "    if continua not in 'S': break\n",
        "print ('-'*25)\n",
        "print (f'{\"No.\":<4}{\"Nome\":<10}{\"Média\":>10}')\n",
        "print ('-'*25)\n",
        "for i, aluno in enumerate(turma):\n",
        "    print (f'{i:<4}{aluno[0]:<10}{((aluno[1]+aluno[2])/2):>10.2f}')\n",
        "print ('-'*25)\n",
        "while True:\n",
        "    verificar = int(input('VERIFICAR NOTAS INDIVIDUAIS DO ALUNO? [999] sair: '))\n",
        "    if verificar != 999:\n",
        "        print (turma[verificar])\n",
        "    else:\n",
        "        break"
      ],
      "metadata": {
        "id": "TpyH87hso2RO"
      },
      "execution_count": null,
      "outputs": []
    },
    {
      "cell_type": "markdown",
      "source": [
        "# Aula 19 – Dicionários"
      ],
      "metadata": {
        "id": "VWQFmfkF6tHR"
      }
    },
    {
      "cell_type": "code",
      "source": [
        "pessoas = {'nome': 'gean', 'sexo': 'm', 'idade': 46}\n",
        "pessoas"
      ],
      "metadata": {
        "colab": {
          "base_uri": "https://localhost:8080/"
        },
        "id": "kT2E52VK_U4-",
        "outputId": "ab86846b-9545-4e2e-82a2-0ca686fa9237"
      },
      "execution_count": null,
      "outputs": [
        {
          "output_type": "execute_result",
          "data": {
            "text/plain": [
              "{'idade': 46, 'nome': 'gean', 'sexo': 'm'}"
            ]
          },
          "metadata": {},
          "execution_count": 64
        }
      ]
    },
    {
      "cell_type": "code",
      "source": [
        "pessoas.values()"
      ],
      "metadata": {
        "colab": {
          "base_uri": "https://localhost:8080/"
        },
        "id": "s6pufQmD_18v",
        "outputId": "3506c7c7-f6f0-49de-8473-20b0bd30d178"
      },
      "execution_count": null,
      "outputs": [
        {
          "output_type": "execute_result",
          "data": {
            "text/plain": [
              "dict_values(['gean', 'm', 46])"
            ]
          },
          "metadata": {},
          "execution_count": 68
        }
      ]
    },
    {
      "cell_type": "code",
      "source": [
        "pessoas.keys()"
      ],
      "metadata": {
        "colab": {
          "base_uri": "https://localhost:8080/"
        },
        "id": "XXuMLwNTAHIV",
        "outputId": "991fa205-5d14-4241-9495-c958b1e7488e"
      },
      "execution_count": null,
      "outputs": [
        {
          "output_type": "execute_result",
          "data": {
            "text/plain": [
              "dict_keys(['nome', 'sexo', 'idade'])"
            ]
          },
          "metadata": {},
          "execution_count": 67
        }
      ]
    },
    {
      "cell_type": "code",
      "source": [
        "pessoas.items()"
      ],
      "metadata": {
        "colab": {
          "base_uri": "https://localhost:8080/"
        },
        "id": "GQnk7yAWAJZs",
        "outputId": "689579a9-4005-40b8-aac9-afdaa36fc2c2"
      },
      "execution_count": null,
      "outputs": [
        {
          "output_type": "execute_result",
          "data": {
            "text/plain": [
              "dict_items([('nome', 'gean'), ('sexo', 'm'), ('idade', 46)])"
            ]
          },
          "metadata": {},
          "execution_count": 69
        }
      ]
    },
    {
      "cell_type": "code",
      "source": [
        "del pessoas['sexo']"
      ],
      "metadata": {
        "id": "GGgivNEeA6Ur"
      },
      "execution_count": null,
      "outputs": []
    },
    {
      "cell_type": "code",
      "source": [
        "pessoas['peso'] = 72"
      ],
      "metadata": {
        "id": "5u3XNXPyBTsj"
      },
      "execution_count": null,
      "outputs": []
    },
    {
      "cell_type": "code",
      "source": [
        "pessoas['nome'] = 'Carlos'"
      ],
      "metadata": {
        "id": "6KKRM1WoBIb0"
      },
      "execution_count": null,
      "outputs": []
    },
    {
      "cell_type": "code",
      "source": [
        "for k,v in pessoas.items():\n",
        "    print (k,v)"
      ],
      "metadata": {
        "colab": {
          "base_uri": "https://localhost:8080/"
        },
        "id": "rLf6K1q4AdIC",
        "outputId": "9289714c-2ee5-4e8b-e80e-55b7ece92235"
      },
      "execution_count": null,
      "outputs": [
        {
          "output_type": "stream",
          "name": "stdout",
          "text": [
            "nome Carlos\n",
            "idade 46\n",
            "peso 72\n"
          ]
        }
      ]
    },
    {
      "cell_type": "code",
      "source": [
        "Brasil = []\n",
        "estado1 = {'uf':'João Pessoa', 'sigla': 'PB'}\n",
        "estado2 = {'uf':'Florianópolis', 'sigla': 'SC'}"
      ],
      "metadata": {
        "id": "qWRrLHI8BNOd"
      },
      "execution_count": null,
      "outputs": []
    },
    {
      "cell_type": "code",
      "source": [
        "Brasil.append(estado1)\n",
        "Brasil.append(estado2)"
      ],
      "metadata": {
        "id": "jx5sTfwTCE4F"
      },
      "execution_count": null,
      "outputs": []
    },
    {
      "cell_type": "code",
      "source": [
        "Brasil"
      ],
      "metadata": {
        "colab": {
          "base_uri": "https://localhost:8080/"
        },
        "id": "r-dJJlIKDGK6",
        "outputId": "3e0acf16-204a-44ef-f8db-36643f21e6aa"
      },
      "execution_count": null,
      "outputs": [
        {
          "output_type": "execute_result",
          "data": {
            "text/plain": [
              "[{'sigla': 'PB', 'uf': 'João Pessoa'}, {'sigla': 'SC', 'uf': 'Florianópolis'}]"
            ]
          },
          "metadata": {},
          "execution_count": 93
        }
      ]
    },
    {
      "cell_type": "code",
      "source": [
        "Brasil[0]['uf']"
      ],
      "metadata": {
        "colab": {
          "base_uri": "https://localhost:8080/",
          "height": 36
        },
        "id": "CFqseQUwCbgF",
        "outputId": "94b75852-b3be-4a60-b032-6924248b90c3"
      },
      "execution_count": null,
      "outputs": [
        {
          "output_type": "execute_result",
          "data": {
            "text/plain": [
              "'João Pessoa'"
            ],
            "application/vnd.google.colaboratory.intrinsic+json": {
              "type": "string"
            }
          },
          "metadata": {},
          "execution_count": 94
        }
      ]
    },
    {
      "cell_type": "code",
      "source": [
        "estado = {}\n",
        "Brasil = []\n",
        "for i in range (0,3):\n",
        "    estado['uf'] = str(input('unidade federativa: '))\n",
        "    estado['sigla'] = str(input('Sigla do Estado: '))\n",
        "    Brasil.append(estado.copy())\n",
        "for i in Brasil:\n",
        "    for k, v in i.items():\n",
        "        print (k, v)"
      ],
      "metadata": {
        "id": "Gd_ts-7RCdyM"
      },
      "execution_count": null,
      "outputs": []
    },
    {
      "cell_type": "code",
      "source": [
        "# Exercício Python 090: Faça um programa que leia\n",
        "# nome e média de um aluno, guardando também a situação em um dicionário.\n",
        "# No final, mostre o conteúdo da estrutura na tela.\n",
        "# by geanclm in 08/04/2022 at 17:42h\n",
        "aluno = {}\n",
        "turma = []\n",
        "aluno['Aluno'] = input('Aluno: ')\n",
        "aluno['Média'] = float(input(f'Média de {aluno[\"Aluno\"]}: '))\n",
        "if aluno['Média'] >= 7:\n",
        "    aluno['Status'] = 'APROVADO'\n",
        "elif   5 <= aluno['Média'] < 7:\n",
        "    aluno['Status'] = 'RECUPERAÇÃO'\n",
        "else:\n",
        "    aluno['Status'] = 'REPROVADO'\n",
        "turma.append(aluno.copy())\n",
        "print ('-'*20)\n",
        "for i in turma:\n",
        "    for k, v in i.items():\n",
        "        print (f'{k:<6}: {v:>12}')"
      ],
      "metadata": {
        "id": "FsUdy1W2rMvU"
      },
      "execution_count": null,
      "outputs": []
    },
    {
      "cell_type": "code",
      "source": [
        "# Exercício Python 091: Crie um programa onde 4 jogadores joguem um dado e tenham\n",
        "# resultados aleatórios. Guarde esses resultados em um dicionário em Python.\n",
        "# No final, coloque esse dicionário em ordem, sabendo que o vencedor tirou o maior número no dado.\n",
        "# by geanclm in 09/04/2022 at 09:25h\n",
        "from random import randint\n",
        "from time import sleep\n",
        "from operator import itemgetter # função importante para ordenar o dicionário\n",
        "jogador = {}\n",
        "for i in range(0,4):\n",
        "    jogador[f'jogador{i+1}'] = randint(1,6)\n",
        "print (f'{\"-\"*33:^33}')\n",
        "print (f'{\"---| JOGO DE DADOS |---\":^33}')\n",
        "print (f'{\"-\"*33:^33}')\n",
        "for k,v in jogador.items():\n",
        "    print (f'{k} lançou o valor: {v}')\n",
        "    sleep(1)\n",
        "print ()\n",
        "print (f'{\"-\"*33:^33}')\n",
        "print (f'{\"---| RANKING |---\":^33}')\n",
        "print (f'{\"-\"*33:^33}')\n",
        "ranking = {}\n",
        "ranking = sorted(jogador.items(), key=itemgetter(1), reverse=True)\n",
        "for i,v in enumerate(ranking):\n",
        "    print (f'{i+1}º Lugar: {v[0]} com {v[1]}')"
      ],
      "metadata": {
        "colab": {
          "base_uri": "https://localhost:8080/"
        },
        "id": "5wM6vtsO8LSe",
        "outputId": "cce62168-dc4d-48cb-d358-eddb46eefb4d"
      },
      "execution_count": 110,
      "outputs": [
        {
          "output_type": "stream",
          "name": "stdout",
          "text": [
            "---------------------------------\n",
            "     ---| JOGO DE DADOS |---     \n",
            "---------------------------------\n",
            "jogador1 lançou o valor: 6\n",
            "jogador2 lançou o valor: 1\n",
            "jogador3 lançou o valor: 3\n",
            "jogador4 lançou o valor: 2\n",
            "\n",
            "---------------------------------\n",
            "        ---| RANKING |---        \n",
            "---------------------------------\n",
            "1º Lugar: jogador1 com 6\n",
            "2º Lugar: jogador3 com 3\n",
            "3º Lugar: jogador4 com 2\n",
            "4º Lugar: jogador2 com 1\n"
          ]
        }
      ]
    }
  ]
}