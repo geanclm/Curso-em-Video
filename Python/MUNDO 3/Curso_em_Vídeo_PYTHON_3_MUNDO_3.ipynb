{
  "nbformat": 4,
  "nbformat_minor": 0,
  "metadata": {
    "colab": {
      "name": "Curso em Vídeo - PYTHON 3 - MUNDO 3.ipynb",
      "provenance": [],
      "collapsed_sections": []
    },
    "kernelspec": {
      "name": "python3",
      "display_name": "Python 3"
    }
  },
  "cells": [
    {
      "cell_type": "markdown",
      "metadata": {
        "id": "Iv1JvJMxr_3l"
      },
      "source": [
        "# CURSO EM VÍDEO - PYTHON 3 - MUNDO 3\n",
        "\n",
        "<p>by geanclm</p>\n",
        "\n",
        "---\n",
        "<p>https://www.python.org/</p>"
      ]
    },
    {
      "cell_type": "markdown",
      "metadata": {
        "id": "ORH0FziVvh-Q"
      },
      "source": [
        "#Aula 16 – Tuplas"
      ]
    },
    {
      "cell_type": "code",
      "source": [
        "# Tuplas são estruturas de dados imutáveis"
      ],
      "metadata": {
        "id": "Mwts5geEeje-"
      },
      "execution_count": null,
      "outputs": []
    },
    {
      "cell_type": "code",
      "source": [
        "frutas = ('banana', 'abacaxi', 'uva', 'goiaba', 'banana', 'banana')"
      ],
      "metadata": {
        "id": "5rP0F13VYerh"
      },
      "execution_count": null,
      "outputs": []
    },
    {
      "cell_type": "code",
      "source": [
        "for i in frutas:\n",
        "    print (i, end=' ')"
      ],
      "metadata": {
        "id": "YatAPOXhYn9a"
      },
      "execution_count": null,
      "outputs": []
    },
    {
      "cell_type": "code",
      "source": [
        "for i in range(0, len(frutas)):\n",
        "    print(frutas[i], end=' ')"
      ],
      "metadata": {
        "id": "xPLPUKyLgll5"
      },
      "execution_count": null,
      "outputs": []
    },
    {
      "cell_type": "code",
      "source": [
        "for i, fruta in enumerate(frutas):\n",
        "    print (i+1, fruta)"
      ],
      "metadata": {
        "id": "dNKzYWdUhpHw"
      },
      "execution_count": null,
      "outputs": []
    },
    {
      "cell_type": "code",
      "source": [
        "print (frutas[:])"
      ],
      "metadata": {
        "id": "HUO2OgJKY0Hp"
      },
      "execution_count": null,
      "outputs": []
    },
    {
      "cell_type": "code",
      "source": [
        "print(sorted(frutas))"
      ],
      "metadata": {
        "id": "O25txfJGiu9q"
      },
      "execution_count": null,
      "outputs": []
    },
    {
      "cell_type": "code",
      "source": [
        "print(len(frutas))"
      ],
      "metadata": {
        "id": "i7Hffl4Ri5cb"
      },
      "execution_count": null,
      "outputs": []
    },
    {
      "cell_type": "code",
      "source": [
        "print(frutas.count('banana'))"
      ],
      "metadata": {
        "id": "eO-WfwYrjc-o"
      },
      "execution_count": null,
      "outputs": []
    },
    {
      "cell_type": "code",
      "source": [
        "print(frutas.index('banana',1))"
      ],
      "metadata": {
        "id": "-RoUhhH5jkHv"
      },
      "execution_count": null,
      "outputs": []
    },
    {
      "cell_type": "code",
      "source": [
        "# Exercício Python 72: Crie um programa que tenha uma dupla totalmente preenchida\n",
        "# com uma contagem por extenso, de zero até vinte.\n",
        "# Seu programa deverá ler um número pelo teclado (entre 0 e 20) e mostrá-lo por extenso.\n",
        "# by geanclm in 17/03/2022 at 07:56h\n",
        "tupla = ('zero', 'um', 'dois', 'três', 'quatro', 'cinco', 'seis', 'sete',\n",
        "         'oito', 'nove', 'dez', 'onze', 'doze', 'treze', 'quatorze',\n",
        "         'quinze', 'dezesseis', 'dezessete', 'dezoito', 'dezenove', 'vinte')\n",
        "continua = ' '\n",
        "while True:\n",
        "    n = int(input('número [0-20]: '))\n",
        "    if  0 <= n <= 20:\n",
        "        print (f'''\n",
        "        Você digitou o número {tupla[n]}''')\n",
        "        continua = str(input('deseja continuar: ')).upper().strip()\n",
        "        if continua not in 'S':\n",
        "            break\n",
        "    else:\n",
        "        print(f'''\n",
        "        DIGITE NOVAMENTE!''', end=' ')\n",
        "print ('FIM DO PROGRAMA')"
      ],
      "metadata": {
        "id": "h47c_yXtkCSH"
      },
      "execution_count": null,
      "outputs": []
    },
    {
      "cell_type": "code",
      "source": [
        "# Exercício Python 73: Crie uma tupla preenchida com os 20 primeiros colocados da\n",
        "# Tabela do Campeonato Brasileiro de Futebol, na ordem de colocação. Depois mostre:\n",
        "# a) Os 5 primeiros times.\n",
        "# b) Os últimos 4 colocados.\n",
        "# c) Times em ordem alfabética.\n",
        "# d) Em que posição está o time da Chapecoense, [Avaí] para esse caso\n",
        "# by geanclm in 20/03/2022 at 10:25h\n",
        "\n",
        "times = ('América-MG', 'Athletico-PR', 'Atlético-GO', 'Atlético-MG', 'Avaí', 'Botafogo',\n",
        "         'Bragantino', 'Ceará', 'Corinthians', 'Coritiba', 'Cuiabá', 'Flamengo', 'Fluminense',\n",
        "         'Fortaleza', 'Goiás', 'Internacional', 'Palmeiras', 'Santos', 'São Paulo', 'Juventude')\n",
        "\n",
        "print ('-'*46)\n",
        "print (f'''DOS TIMES DO BRASILEIRÃO\n",
        "{times[:]}''')\n",
        "\n",
        "print ('-'*46)\n",
        "print (f'''Os cinco primeiros colocados da lista\n",
        "{times[:5]}''')\n",
        "\n",
        "print ('-'*33)\n",
        "print (f'''Os quatro últimos colocados da lista\n",
        "{times[-4:]}''')\n",
        "\n",
        "print ('-'*33)\n",
        "print(f'''Ordem alfabética\n",
        "{(sorted(times))}''')\n",
        "\n",
        "print ('-'*33)\n",
        "print (f'O Avaí está na {(times.index(\"Avaí\",1)+1)}ª posição da tabela')"
      ],
      "metadata": {
        "id": "7keiGA_uZNqo"
      },
      "execution_count": null,
      "outputs": []
    },
    {
      "cell_type": "code",
      "source": [
        "# Exercício Python 074: Crie um programa que vai gerar cinco números aleatórios\n",
        "# e colocar em uma tupla. Depois disso, mostre a listagem de números gerados\n",
        "# e também indique o menor e o maior valor que estão na tupla.\n",
        "# by geanclm in 21/03/2022 at 07:18h\n",
        "from random import sample\n",
        "tupla = sample(range(1, 10),5)\n",
        "\n",
        "# maior = menor = 0\n",
        "# for i in tupla:\n",
        "#     if menor == 0:\n",
        "#         menor = i\n",
        "#     if i < menor:\n",
        "#         menor = i\n",
        "#     if i > maior:\n",
        "#         maior = i\n",
        "\n",
        "maior = max(tupla)\n",
        "menor = min(tupla)\n",
        "\n",
        "print (f'NÚMEROS gerados na tupla: {tupla}')\n",
        "print (f'MAIOR número da sequência: {maior}')\n",
        "print (f'MENOR número da sequência: {menor}')\n",
        "print ('-'*33)\n",
        "print (f'ORDEM CRESCENTE da sequência: {sorted(tupla)}')"
      ],
      "metadata": {
        "colab": {
          "base_uri": "https://localhost:8080/"
        },
        "id": "L2NS20ng_0wC",
        "outputId": "5739e38d-e8fd-4500-bd31-6f6096ee9aa8"
      },
      "execution_count": null,
      "outputs": [
        {
          "output_type": "stream",
          "name": "stdout",
          "text": [
            "NÚMEROS gerados na tupla: [3, 4, 6, 7, 9]\n",
            "MAIOR número da sequência: 9\n",
            "MENOR número da sequência: 3\n",
            "---------------------------------\n",
            "ORDEM CRESCENTE da sequência: [3, 4, 6, 7, 9]\n"
          ]
        }
      ]
    },
    {
      "cell_type": "code",
      "source": [
        "# https://www.cursoemvideo.com/apoie/\n",
        "# Exercício Python 075: Desenvolva um programa que leia quatro valores pelo teclado\n",
        "# e guarde-os em uma tupla. No final, mostre:\n",
        "# A) Quantas vezes apareceu o valor 9.\n",
        "# B) Em que posição foi digitado o primeiro valor 3.\n",
        "# C) Quais foram os números pares.\n",
        "# by geanclm in 22/03/2022 at 07:06h\n",
        "\n",
        "\n",
        "tupla = (\n",
        "    int(input('digite o primeiro número inteiro: ' )),\n",
        "    int(input('digite o seguento número inteiro: ' )),\n",
        "    int(input('digite o tereceiro número inteiro: ' )),\n",
        "    int(input('digite o último número: ' ))\n",
        "    )\n",
        "\n",
        "# visualização dos resultados finais\n",
        "print ('-'*33)\n",
        "print (f'Valores registrados na tupla: {tupla}')\n",
        "print ('-'*33)\n",
        "\n",
        "# verificação e visualização da entrada dos dados\n",
        "if 9 in tupla:\n",
        "    print (f'O número 9 apareceu {tupla.count(9)} vez(es)')\n",
        "else:\n",
        "    print ('O número 9 não foi registrado na tupla!')\n",
        "if 3 in tupla:\n",
        "    print (f'O número 3 está na posição {tupla.index(3,1)+1}ª da tupla')\n",
        "else:\n",
        "    print ('O número 3 não foi registrado na tupla!')\n",
        "print (f'A tupla tem os seguintes números pares: {[i for i in tupla if i%2 == 0]}')"
      ],
      "metadata": {
        "colab": {
          "base_uri": "https://localhost:8080/"
        },
        "id": "wnqECvsC8h4I",
        "outputId": "e2dd23e7-4664-4db0-e6da-287e1ffd4859"
      },
      "execution_count": null,
      "outputs": [
        {
          "output_type": "stream",
          "name": "stdout",
          "text": [
            "digite o primeiro número inteiro: 1\n",
            "digite o seguento número inteiro: 2\n",
            "digite o tereceiro número inteiro: 4\n",
            "digite o último número: 6\n",
            "---------------------------------\n",
            "Valores registrados na tupla: (1, 2, 4, 6)\n",
            "---------------------------------\n",
            "O número 9 não foi registrado na tupla!\n",
            "O número 3 não foi registrado na tupla!\n",
            "A tupla tem os seguintes pares: [2, 4, 6]\n"
          ]
        }
      ]
    },
    {
      "cell_type": "code",
      "source": [
        "# Exercício Python 076: Crie um programa que tenha uma tupla única com\n",
        "# nomes de produtos e seus respectivos preços, na sequência.\n",
        "# No final, mostre uma listagem\n",
        "# de preços, organizando os dados em forma tabular.\n",
        "# by geanclm in 23/03/2022 at 06:46h\n",
        "\n",
        "produtos = ('lápis',1.75, 'borracha', 2, 'Caderno', 15.90, 'Estojo', 25.00,\n",
        "            'Tranferidor', 4.2, 'Compasso', 9.9, 'Mochila', 120.3,\n",
        "            'Canetas', 22.30, 'Livro', 34.9)\n",
        "\n",
        "print ('-'*33)\n",
        "print ('{:-^33}'.format('| LISTAGEM DE PREÇOS |'))\n",
        "print ('-'*33)\n",
        "for i in (range(0,len(produtos))):\n",
        "    if i%2==0:\n",
        "        print (f'{produtos[i]:.<23}', end=' ')\n",
        "    elif i%2!=0:\n",
        "        print (f'R${produtos[i]:>7,.2f}')\n",
        "print ('-'*33)"
      ],
      "metadata": {
        "id": "10Pf53BoEGv1"
      },
      "execution_count": null,
      "outputs": []
    },
    {
      "cell_type": "code",
      "source": [
        "# Exercício Python 077: Crie um programa que tenha uma tupla com várias palavras\n",
        "# (não usar acentos). Depois disso, você deve mostrar, para cada palavra, quais são as suas vogais.\n",
        "# by geanclm in 24/03/2022 at 07:01h\n",
        "\n",
        "tupla = ('motocicleta','CARRO', 'CASA', 'MOTO', 'BARCO', 'BICICLETA', 'TREM', 'UBER')\n",
        "for i in tupla:\n",
        "    print (f'\\nNa palavra {i} temos:', end=' ')\n",
        "    # if 'A' in i:\n",
        "    #     print ('a', end=' ')\n",
        "    # if 'E' in i:\n",
        "    #     print ('e', end=' ')\n",
        "    # if 'I' in i:\n",
        "    #     print ('i', end=' ')\n",
        "    # if 'O' in i:\n",
        "    #     print ('o', end=' ')\n",
        "    # if 'U' in i:\n",
        "    #     print ('u', end=' ')\n",
        "    for letra in i:\n",
        "        if letra in 'aeiouAEIOU':\n",
        "            print (letra, end=' ')"
      ],
      "metadata": {
        "id": "JSlF_M2sSYA2"
      },
      "execution_count": null,
      "outputs": []
    },
    {
      "cell_type": "markdown",
      "source": [
        "# Aula 17 – Listas (Parte 1)"
      ],
      "metadata": {
        "id": "RWEDdX2metCk"
      }
    },
    {
      "cell_type": "code",
      "source": [
        "lista01 = []"
      ],
      "metadata": {
        "id": "eSIeg5VStC57"
      },
      "execution_count": null,
      "outputs": []
    },
    {
      "cell_type": "code",
      "source": [
        "lista02 = list()"
      ],
      "metadata": {
        "id": "yzpGXuGAtGW7"
      },
      "execution_count": null,
      "outputs": []
    },
    {
      "cell_type": "code",
      "source": [
        "lista = ['gean', 'carlos', 'cientista', 'dados', 'machine learning', 'dados']"
      ],
      "metadata": {
        "id": "qK0fxMDwjuba"
      },
      "execution_count": null,
      "outputs": []
    },
    {
      "cell_type": "code",
      "source": [
        "lista"
      ],
      "metadata": {
        "id": "cKf6J7Fdj5QK"
      },
      "execution_count": null,
      "outputs": []
    },
    {
      "cell_type": "code",
      "source": [
        "# del lista[3]\n",
        "# lista.pop(4)\n",
        "lista.remove('dados')"
      ],
      "metadata": {
        "id": "ewWnwahPjc_r"
      },
      "execution_count": null,
      "outputs": []
    },
    {
      "cell_type": "code",
      "source": [
        "if 'dados' in lista:\n",
        "    lista.remove('dados')\n",
        "else:\n",
        "    print ('dados inexistentes')"
      ],
      "metadata": {
        "id": "zbFfRGpblubz"
      },
      "execution_count": null,
      "outputs": []
    },
    {
      "cell_type": "code",
      "source": [
        "valores = list(range(1,26,5))"
      ],
      "metadata": {
        "id": "qB_LYmkvorGL"
      },
      "execution_count": null,
      "outputs": []
    },
    {
      "cell_type": "code",
      "source": [
        "print (valores, end=' ')"
      ],
      "metadata": {
        "id": "C0NF7UcVov-0"
      },
      "execution_count": null,
      "outputs": []
    },
    {
      "cell_type": "code",
      "source": [
        "lista2 = [2,9,8,1,6,0,7,2,3]"
      ],
      "metadata": {
        "id": "JovndDMmpNeU"
      },
      "execution_count": null,
      "outputs": []
    },
    {
      "cell_type": "code",
      "source": [
        "lista2"
      ],
      "metadata": {
        "id": "q9n0bjUFr1Ob"
      },
      "execution_count": null,
      "outputs": []
    },
    {
      "cell_type": "code",
      "source": [
        "print(sorted(lista2, reverse=True))"
      ],
      "metadata": {
        "id": "Cd1Ioe77plzF"
      },
      "execution_count": null,
      "outputs": []
    },
    {
      "cell_type": "code",
      "source": [
        "len(lista2)"
      ],
      "metadata": {
        "id": "K8y48x0tqM70"
      },
      "execution_count": null,
      "outputs": []
    },
    {
      "cell_type": "code",
      "source": [
        "lista2.append(999)"
      ],
      "metadata": {
        "id": "uPEnKuazrQt6"
      },
      "execution_count": null,
      "outputs": []
    },
    {
      "cell_type": "code",
      "source": [
        "lista2.insert(1,888)"
      ],
      "metadata": {
        "id": "rNyFY5ASrvyl"
      },
      "execution_count": null,
      "outputs": []
    },
    {
      "cell_type": "code",
      "source": [
        "valores = []\n",
        "for i in range(0,2):\n",
        "    valores.append(input('digite um números: '))\n",
        "print('-'*15)\n",
        "for i,n in enumerate(valores):\n",
        "    print (i,n)"
      ],
      "metadata": {
        "id": "b3L31m7iuPTi"
      },
      "execution_count": null,
      "outputs": []
    },
    {
      "cell_type": "code",
      "source": [
        "a = [1,2,3,4,5]\n",
        "b = a[:]\n",
        "b[2] = 888\n",
        "print(f'lista a: {a}')\n",
        "print(f'lista a: {b}')"
      ],
      "metadata": {
        "id": "K5fvt0B6wEMC"
      },
      "execution_count": null,
      "outputs": []
    },
    {
      "cell_type": "code",
      "source": [
        "# https://docs.python.org/pt-br/3/tutorial/datastructures.html?highlight=tupla\n",
        "\n",
        "# Exercício Python 078: Faça um programa que leia 5 valores numéricos e guarde-os em uma lista.\n",
        "# No final, mostre qual foi o maior e o menor valor digitado e as suas respectivas posições na lista.\n",
        "# by geanclm in 25/03/2022 at 09:12h\n",
        "\n",
        "lista = []\n",
        "maior = menor = 0\n",
        "\n",
        "for i in range(0,5):\n",
        "    lista.append(int(input(f'digite um valor na posição {i}: ')))\n",
        "    if menor == 0:\n",
        "        menor = lista[i]\n",
        "    if lista[i] > maior:\n",
        "        maior = lista[i]\n",
        "    if lista[i] < menor:\n",
        "        menor = lista[i]\n",
        "\n",
        "print('-'*15)        \n",
        "print(f'LISTA completa:', end=' ')\n",
        "for i in lista:\n",
        "    print(f'{i}', end=' ')\n",
        "print('\\n')\n",
        "\n",
        "print(f'MENOR valor digitado: {menor}, posição(ões)', end=' ')\n",
        "for i,n in enumerate(lista):\n",
        "    if n == menor:\n",
        "        print(f'{i}... ', end=' ')\n",
        "print(f'\\nMAIOR valor digitado: {maior}, posição(ões)', end=' ')\n",
        "for i,n in enumerate(lista):\n",
        "    if n == maior:\n",
        "         print(f'{i}... ', end=' ')"
      ],
      "metadata": {
        "colab": {
          "base_uri": "https://localhost:8080/"
        },
        "id": "ztMnjqm6z3p1",
        "outputId": "d71fb345-c240-4c66-fc21-a79d141f125c"
      },
      "execution_count": null,
      "outputs": [
        {
          "output_type": "stream",
          "name": "stdout",
          "text": [
            "digite um valor na posição 0: 1\n",
            "digite um valor na posição 1: 8\n",
            "digite um valor na posição 2: 8\n",
            "digite um valor na posição 3: 2\n",
            "digite um valor na posição 4: 1\n",
            "---------------\n",
            "LISTA completa: 1 8 8 2 1 \n",
            "\n",
            "MENOR valor digitado: 1, posição(ões) 0...  4...  \n",
            "MAIOR valor digitado: 8, posição(ões) 1...  2...  "
          ]
        }
      ]
    },
    {
      "cell_type": "code",
      "source": [
        "# Exercício Python 079: Crie um programa onde o usuário possa digitar vários valores\n",
        "# numéricos e cadastre-os em uma lista. Caso o número já exista lá dentro, ele não será adicionado.\n",
        "# No final, serão exibidos todos os valores únicos digitados, em ordem crescente.\n",
        "# by geanclm in 29/03/2022 at 05:30h\n",
        "\n",
        "lista = []\n",
        "while True:\n",
        "    n = int(input(f'digite um número: '))\n",
        "    if n not in lista:\n",
        "        lista.append(n)\n",
        "    else:\n",
        "        print (f'valor {n} já existente na lista!')\n",
        "    continua = str(input('continua? [S/N]: ')).upper().strip()\n",
        "    if continua not in 'S':\n",
        "        break\n",
        "print (sorted(lista))"
      ],
      "metadata": {
        "id": "UYWf75eux_ud"
      },
      "execution_count": null,
      "outputs": []
    },
    {
      "cell_type": "code",
      "source": [
        "# Exercício Python 080: Crie um programa onde o usuário possa digitar cinco valores\n",
        "# numéricos e cadastre-os em uma lista, já na posição correta de inserção (sem usar o sort()).\n",
        "# No final, mostre a lista ordenada na tela.\n",
        "# by geanclm in 03/30/2022 at 07:04h\n",
        "lista = []\n",
        "for i in range(0,5):\n",
        "    n = int(input('digite um número inteiro: '))\n",
        "    if (i == 0) or (n > lista[-1]):\n",
        "        lista.append(n)\n",
        "        print (f'O valor {n} foi inserido no final da lista')\n",
        "    else:\n",
        "        c = 0\n",
        "        while c < len(lista):\n",
        "            if n <= lista[c]:\n",
        "                lista.insert(c,n)\n",
        "                print (f'O valor {n} foi inserido na posição {c} da lista')\n",
        "                break\n",
        "            c += 1\n",
        "print('-'*33)  \n",
        "print (lista)"
      ],
      "metadata": {
        "id": "ScqC4IcZ9duI"
      },
      "execution_count": null,
      "outputs": []
    },
    {
      "cell_type": "code",
      "source": [
        "# Exercício Python 081: Crie um programa que vai ler vários números e colocar em uma lista.\n",
        "# Depois disso, mostre:\n",
        "# A) Quantos números foram digitados.\n",
        "# B) A lista de valores, ordenada de forma decrescente.\n",
        "# C) Se o valor 5 foi digitado e está ou não na lista.\n",
        "# by geanclm in 02/04/2022 at 06:51h\n",
        "lista = []\n",
        "while True:\n",
        "    lista.append(int(input(f'digite um número: ')))\n",
        "    continua = str(input('continua? [S/N]: ')).upper().strip()\n",
        "    if continua not in 'S': break\n",
        "print('-'*33)\n",
        "print (f'lista de números: {lista}')\n",
        "print (f'quantidade de números: {len(lista)}')\n",
        "print (f'ordem decrescente: {sorted(lista, reverse=True)}')\n",
        "if 5 in lista:\n",
        "    print ('O número 5 está na lista')\n",
        "else:\n",
        "    print ('O valor 5 não foi encontrado da lista')"
      ],
      "metadata": {
        "id": "Vv1_BW3XnRqX"
      },
      "execution_count": null,
      "outputs": []
    },
    {
      "cell_type": "code",
      "source": [
        "# Exercício Python 082: Crie um programa que vai ler vários números e colocar em uma lista.\n",
        "# Depois disso, crie duas listas extras que vão conter apenas os valores pares e os valores\n",
        "# ímpares digitados, respectivamente. Ao final, mostre o conteúdo das três listas geradas.\n",
        "# by geanclm in 02/04/2022 at 07:26h\n",
        "lista = pares = ímpares = []\n",
        "while True:\n",
        "    lista.append(int(input(f'digite um número: ')))\n",
        "    continua = str(input('continua? [S/N]: ')).upper().strip()\n",
        "    if continua not in 'S': break\n",
        "for i in lista:\n",
        "    if i%2 == 0:\n",
        "        pares.append(i)\n",
        "    else:\n",
        "        ímpares.append(i)\n",
        "print('-'*33)\n",
        "print(f'lista completa: {lista}')\n",
        "print(f'pares: {pares}')\n",
        "print(f'ímpares: {ímpares}')"
      ],
      "metadata": {
        "id": "IgGJ4TUAxXQ0"
      },
      "execution_count": null,
      "outputs": []
    },
    {
      "cell_type": "code",
      "source": [
        "# Exercício Python 083: Crie um programa onde o usuário digite uma expressão qualquer que use parênteses.\n",
        "# Seu aplicativo deverá analisar se a expressão passada está com os parênteses abertos\n",
        "# e fechados na ordem correta.\n",
        "# by geanclm in 02/04/2022 at 08:28h\n",
        "lista = []\n",
        "expr = str(input(f'digite uma expressão matemática: '))\n",
        "for i in expr:\n",
        "    lista.append(i)\n",
        "if (lista.count('(')) == lista.count(')'):\n",
        "    print ('EXPRESSÃO VÁLIDA')\n",
        "else:\n",
        "    print ('EXPRESSÃO INVÁLIDA')"
      ],
      "metadata": {
        "id": "3pfgnKzs2MyS"
      },
      "execution_count": null,
      "outputs": []
    },
    {
      "cell_type": "markdown",
      "source": [
        "# Aula 18 – Listas (Parte 2)"
      ],
      "metadata": {
        "id": "QOCxu-_Q0ili"
      }
    },
    {
      "cell_type": "code",
      "source": [
        "equipe1 =[['geanclm', 11],['gclm', 22],['clm', 33],['lm', 44]]\n",
        "equipe2 =[['Gean', 10],['Carlos', 20],['Luciano', 30],['Madeira', 40]]"
      ],
      "metadata": {
        "id": "FXOT2GFjGGhK"
      },
      "execution_count": null,
      "outputs": []
    },
    {
      "cell_type": "code",
      "source": [
        "for i in equipe1:\n",
        "    print (f'name: {i[0]} code: {i[1]}')"
      ],
      "metadata": {
        "id": "RfiyytctI5Ny"
      },
      "execution_count": null,
      "outputs": []
    },
    {
      "cell_type": "code",
      "source": [
        "equipe2.append(equipe1[:])"
      ],
      "metadata": {
        "id": "1HrPOcjcG-e7"
      },
      "execution_count": null,
      "outputs": []
    },
    {
      "cell_type": "code",
      "source": [
        "equipe2"
      ],
      "metadata": {
        "id": "y2UCRaz8HdCy"
      },
      "execution_count": null,
      "outputs": []
    },
    {
      "cell_type": "code",
      "source": [
        "equipe2[4][0][0]"
      ],
      "metadata": {
        "id": "0R9vN48hH1EP"
      },
      "execution_count": null,
      "outputs": []
    },
    {
      "cell_type": "code",
      "source": [
        "for i in equipe2:\n",
        "    print (i[0])"
      ],
      "metadata": {
        "id": "EaRHG7Y9IenC"
      },
      "execution_count": null,
      "outputs": []
    },
    {
      "cell_type": "code",
      "source": [
        "dados = []\n",
        "for i in range(0,3):\n",
        "    dados.append(str(input('nome: ')))\n",
        "    dados.append(int(input('idade: ')))\n",
        "    equipe2.append(dados[:])\n",
        "    dados.clear()"
      ],
      "metadata": {
        "id": "CPAmfdfJJ_mS",
        "colab": {
          "base_uri": "https://localhost:8080/"
        },
        "outputId": "ef1cadd2-82b7-4b7d-a13a-7a4669e78ad3"
      },
      "execution_count": null,
      "outputs": [
        {
          "name": "stdout",
          "output_type": "stream",
          "text": [
            "nome: Gean\n",
            "idade: 46\n",
            "nome: Carlos\n",
            "idade: 47\n",
            "nome: Luciano\n",
            "idade: 48\n"
          ]
        }
      ]
    },
    {
      "cell_type": "code",
      "source": [
        "equipe2"
      ],
      "metadata": {
        "colab": {
          "base_uri": "https://localhost:8080/"
        },
        "id": "LFL3gQWKGycT",
        "outputId": "d585765c-563b-452c-cb21-9738384924db"
      },
      "execution_count": null,
      "outputs": [
        {
          "output_type": "execute_result",
          "data": {
            "text/plain": [
              "[['Gean', 10],\n",
              " ['Carlos', 20],\n",
              " ['Luciano', 30],\n",
              " ['Madeira', 40],\n",
              " ['Gean', 46],\n",
              " ['Carlos', 47],\n",
              " ['Luciano', 48]]"
            ]
          },
          "metadata": {},
          "execution_count": 16
        }
      ]
    },
    {
      "cell_type": "code",
      "source": [
        "menor = maior = 0\n",
        "for j in equipe1:\n",
        "    if j[1] >= 21:\n",
        "        print (f'{j[0]} tem code acima de 21')\n",
        "        maior += 1\n",
        "    else:\n",
        "        print (f'{j[0]} tem code abaixo de 21')\n",
        "        menor += 1\n",
        "print ('-'*33)\n",
        "print (f'TOTAL DE CODE ACIMA DE 21: {maior}')\n",
        "print (f'TOTAL DE CODE ABAIXO DE 21: {menor}')"
      ],
      "metadata": {
        "id": "ZMT-a-BeLgDB"
      },
      "execution_count": null,
      "outputs": []
    },
    {
      "cell_type": "code",
      "source": [
        "Exercício Python 084: Faça um programa que leia nome e peso de várias pessoas,                                      guardando tudo em uma lista. No final, mostre:                                                                                                    A) Quantas pessoas foram cadastradas.                                                                                                                B) Uma listagem com as pessoas mais pesadas.                                                                                                    C) Uma listagem com as pessoas mais leves."
      ],
      "metadata": {
        "id": "4S8kxidqCsgC"
      },
      "execution_count": null,
      "outputs": []
    },
    {
      "cell_type": "code",
      "source": [
        "# Exercício Python 084: Faça um programa que leia nome e peso de várias pessoas,\n",
        "# guardando tudo em uma lista. No final, mostre:\n",
        "# A) Quantas pessoas foram cadastradas.\n",
        "# B) Uma listagem com as pessoas mais pesadas.\n",
        "# C) Uma listagem com as pessoas mais leves.\n",
        "# by geanclm in 05/04/2022 at 15:54h\n",
        "lista = []\n",
        "dados = []\n",
        "maior = menor = 0\n",
        "while True:\n",
        "    dados.append(str(input('nome: ')))\n",
        "    dados.append(float(input('peso: ')))   \n",
        "    if len(lista) == 0:\n",
        "        maior = menor = dados[1]\n",
        "    else:\n",
        "        if dados[1] < menor:\n",
        "            menor = dados[1]\n",
        "        if dados[1] > maior:\n",
        "            maior = dados[1]\n",
        "    lista.append(dados[:])\n",
        "    dados.clear()\n",
        "    continua = str(input('continua? [S/N]: ')).upper().strip()\n",
        "    if continua not in 'S': break\n",
        "print ('-'*33)\n",
        "print (f'TOTAL DE PESSOAS CADASTRADAS: {len(lista)}')\n",
        "print (f'PESSOA(S) MAIS PESADA(S): {maior} Kg', end=' ')\n",
        "for i in lista:\n",
        "    if i[1] == maior:\n",
        "        print (f'[{i[0]}]')\n",
        "print (f'PESSOA(S) MAIS LEVE(S): {menor} Kg', end=' ')\n",
        "for i in lista:\n",
        "    if i[1] == menor:\n",
        "        print (f'[{i[0]}]')"
      ],
      "metadata": {
        "id": "h7WCPN5gDXSC"
      },
      "execution_count": null,
      "outputs": []
    },
    {
      "cell_type": "code",
      "source": [
        "# Exercício Python 085: Crie um programa onde o usuário possa digitar\n",
        "# sete valores numéricos e cadastre-os em uma lista única que mantenha\n",
        "# separados os valores pares e ímpares.\n",
        "# No final, mostre os valores pares e ímpares em ordem crescente.\n",
        "# by geanclm in 05/04/2022 at 18:36h\n",
        "lista = [[],[]]\n",
        "for i in range (0,7):\n",
        "    n = int(input(f'Digite o {i+1}º número: '))\n",
        "    if n%2 == 0:\n",
        "        lista[0].insert(0,n)\n",
        "    else:\n",
        "        lista[1].append(n)\n",
        "print ('-'*33)\n",
        "print (f'RELAÇÃO DE PARES DIGITADOS: {sorted(lista[0])}')\n",
        "print (f'RELAÇÃO DE ÍMPARES DIGITADOS: {sorted(lista[1])}')"
      ],
      "metadata": {
        "id": "izNor5sOg7Zy"
      },
      "execution_count": null,
      "outputs": []
    },
    {
      "cell_type": "code",
      "source": [
        "# Exercício Python 086: Crie um programa que declare uma matriz de dimensão 3×3\n",
        "# e preencha com valores lidos pelo teclado. No final, mostre a matriz na tela,\n",
        "# com a formatação correta.\n",
        "# by geanclm in 06/07/2022 at 06:10h\n",
        "\n",
        "# solução geanclm\n",
        "matriz = [[],[],[]]\n",
        "for i in range (0,9):\n",
        "    n = int(input(f'Digite o {i+1}º número: '))\n",
        "    if i < 3: matriz[0].append(n)\n",
        "    elif i >= 3 and i < 6:\n",
        "        matriz[1].append(n)\n",
        "    else: matriz[2].append(n)\n",
        "print ('-'*33)\n",
        "print ('MATRIZ 3x3')\n",
        "print (f'{matriz[0]}\\n{matriz[1]}\\n{matriz[2]}')\n",
        "\n",
        "# solução Curso em Vídeo\n",
        "# matriz = [[0,0,0],[0,0,0],[0,0,0]]\n",
        "# for l in range(0,3):\n",
        "#     for c in range(0,3):\n",
        "#         matriz[l][c] = int(input(f'Digite um inteiro para a positção [{l},{c}]: '))\n",
        "# for l in range(0,3):\n",
        "#     for c in range(0,3):\n",
        "#         print (f'[{matriz[l][c]:^5}]', end=' ')\n",
        "#     print()"
      ],
      "metadata": {
        "id": "33XRYF27ETyf"
      },
      "execution_count": null,
      "outputs": []
    },
    {
      "cell_type": "code",
      "source": [
        "# Exercício Python 087: Aprimore o desafio anterior, mostrando no final:\n",
        "# A) A soma de todos os valores pares digitados.\n",
        "# B) A soma dos valores da terceira coluna.\n",
        "# C) O maior valor da segunda linha.\n",
        "# by geanclm in 07/04/2022 at 06:06h\n",
        "\n",
        "matriz = [[0,0,0],[0,0,0],[0,0,0]]\n",
        "soma_pares = soma_terceira_coluna = maior_valor_segunda_linha = 0\n",
        "for l in range(0,3):\n",
        "    for c in range(0,3):\n",
        "        matriz[l][c] = int(input(f'Digite um inteiro para a positção [{l},{c}]: '))\n",
        "        if matriz[l][c]%2==0: # soma de todos os valores pares digitados\n",
        "            soma_pares += matriz[l][c]\n",
        "        if c == 2: # soma dos valores da terceira coluna\n",
        "            soma_terceira_coluna += matriz[l][c]\n",
        "        if l == 0 or matriz[1][c] > maior_valor_segunda_linha: # maior valor da segunda linha\n",
        "            maior_valor_segunda_linha = matriz[1][c]\n",
        "print ('-'*33)\n",
        "for l in range(0,3):\n",
        "    for c in range(0,3):\n",
        "        print (f'[{matriz[l][c]:^5}]', end=' ')\n",
        "    print()\n",
        "print ('-'*33)\n",
        "print (f'soma de todos os valores pares digitados: {soma_pares}')\n",
        "print (f'soma dos valores da terceira coluna: {soma_terceira_coluna}')\n",
        "print (f'maior valor da segunda linha: {maior_valor_segunda_linha}')"
      ],
      "metadata": {
        "colab": {
          "base_uri": "https://localhost:8080/"
        },
        "id": "FOwc-ilMNAqb",
        "outputId": "d8be5ce6-9ad6-438f-85e8-e2ff30ac939d"
      },
      "execution_count": null,
      "outputs": [
        {
          "output_type": "stream",
          "name": "stdout",
          "text": [
            "Digite um inteiro para a positção [0,0]: 1\n",
            "Digite um inteiro para a positção [0,1]: 2\n",
            "Digite um inteiro para a positção [0,2]: 3\n",
            "Digite um inteiro para a positção [1,0]: 4\n",
            "Digite um inteiro para a positção [1,1]: 5\n",
            "Digite um inteiro para a positção [1,2]: 6\n",
            "Digite um inteiro para a positção [2,0]: 7\n",
            "Digite um inteiro para a positção [2,1]: 8\n",
            "Digite um inteiro para a positção [2,2]: 9\n",
            "---------------------------------\n",
            "[  1  ] [  2  ] [  3  ] \n",
            "[  4  ] [  5  ] [  6  ] \n",
            "[  7  ] [  8  ] [  9  ] \n",
            "---------------------------------\n",
            "soma de todos os valores pares digitados: 20\n",
            "soma dos valores da terceira coluna: 18\n",
            "maior valor da segunda linha: 6\n"
          ]
        }
      ]
    },
    {
      "cell_type": "code",
      "source": [
        "# Exercício Python 088: Faça um programa que ajude um jogador da MEGA SENA\n",
        "# a criar palpites.O programa vai perguntar quantos jogos serão gerados\n",
        "# e vai sortear 6 números entre 1 e 60 para cada jogo, cadastrando tudo em uma lista composta.\n",
        "# - - -\n",
        "# by geanclm in 07/04/2022 at 08:20h\n",
        "\n",
        "# Import libs\n",
        "from time import sleep\n",
        "import time, random\n",
        "from datetime import datetime, date\n",
        "from random import sample\n",
        "from pytz import timezone\n",
        "\n",
        "# date\n",
        "registro_data_e_hora_completo = time.ctime()\n",
        "hoje = datetime.now()\n",
        "fuso_horario = timezone(\"America/Sao_Paulo\")\n",
        "data_e_hora = hoje.astimezone(fuso_horario)\n",
        "agora = data_e_hora.strftime(\"%A %B %d/%m/%Y %H:%M\"+\"h\")"
      ],
      "metadata": {
        "id": "TSQ7H_MIZn3C"
      },
      "execution_count": null,
      "outputs": []
    },
    {
      "cell_type": "code",
      "source": [
        "jogos = []\n",
        "i,custo = 0,4.5\n",
        "local = '--| LOTÉRICA MENTE MILIONÁRIA |--'\n",
        "mensagem1 = 'Mentalize, acredite e solte!'\n",
        "mensagem2 = 'BOA SORTE!'\n",
        "bilhete = int(input(\"Número de bilhetes para listar? \"))\n",
        "while i < bilhete:\n",
        "    jogos.append(sorted(random.sample(range(1,60),6)))\n",
        "    i += 1\n",
        "print ('-'*33)\n",
        "print (f'{local:^34}')\n",
        "print ('-'*33)\n",
        "print (f'''\n",
        "Gerando jogo(s)...\n",
        "''')\n",
        "print ('-=' * 16)\n",
        "for i, jogo in enumerate(jogos):\n",
        "    sleep(1)\n",
        "    print (f'Jogo{(i+1):<1}: {jogo}')\n",
        "print ('-=' * 16)\n",
        "print (f'''Total de {bilhete} bilhete(s) gerado(s)''')\n",
        "print (f'''Valor bilhete 6 números: R$ {custo:,.2f}''')\n",
        "print (f'''Valor total a pagar: R$ {(custo*bilhete):,.2f}''')\n",
        "print (f'-'*33)\n",
        "print (f'{mensagem1:^33}')\n",
        "print (f'{mensagem2:^33}')\n",
        "print ('-'*33)\n",
        "print (f'{agora:^33}')\n",
        "print ('-'*33)"
      ],
      "metadata": {
        "id": "kAynonyfZsBm",
        "colab": {
          "base_uri": "https://localhost:8080/"
        },
        "outputId": "ba69be6a-cf95-4f12-b30b-00d106cc9f64"
      },
      "execution_count": null,
      "outputs": [
        {
          "output_type": "stream",
          "name": "stdout",
          "text": [
            "Número de bilhetes para listar? 3\n",
            "---------------------------------\n",
            "--| LOTÉRICA MENTE MILIONÁRIA |-- \n",
            "---------------------------------\n",
            "\n",
            "Gerando jogo(s)...\n",
            "\n",
            "-=-=-=-=-=-=-=-=-=-=-=-=-=-=-=-=\n",
            "Jogo1: [6, 12, 30, 43, 50, 56]\n",
            "Jogo2: [11, 22, 37, 43, 50, 53]\n",
            "Jogo3: [6, 12, 19, 27, 35, 47]\n",
            "-=-=-=-=-=-=-=-=-=-=-=-=-=-=-=-=\n",
            "Total de 3 bilhete(s) gerado(s)\n",
            "Valor bilhete 6 números: R$ 4.50\n",
            "Valor total a pagar: R$ 13.50\n",
            "---------------------------------\n",
            "  Mentalize, acredite e solte!   \n",
            "           BOA SORTE!            \n",
            "---------------------------------\n",
            "Saturday April 09/04/2022 14:51h \n",
            "---------------------------------\n"
          ]
        }
      ]
    },
    {
      "cell_type": "code",
      "source": [
        "# Exercício Python 089: Crie um programa que leia nome e duas notas de vários alunos\n",
        "# e guarde tudo em uma lista composta. No final, mostre um boletim contendo a média\n",
        "# de cada um e permita que o usuário possa mostrar as notas de cada aluno individualmente.\n",
        "# by geanclm in 07/04/2022 at 13:09h\n",
        "aluno = []\n",
        "turma = []\n",
        "while True:    \n",
        "    aluno.append(input('nome do aluno: '))\n",
        "    aluno.append(float(input(f'nota 1 de {nome}: ')))\n",
        "    aluno.append(float(input(f'nota 2: ')))\n",
        "    turma.append(aluno[:])\n",
        "    aluno.clear()\n",
        "    continua = str(input('continua? [S/N]: ')).upper().strip()\n",
        "    if continua not in 'S': break\n",
        "print ('-'*25)\n",
        "print (f'{\"No.\":<4}{\"Nome\":<10}{\"Média\":>10}')\n",
        "print ('-'*25)\n",
        "for i, aluno in enumerate(turma):\n",
        "    print (f'{i:<4}{aluno[0]:<10}{((aluno[1]+aluno[2])/2):>10.2f}')\n",
        "print ('-'*25)\n",
        "while True:\n",
        "    verificar = int(input('VERIFICAR NOTAS INDIVIDUAIS DO ALUNO? [999] sair: '))\n",
        "    if verificar != 999:\n",
        "        print (turma[verificar])\n",
        "    else:\n",
        "        break"
      ],
      "metadata": {
        "id": "TpyH87hso2RO"
      },
      "execution_count": null,
      "outputs": []
    },
    {
      "cell_type": "markdown",
      "source": [
        "# Aula 19 – Dicionários"
      ],
      "metadata": {
        "id": "VWQFmfkF6tHR"
      }
    },
    {
      "cell_type": "code",
      "source": [
        "pessoas = {'nome': 'gean', 'sexo': 'm', 'idade': 46}\n",
        "pessoas"
      ],
      "metadata": {
        "colab": {
          "base_uri": "https://localhost:8080/"
        },
        "id": "kT2E52VK_U4-",
        "outputId": "ab86846b-9545-4e2e-82a2-0ca686fa9237"
      },
      "execution_count": null,
      "outputs": [
        {
          "output_type": "execute_result",
          "data": {
            "text/plain": [
              "{'idade': 46, 'nome': 'gean', 'sexo': 'm'}"
            ]
          },
          "metadata": {},
          "execution_count": 64
        }
      ]
    },
    {
      "cell_type": "code",
      "source": [
        "pessoas.values()"
      ],
      "metadata": {
        "colab": {
          "base_uri": "https://localhost:8080/"
        },
        "id": "s6pufQmD_18v",
        "outputId": "3506c7c7-f6f0-49de-8473-20b0bd30d178"
      },
      "execution_count": null,
      "outputs": [
        {
          "output_type": "execute_result",
          "data": {
            "text/plain": [
              "dict_values(['gean', 'm', 46])"
            ]
          },
          "metadata": {},
          "execution_count": 68
        }
      ]
    },
    {
      "cell_type": "code",
      "source": [
        "pessoas.keys()"
      ],
      "metadata": {
        "colab": {
          "base_uri": "https://localhost:8080/"
        },
        "id": "XXuMLwNTAHIV",
        "outputId": "991fa205-5d14-4241-9495-c958b1e7488e"
      },
      "execution_count": null,
      "outputs": [
        {
          "output_type": "execute_result",
          "data": {
            "text/plain": [
              "dict_keys(['nome', 'sexo', 'idade'])"
            ]
          },
          "metadata": {},
          "execution_count": 67
        }
      ]
    },
    {
      "cell_type": "code",
      "source": [
        "pessoas.items()"
      ],
      "metadata": {
        "colab": {
          "base_uri": "https://localhost:8080/"
        },
        "id": "GQnk7yAWAJZs",
        "outputId": "689579a9-4005-40b8-aac9-afdaa36fc2c2"
      },
      "execution_count": null,
      "outputs": [
        {
          "output_type": "execute_result",
          "data": {
            "text/plain": [
              "dict_items([('nome', 'gean'), ('sexo', 'm'), ('idade', 46)])"
            ]
          },
          "metadata": {},
          "execution_count": 69
        }
      ]
    },
    {
      "cell_type": "code",
      "source": [
        "del pessoas['sexo']"
      ],
      "metadata": {
        "id": "GGgivNEeA6Ur"
      },
      "execution_count": null,
      "outputs": []
    },
    {
      "cell_type": "code",
      "source": [
        "pessoas['peso'] = 72"
      ],
      "metadata": {
        "id": "5u3XNXPyBTsj"
      },
      "execution_count": null,
      "outputs": []
    },
    {
      "cell_type": "code",
      "source": [
        "pessoas['nome'] = 'Carlos'"
      ],
      "metadata": {
        "id": "6KKRM1WoBIb0"
      },
      "execution_count": null,
      "outputs": []
    },
    {
      "cell_type": "code",
      "source": [
        "for k,v in pessoas.items():\n",
        "    print (k,v)"
      ],
      "metadata": {
        "colab": {
          "base_uri": "https://localhost:8080/"
        },
        "id": "rLf6K1q4AdIC",
        "outputId": "9289714c-2ee5-4e8b-e80e-55b7ece92235"
      },
      "execution_count": null,
      "outputs": [
        {
          "output_type": "stream",
          "name": "stdout",
          "text": [
            "nome Carlos\n",
            "idade 46\n",
            "peso 72\n"
          ]
        }
      ]
    },
    {
      "cell_type": "code",
      "source": [
        "Brasil = []\n",
        "estado1 = {'uf':'João Pessoa', 'sigla': 'PB'}\n",
        "estado2 = {'uf':'Florianópolis', 'sigla': 'SC'}"
      ],
      "metadata": {
        "id": "qWRrLHI8BNOd"
      },
      "execution_count": null,
      "outputs": []
    },
    {
      "cell_type": "code",
      "source": [
        "Brasil.append(estado1)\n",
        "Brasil.append(estado2)"
      ],
      "metadata": {
        "id": "jx5sTfwTCE4F"
      },
      "execution_count": null,
      "outputs": []
    },
    {
      "cell_type": "code",
      "source": [
        "Brasil"
      ],
      "metadata": {
        "colab": {
          "base_uri": "https://localhost:8080/"
        },
        "id": "r-dJJlIKDGK6",
        "outputId": "3e0acf16-204a-44ef-f8db-36643f21e6aa"
      },
      "execution_count": null,
      "outputs": [
        {
          "output_type": "execute_result",
          "data": {
            "text/plain": [
              "[{'sigla': 'PB', 'uf': 'João Pessoa'}, {'sigla': 'SC', 'uf': 'Florianópolis'}]"
            ]
          },
          "metadata": {},
          "execution_count": 93
        }
      ]
    },
    {
      "cell_type": "code",
      "source": [
        "Brasil[0]['uf']"
      ],
      "metadata": {
        "colab": {
          "base_uri": "https://localhost:8080/",
          "height": 36
        },
        "id": "CFqseQUwCbgF",
        "outputId": "94b75852-b3be-4a60-b032-6924248b90c3"
      },
      "execution_count": null,
      "outputs": [
        {
          "output_type": "execute_result",
          "data": {
            "text/plain": [
              "'João Pessoa'"
            ],
            "application/vnd.google.colaboratory.intrinsic+json": {
              "type": "string"
            }
          },
          "metadata": {},
          "execution_count": 94
        }
      ]
    },
    {
      "cell_type": "code",
      "source": [
        "estado = {}\n",
        "Brasil = []\n",
        "for i in range (0,3):\n",
        "    estado['uf'] = str(input('unidade federativa: '))\n",
        "    estado['sigla'] = str(input('Sigla do Estado: '))\n",
        "    Brasil.append(estado.copy())\n",
        "for i in Brasil:\n",
        "    for k, v in i.items():\n",
        "        print (k, v)"
      ],
      "metadata": {
        "id": "Gd_ts-7RCdyM"
      },
      "execution_count": null,
      "outputs": []
    },
    {
      "cell_type": "code",
      "source": [
        "# Exercício Python 090: Faça um programa que leia\n",
        "# nome e média de um aluno, guardando também a situação em um dicionário.\n",
        "# No final, mostre o conteúdo da estrutura na tela.\n",
        "# by geanclm in 08/04/2022 at 17:42h\n",
        "aluno = {}\n",
        "turma = []\n",
        "aluno['Aluno'] = input('Aluno: ')\n",
        "aluno['Média'] = float(input(f'Média de {aluno[\"Aluno\"]}: '))\n",
        "if aluno['Média'] >= 7:\n",
        "    aluno['Status'] = 'APROVADO'\n",
        "elif   5 <= aluno['Média'] < 7:\n",
        "    aluno['Status'] = 'RECUPERAÇÃO'\n",
        "else:\n",
        "    aluno['Status'] = 'REPROVADO'\n",
        "turma.append(aluno.copy())\n",
        "print ('-'*20)\n",
        "for i in turma:\n",
        "    for k, v in i.items():\n",
        "        print (f'{k:<6}: {v:>12}')"
      ],
      "metadata": {
        "id": "FsUdy1W2rMvU"
      },
      "execution_count": null,
      "outputs": []
    },
    {
      "cell_type": "code",
      "source": [
        "# Exercício Python 091: Crie um programa onde 4 jogadores joguem um dado e tenham\n",
        "# resultados aleatórios. Guarde esses resultados em um dicionário em Python.\n",
        "# No final, coloque esse dicionário em ordem, sabendo que o vencedor tirou o maior número no dado.\n",
        "# by geanclm in 09/04/2022 at 09:25h\n",
        "from random import randint\n",
        "from time import sleep\n",
        "from operator import itemgetter # função importante para ordenar o dicionário\n",
        "jogador = {}\n",
        "for i in range(0,4):\n",
        "    jogador[f'jogador{i+1}'] = randint(1,6)\n",
        "print (f'{\"-\"*33:^33}')\n",
        "print (f'{\"---| JOGO DE DADOS |---\":^33}')\n",
        "print (f'{\"-\"*33:^33}')\n",
        "for k,v in jogador.items():\n",
        "    print (f'{k} lançou o valor: {v}')\n",
        "    sleep(1)\n",
        "print ()\n",
        "print (f'{\"-\"*33:^33}')\n",
        "print (f'{\"---| RANKING |---\":^33}')\n",
        "print (f'{\"-\"*33:^33}')\n",
        "ranking = {}\n",
        "ranking = sorted(jogador.items(), key=itemgetter(1), reverse=True)\n",
        "for i,v in enumerate(ranking):\n",
        "    print (f'{i+1}º Lugar: {v[0]} com {v[1]}')"
      ],
      "metadata": {
        "id": "5wM6vtsO8LSe"
      },
      "execution_count": null,
      "outputs": []
    },
    {
      "cell_type": "code",
      "source": [
        "# Exercício Python 092: Crie um programa que leia\n",
        "# nome, ano de nascimento e carteira de trabalho e cadastre-o (com idade) em um dicionário.\n",
        "# Se por acaso a CTPS for diferente de ZERO,\n",
        "# o dicionário receberá também o ano de contratação e o salário. Calcule e acrescente,\n",
        "# além da idade, com quantos anos a pessoa vai se aposentar.\n",
        "# ---\n",
        "# by geanclm in 10/04/2022 at 07:35h\n",
        "\n",
        "# import lib\n",
        "from datetime import date\n",
        "\n",
        "# definição de variáveis\n",
        "ano = date.today().year\n",
        "tt = 35\n",
        "cadastro = {}\n",
        "\n",
        "# entrada de dados\n",
        "cadastro['Nome'] = input('Nome: ')\n",
        "cadastro['Nascimento'] = int(input(f'Ano de nascimento de {cadastro[\"Nome\"]}: '))\n",
        "cadastro['idade']= ano - cadastro['Nascimento']\n",
        "cadastro['CTPS'] = int(input('Carteira de trabalho [0 não tem]: '))\n",
        "if cadastro['CTPS'] != 0:\n",
        "    cadastro['Contratação'] = int(input('Ano de contratação: '))\n",
        "    cadastro['Salário'] = float(input('Salário R$: '))\n",
        "    cadastro['Aposentadoria'] = (cadastro['Contratação'] - cadastro['Nascimento'])+tt\n",
        "\n",
        "# saída dos dados\n",
        "print ()\n",
        "print (f'{\"-\"*33:^33}')\n",
        "print (f'{\"---| DADOS CADASTRADOS |---\":^33}')\n",
        "print (f'{\"-\"*33:^33}')\n",
        "for k,v in cadastro.items():\n",
        "    print(f'{k}: {v}')"
      ],
      "metadata": {
        "id": "Rri3rr0G-_rD"
      },
      "execution_count": null,
      "outputs": []
    },
    {
      "cell_type": "code",
      "source": [
        "# Exercício Python 093: Crie um programa que gerencie o aproveitamento de um jogador de futebol.\n",
        "# O programa vai ler o nome do jogador e quantas partidas ele jogou.\n",
        "# Depois vai ler a quantidade de gols feitos em cada partida.\n",
        "# No final, tudo isso será guardado em um dicionário,\n",
        "# incluindo o total de gols feitos durante o campeonato.\n",
        "# by geanclm in 10/04/2022 at 19:44h\n",
        "\n",
        "jogador = {}\n",
        "golsPorPartida = []\n",
        "jogador['Nome'] = input('Nome do jogador: ')\n",
        "nPartidas = int(input(f'Quantas partidas {jogador[\"Nome\"]} jogou? '))\n",
        "for i in range(0, nPartidas):\n",
        "    golsPorPartida.append(int(input(f'Números de gols da {i+1}º partida: ')))\n",
        "jogador['gols'] = golsPorPartida[:]\n",
        "jogador['total'] = sum(golsPorPartida)\n",
        "print('-='*30)\n",
        "print(jogador)\n",
        "print('-='*30)\n",
        "for k,v in jogador.items():\n",
        "    print (f'O campo {k} tem o valor {v}')\n",
        "print('-='*30)\n",
        "print (f'O jogador {jogador[\"Nome\"]} jogou {len(jogador[\"gols\"])} patidas')\n",
        "for i,v in enumerate(golsPorPartida):\n",
        "    print (f' => Na partida {i+1}, fez {v} gols')\n",
        "print('-='*30)\n",
        "print (f'Foi um total de {jogador[\"total\"]} gols')"
      ],
      "metadata": {
        "id": "MKNTiJr-le9s"
      },
      "execution_count": null,
      "outputs": []
    },
    {
      "cell_type": "code",
      "source": [
        "# Exercício Python 094: Crie um programa que leia nome, sexo e idade de várias pessoas,\n",
        "# guardando os dados de cada pessoa em um dicionário e todos os dicionários em uma lista.\n",
        "# No final, mostre:\n",
        "# A) Quantas pessoas foram cadastradas\n",
        "# B) A média de idade\n",
        "# C) Uma lista com as mulheres\n",
        "# D) Uma lista de pessoas com idade acima da média\n",
        "# ---\n",
        "# by geanclm in 11/04/2022 at 06:38h\n",
        "# ---\n",
        "# validação e análise de dados\n",
        "# ---\n",
        "\n",
        "# definição de variáveis\n",
        "pessoa = {}\n",
        "equipe = []\n",
        "somaIdade = 0\n",
        "\n",
        "# entrada de dados\n",
        "while True:\n",
        "    pessoa['nome'] = input('nome: ')\n",
        "    while True:\n",
        "        pessoa['sexo'] = input('sexo [M/F]: ').strip().upper()[0]\n",
        "        if pessoa['sexo'] in 'MF':\n",
        "            break\n",
        "        else:    \n",
        "            print ('Favor digitar uma opção válida [M/F]: ')\n",
        "    pessoa['idade'] = int(input('idade: '))\n",
        "    somaIdade += pessoa['idade']\n",
        "    equipe.append(pessoa.copy())\n",
        "    pessoa.clear()\n",
        "    continua = str(input('continua? [S/N]: ')).upper().strip()\n",
        "    if continua not in 'S': break\n",
        "\n",
        "# saída dos dados\n",
        "print('-'*30)\n",
        "print (f'Total de {len(equipe)} pessoa(s) cadastrada(s)')\n",
        "print('-'*30)\n",
        "print (f'A média de idade é de {somaIdade/len(equipe)} anos')\n",
        "print('-'*30)\n",
        "print (f'MULHERES CADASTRADAS')\n",
        "for i in equipe:\n",
        "    if i['sexo'] in 'F':\n",
        "        print (f'{i[\"nome\"]}', end=' ')\n",
        "        print()\n",
        "print('-'*30)\n",
        "print (f'Pessoas com idade acima da média')\n",
        "for i in equipe:\n",
        "    if i['idade'] > somaIdade/len(equipe):\n",
        "        print (i)"
      ],
      "metadata": {
        "id": "m6KRVmyV3iic"
      },
      "execution_count": null,
      "outputs": []
    },
    {
      "cell_type": "code",
      "source": [
        "# Exercício Python 095: Aprimore o desafio 93 para que ele funcione com vários jogadores,\n",
        "# incluindo um sistema de visualização de detalhes do aproveitamento de cada jogador.\n",
        "# ---\n",
        "# by geanclm in 12/04/2022 at 08:08h\n",
        "# ---\n",
        "\n",
        "# definição de variáveis\n",
        "equipe = []\n",
        "jogador = {}\n",
        "golsPorPartida = []\n",
        "\n",
        "# entrada de dados\n",
        "while True:\n",
        "    jogador['nome'] = input('Nome do jogador: ')\n",
        "    nPartidas = int(input(f'Quantas partidas {jogador[\"nome\"]} jogou? '))\n",
        "    for i in range(0, nPartidas):\n",
        "        golsPorPartida.append(int(input(f'Números de gols da {i+1}º partida: ')))\n",
        "    jogador['gols'] = golsPorPartida[:]\n",
        "    jogador['total'] = sum(golsPorPartida)\n",
        "    equipe.append(jogador.copy())\n",
        "    golsPorPartida.clear()\n",
        "\n",
        "    # validação de dados\n",
        "    while True:\n",
        "        continua = str(input('continua? [S/N]: ')).upper().strip()\n",
        "        if continua in 'SN':\n",
        "            break\n",
        "        print (f'\"ERRO!\" Digite \"S\" ou \"N\"')\n",
        "    if continua in 'N':\n",
        "        break\n",
        "\n",
        "# saída de dados\n",
        "print('-'*47)\n",
        "print (f'cod', end=' ')\n",
        "for i in jogador.keys():\n",
        "    print (f'{i:<15}', end=' ')\n",
        "print()\n",
        "print('-'*47)\n",
        "for i, v in enumerate(equipe):\n",
        "    print(f'{i:>3}', end=' ')\n",
        "    for j in v.values():\n",
        "        print (f'{str(j):<15}', end=' ')\n",
        "    print()\n",
        "print('-'*47)\n",
        "\n",
        "# análise de dados\n",
        "while True:    \n",
        "    consulta = int(input('dados de qual jogador? (999 para sair): '))\n",
        "    if consulta < (len(equipe)):\n",
        "            print('-'*47)\n",
        "            print (f'DADOS ESTATÍSTICOS DO JOGADOR {equipe[consulta][\"nome\"]}')            \n",
        "            for i in range(len(equipe)):\n",
        "                print (f'No jogo {i+1} fez {equipe[i][\"total\"]} gols')\n",
        "    if consulta == 999:\n",
        "        break\n",
        "    print('-'*47)\n",
        "print('-'*47)\n",
        "print (f'{\"---| SISTEMAS GCLM - VOLTE SEMPRE |---\":^47}')\n",
        "print('-'*47)"
      ],
      "metadata": {
        "colab": {
          "base_uri": "https://localhost:8080/"
        },
        "id": "quXeyA9NDThK",
        "outputId": "6f8a62ee-177e-4aca-cf04-658008c4e743"
      },
      "execution_count": null,
      "outputs": [
        {
          "output_type": "stream",
          "name": "stdout",
          "text": [
            "dados de qual jogador? (999 para sair): 3\n",
            "-----------------------------------------------\n",
            "DADOS ESTATÍSTICOS DO JOGADOR Madeira\n",
            "No jogo 1 fez 6 gols\n",
            "No jogo 2 fez 4 gols\n",
            "No jogo 3 fez 10 gols\n",
            "No jogo 4 fez 7 gols\n",
            "-----------------------------------------------\n",
            "dados de qual jogador? (999 para sair): 4\n",
            "-----------------------------------------------\n",
            "dados de qual jogador? (999 para sair): 999\n",
            "-----------------------------------------------\n",
            "    ---| SISTEMAS GCLM - VOLTE SEMPRE |---     \n",
            "-----------------------------------------------\n"
          ]
        }
      ]
    },
    {
      "cell_type": "markdown",
      "source": [
        "# Aula 20 – Funções (Parte 1)"
      ],
      "metadata": {
        "id": "26pUs0pTUJxu"
      }
    },
    {
      "cell_type": "code",
      "source": [
        "def soma1 (x,y):\n",
        "    return (x+y)"
      ],
      "metadata": {
        "id": "Dt1JyBVmpIbA"
      },
      "execution_count": null,
      "outputs": []
    },
    {
      "cell_type": "code",
      "source": [
        "def soma2 (*args):\n",
        "    texto = (f'Entrada dos valores {args}. Soma igual a {sum(args)}. Total de {len(args)} números digitados')\n",
        "    return texto"
      ],
      "metadata": {
        "id": "YjFioRmOUMK3"
      },
      "execution_count": null,
      "outputs": []
    },
    {
      "cell_type": "code",
      "source": [
        "def dobra (lista):\n",
        "    for i in range (len(lista)):\n",
        "        lista[i] *= 2\n",
        "    return lista"
      ],
      "metadata": {
        "id": "u0yhFa1itnNa"
      },
      "execution_count": null,
      "outputs": []
    },
    {
      "cell_type": "code",
      "source": [
        "soma1(4,5)"
      ],
      "metadata": {
        "id": "VSyBvb6bpdxI"
      },
      "execution_count": null,
      "outputs": []
    },
    {
      "cell_type": "code",
      "source": [
        "soma2 (4,5,6,7,8,9,0)"
      ],
      "metadata": {
        "id": "7kj6xXXwomxS"
      },
      "execution_count": null,
      "outputs": []
    },
    {
      "cell_type": "code",
      "source": [
        "dobra([1,2,3,4,5,6,7,8,9])"
      ],
      "metadata": {
        "colab": {
          "base_uri": "https://localhost:8080/"
        },
        "id": "GOyXHYFGuL9f",
        "outputId": "7061430c-400e-466d-d6b1-8adf058d6c24"
      },
      "execution_count": null,
      "outputs": [
        {
          "output_type": "execute_result",
          "data": {
            "text/plain": [
              "[2, 4, 6, 8, 10, 12, 14, 16, 18]"
            ]
          },
          "metadata": {},
          "execution_count": 31
        }
      ]
    },
    {
      "cell_type": "code",
      "source": [
        "# Exercício Python 096: Faça um programa que tenha uma função chamada área(),\n",
        "# que receba as dimensões de um terreno retangular (largura e comprimento) e mostre a área do terreno.\n",
        "# by geanclm in 13/04/2022 at 9h\n",
        "\n",
        "# função para calcular a área do terreno\n",
        "def a(x,y):\n",
        "    a = x*y\n",
        "    return a\n",
        "\n",
        "# entrada de dados\n",
        "l = float(input('digite a largura do terreno [m]: '))\n",
        "c = float(input('digite o comprimento do terreno [m]: '))\n",
        "\n",
        "# saída de dados\n",
        "print ('-'*33)\n",
        "print (f'''O terreno de {l}m x {c}m\n",
        " tem {a(l,c)}m²''')"
      ],
      "metadata": {
        "id": "AAdjwcTRyltT"
      },
      "execution_count": null,
      "outputs": []
    },
    {
      "cell_type": "code",
      "source": [
        "# Exercício Python 097: Faça um programa que tenha uma função chamada escreva(),\n",
        "# que receba um texto qualquer como parâmetro e mostre uma mensagem com tamanho adaptável.\n",
        "# by geanclm in 13/04/2022 at 18:40h\n",
        "\n",
        "def escreva(texto):\n",
        "    texto = ' '+texto+' '\n",
        "    print('-'*(len(texto)))\n",
        "    print(f'{texto}')\n",
        "    print('-'*(len(texto)))\n",
        "\n",
        "escreva('Gean Carlos')\n",
        "escreva('Cientista de dados')\n",
        "escreva('Empreendedor')"
      ],
      "metadata": {
        "id": "9FtsL5qi3HzC",
        "colab": {
          "base_uri": "https://localhost:8080/"
        },
        "outputId": "383bcb43-d27b-40ee-8e5a-afc19f1b7df7"
      },
      "execution_count": null,
      "outputs": [
        {
          "output_type": "stream",
          "name": "stdout",
          "text": [
            "-------------\n",
            " Gean Carlos \n",
            "-------------\n",
            "--------------------\n",
            " Cientista de dados \n",
            "--------------------\n",
            "--------------\n",
            " Empreendedor \n",
            "--------------\n"
          ]
        }
      ]
    },
    {
      "cell_type": "code",
      "source": [
        "# Exercício Python 098: Faça um programa que tenha uma função chamada contador(),\n",
        "# que receba três parâmetros: início, fim e passo. Seu programa tem que realizar\n",
        "# três contagens através da função criada:\n",
        "# by geanclm in 14/04/2022 at 6h\n",
        "from time import sleep\n",
        "def contador (start, end, step):\n",
        "    if step == 0:\n",
        "        step = 1\n",
        "    if start > end:\n",
        "        step *= -1\n",
        "        print (f'contagem de {start} até {end} com passo de {step}')\n",
        "        sleep(2)\n",
        "        for i in range(start, end-1, step):\n",
        "            print (i, end=' ', flush=True)\n",
        "            sleep(0.5)\n",
        "    else:\n",
        "        print (f'contagem de {start} até {end} com passo de {step}')\n",
        "        sleep(2)\n",
        "        for i in range(start, end+1, step):\n",
        "            print (i, end=' ', flush=True)\n",
        "            sleep(0.5)\n",
        "    print()\n",
        "    n = int((abs(end-start))/(abs(step)))+1 # quantidade de termos (PA)\n",
        "    print('--'*(n))\n",
        "\n",
        "contador(1,10,1)\n",
        "contador(10,0,2)\n",
        "\n",
        "print ('Agora é sua de definir a sequência')\n",
        "start = int(input('valor inicial da contagem: '))\n",
        "end = int(input('valor final da contagem: '))\n",
        "step = int(input('passo: '))\n",
        "contador (start,end,step)"
      ],
      "metadata": {
        "id": "RO42Rxxu7uff"
      },
      "execution_count": null,
      "outputs": []
    },
    {
      "cell_type": "code",
      "source": [
        "# Exercício Python 099: Faça um programa que tenha uma função chamada maior(),\n",
        "# que receba vários parâmetros com valores inteiros. Seu programa tem que analisar\n",
        "# todos os valores e dizer qual deles é o maior.\n",
        "# ---\n",
        "# by geanclm in 15/04/2022 in 06:41h\n",
        "# ---\n",
        "import random\n",
        "from time import sleep\n",
        "def maior(start,end):\n",
        "    lista = []\n",
        "    for i in range(6,0,-1):\n",
        "        lista = sorted((random.sample(range(start,end),i-1)))\n",
        "        print('Analisando os valores gerados...')\n",
        "        sleep(1)\n",
        "        if len(lista) > 0:\n",
        "            print(f'{lista} |-> selecionado(s) {len(lista)} valor(es).')\n",
        "            print (f'Maior valor: {max(lista)}')\n",
        "        else:\n",
        "            print(f'Nenhum valor selecionado. Não há dados na lista.')\n",
        "            print (f'Maior valor: 0')\n",
        "        print('-'*33)\n",
        "        lista.clear()  \n",
        "# digitar o valor inicial e final do espaço amostral de valores\n",
        "# a função gera seis listas de números aleatórios e retorna o maior valor de cada série\n",
        "# maior (valor inicial, valor final)\n",
        "maior(1,60)"
      ],
      "metadata": {
        "colab": {
          "base_uri": "https://localhost:8080/"
        },
        "id": "XiFTikCOizfU",
        "outputId": "c0679600-088e-4f58-b022-c04d39aef130"
      },
      "execution_count": null,
      "outputs": [
        {
          "output_type": "stream",
          "name": "stdout",
          "text": [
            "Analisando os valores gerados...\n",
            "[2, 6, 11, 23, 43] |-> selecionado(s) 5 valor(es).\n",
            "Maior valor: 43\n",
            "---------------------------------\n",
            "Analisando os valores gerados...\n",
            "[6, 43, 49, 53] |-> selecionado(s) 4 valor(es).\n",
            "Maior valor: 53\n",
            "---------------------------------\n",
            "Analisando os valores gerados...\n",
            "[18, 43, 57] |-> selecionado(s) 3 valor(es).\n",
            "Maior valor: 57\n",
            "---------------------------------\n",
            "Analisando os valores gerados...\n",
            "[32, 41] |-> selecionado(s) 2 valor(es).\n",
            "Maior valor: 41\n",
            "---------------------------------\n",
            "Analisando os valores gerados...\n",
            "[27] |-> selecionado(s) 1 valor(es).\n",
            "Maior valor: 27\n",
            "---------------------------------\n",
            "Analisando os valores gerados...\n",
            "Nenhum valor selecionado. Não há dados na lista.\n",
            "Maior valor: 0\n",
            "---------------------------------\n"
          ]
        }
      ]
    },
    {
      "cell_type": "code",
      "source": [
        "# Exercício Python 100: Faça um programa que tenha uma lista chamada números\n",
        "# e duas funções chamadas sorteia() e somaPar(). A primeira função vai sortear\n",
        "# 5 números e vai colocá-los dentro da lista e a segunda função vai mostrar a\n",
        "# soma entre todos os valores pares sorteados pela função anterior.\n",
        "# by geanclm in 15/04/2022 at 07:41h\n",
        "\n",
        "import random\n",
        "from time import sleep\n",
        "\n",
        "# função para sortear cinco valores de uma lista aleatória\n",
        "def sorteia(start,end):\n",
        "    lista = []\n",
        "    lista = sorted((random.sample(range(start,end),5)))\n",
        "    return lista\n",
        "\n",
        "# função para somar os valores da lista gerada\n",
        "def somaPar(lista):\n",
        "    l = []\n",
        "    l = lista\n",
        "    somaPar = 0\n",
        "    for i in lista:\n",
        "        if i%2 == 0:\n",
        "            somaPar += i\n",
        "    print ('-'*33)\n",
        "    print (f'SORTEANDO 5 valores da lista: {lista}')\n",
        "    sleep(1)\n",
        "    print (f'Soma de todos os PARES: {somaPar}')\n",
        "    print ('-'*33)\n",
        "\n",
        "# saída dos dados\n",
        "lista = [] \n",
        "lista = sorteia(1,10) # digitar aqui o range de valores para gerar a série\n",
        "somaPar(lista)"
      ],
      "metadata": {
        "id": "6C67f8O5m3Oc"
      },
      "execution_count": null,
      "outputs": []
    },
    {
      "cell_type": "markdown",
      "source": [
        "# Aula 21 – Funções (Parte 2)"
      ],
      "metadata": {
        "id": "HwsZmMBPLvGE"
      }
    },
    {
      "cell_type": "code",
      "source": [
        "# interactive help"
      ],
      "metadata": {
        "id": "0vw6WszfLwaH"
      },
      "execution_count": null,
      "outputs": []
    },
    {
      "cell_type": "code",
      "source": [
        "# primeira opção: diretamente no terminal\n",
        "# > python\n",
        "# >>> help()\n",
        "# help> print"
      ],
      "metadata": {
        "id": "2P0ui1YBpA-v"
      },
      "execution_count": null,
      "outputs": []
    },
    {
      "cell_type": "code",
      "source": [
        "help(print)"
      ],
      "metadata": {
        "colab": {
          "base_uri": "https://localhost:8080/"
        },
        "id": "Xzc2Ur5LpC2-",
        "outputId": "7bbe39b8-ddf4-4b62-cb5f-e6bb663660f5"
      },
      "execution_count": null,
      "outputs": [
        {
          "output_type": "stream",
          "name": "stdout",
          "text": [
            "Help on built-in function print in module builtins:\n",
            "\n",
            "print(...)\n",
            "    print(value, ..., sep=' ', end='\\n', file=sys.stdout, flush=False)\n",
            "    \n",
            "    Prints the values to a stream, or to sys.stdout by default.\n",
            "    Optional keyword arguments:\n",
            "    file:  a file-like object (stream); defaults to the current sys.stdout.\n",
            "    sep:   string inserted between values, default a space.\n",
            "    end:   string appended after the last value, default a newline.\n",
            "    flush: whether to forcibly flush the stream.\n",
            "\n"
          ]
        }
      ]
    },
    {
      "cell_type": "code",
      "source": [
        "help(len)"
      ],
      "metadata": {
        "colab": {
          "base_uri": "https://localhost:8080/"
        },
        "id": "Y_u_foEWMxW-",
        "outputId": "dcf34e2e-9c15-49fb-e8c2-bbb5c5e58206"
      },
      "execution_count": null,
      "outputs": [
        {
          "output_type": "stream",
          "name": "stdout",
          "text": [
            "Help on built-in function len in module builtins:\n",
            "\n",
            "len(obj, /)\n",
            "    Return the number of items in a container.\n",
            "\n"
          ]
        }
      ]
    },
    {
      "cell_type": "code",
      "source": [
        "print(print.__doc__)"
      ],
      "metadata": {
        "colab": {
          "base_uri": "https://localhost:8080/"
        },
        "id": "ro63nhj-cHAl",
        "outputId": "830ab700-279c-48d1-dc80-29590f7dcced"
      },
      "execution_count": null,
      "outputs": [
        {
          "output_type": "stream",
          "name": "stdout",
          "text": [
            "print(value, ..., sep=' ', end='\\n', file=sys.stdout, flush=False)\n",
            "\n",
            "Prints the values to a stream, or to sys.stdout by default.\n",
            "Optional keyword arguments:\n",
            "file:  a file-like object (stream); defaults to the current sys.stdout.\n",
            "sep:   string inserted between values, default a space.\n",
            "end:   string appended after the last value, default a newline.\n",
            "flush: whether to forcibly flush the stream.\n"
          ]
        }
      ]
    },
    {
      "cell_type": "code",
      "source": [
        "# docstring\n",
        "def contador (start,end,step):\n",
        "    \"\"\"\n",
        "    -> Faz uma contagem e mostra a sequência na tela\n",
        "    param start: valor inicial da série [ex: 1]\n",
        "    param end: valor final da série [ex: 10]\n",
        "    param step: passo da contagem [ex: 2]\n",
        "    return: sem retorno [saída automatica do resultado]\n",
        "    by geanclm in 15/04/2022 at 11:22h\n",
        "    \"\"\"\n",
        "    c = 1\n",
        "    while c <= end:\n",
        "        print(f'{c}', end=' ')\n",
        "        c += 1\n",
        "contador (1,10,2)"
      ],
      "metadata": {
        "colab": {
          "base_uri": "https://localhost:8080/"
        },
        "id": "tUf5xpxMhsxv",
        "outputId": "1cb3367d-623b-4f3a-cec3-d078af4b4bae"
      },
      "execution_count": null,
      "outputs": [
        {
          "output_type": "stream",
          "name": "stdout",
          "text": [
            "1 2 3 4 5 6 7 8 9 10 "
          ]
        }
      ]
    },
    {
      "cell_type": "code",
      "source": [
        "help(contador)"
      ],
      "metadata": {
        "colab": {
          "base_uri": "https://localhost:8080/"
        },
        "id": "hZW0iR-XlLCd",
        "outputId": "8e024825-a3aa-46c1-a1a3-531f557c6a92"
      },
      "execution_count": null,
      "outputs": [
        {
          "output_type": "stream",
          "name": "stdout",
          "text": [
            "Help on function contador in module __main__:\n",
            "\n",
            "contador(start, end, step)\n",
            "    -> Faz uma contagem e mostra a sequência na tela\n",
            "    param start: valor inicial da série [ex: 1]\n",
            "    param end: valor final da série [ex: 10]\n",
            "    param step: passo da contagem [ex: 2]\n",
            "    return: sem retorno [saída automatica do resultado]\n",
            "    by geanclm in 15/04/2022 at 11:22h\n",
            "\n"
          ]
        }
      ]
    },
    {
      "cell_type": "code",
      "source": [
        "# parâmetros opcionais\n",
        "def soma(a=0,b=0,c=0):\n",
        "    s = a+b+c\n",
        "    print(f'A soma de {a} + {b} + {c} = {s}')\n",
        "soma(3,2,5)\n",
        "soma(8,4)\n",
        "soma (a=1,c=2)"
      ],
      "metadata": {
        "colab": {
          "base_uri": "https://localhost:8080/"
        },
        "id": "x6GI441OmzAa",
        "outputId": "cbf28402-9edc-4db3-a509-e117bb4db3a7"
      },
      "execution_count": null,
      "outputs": [
        {
          "output_type": "stream",
          "name": "stdout",
          "text": [
            "A soma de 3 + 2 + 5 = 10\n",
            "A soma de 8 + 4 + 0 = 12\n",
            "A soma de 1 + 0 + 2 = 3\n"
          ]
        }
      ]
    },
    {
      "cell_type": "code",
      "source": [
        "# escopo de variáveis\n",
        "def teste (x):\n",
        "    global n\n",
        "    n = 22 # variável n local\n",
        "    x = 8 # variável local\n",
        "    print ('-'*33)\n",
        "    print (f'Na função teste() n = {n}')\n",
        "    print (f'Na função teste() x = {x}')\n",
        "    print ('-'*33)\n",
        "\n",
        "# programa principal\n",
        "n = 2 # variável global\n",
        "# print (f'No programa principal x = {x}') # variável local da função teste()\n",
        "teste(n)\n",
        "print (f'No programa principal n = {n}')"
      ],
      "metadata": {
        "colab": {
          "base_uri": "https://localhost:8080/"
        },
        "id": "ow6D5Ta4nSK3",
        "outputId": "78f0e0cd-578d-42aa-8ceb-8b1c24f0f503"
      },
      "execution_count": null,
      "outputs": [
        {
          "output_type": "stream",
          "name": "stdout",
          "text": [
            "---------------------------------\n",
            "Na função teste() n = 22\n",
            "Na função teste() x = 8\n",
            "---------------------------------\n",
            "No programa principal n = 22\n"
          ]
        }
      ]
    },
    {
      "cell_type": "code",
      "source": [
        "# escopo de chamada de função"
      ],
      "metadata": {
        "id": "wttxGezDp20p"
      },
      "execution_count": null,
      "outputs": []
    },
    {
      "cell_type": "code",
      "source": [
        "# retorno de valores\n",
        "def soma(a=0,b=0,c=0):\n",
        "    s = a+b+c\n",
        "    return s\n",
        "r1 = soma(3,2,5)\n",
        "r2 = soma(2,2)\n",
        "r3 = soma(6)\n",
        "print (f'Os resultados da função soma() são: {r1}, {r2} e {r3}')"
      ],
      "metadata": {
        "colab": {
          "base_uri": "https://localhost:8080/"
        },
        "id": "Dv5BhhsNuKUQ",
        "outputId": "759d4c1c-3d33-4aeb-b27f-ab302500aa85"
      },
      "execution_count": null,
      "outputs": [
        {
          "output_type": "stream",
          "name": "stdout",
          "text": [
            "Os resultados da função soma() são: 10, 4 e 6\n"
          ]
        }
      ]
    },
    {
      "cell_type": "code",
      "source": [
        "def fatorial(n=0):\n",
        "    f = 1 # variável local\n",
        "    for i in range (1, n+1):\n",
        "        f *= i\n",
        "    return f"
      ],
      "metadata": {
        "id": "sTMcoISQwyLe"
      },
      "execution_count": null,
      "outputs": []
    },
    {
      "cell_type": "code",
      "source": [
        "n = 5\n",
        "print (f'O fatorial de {n} é igual a {fatorial(n)}')"
      ],
      "metadata": {
        "colab": {
          "base_uri": "https://localhost:8080/"
        },
        "id": "SCVdBdEvxsWv",
        "outputId": "e89fa973-8102-476d-8e98-a6487a61ea6a"
      },
      "execution_count": null,
      "outputs": [
        {
          "output_type": "stream",
          "name": "stdout",
          "text": [
            "O fatorial de 5 é igual a 120\n"
          ]
        }
      ]
    },
    {
      "cell_type": "code",
      "source": [
        "# Exercício Python 101: Crie um programa que tenha uma função chamada voto()\n",
        "# que vai receber como parâmetro o ano de nascimento de uma pessoa,\n",
        "# retornando um valor literal indicando se uma pessoa tem voto NEGADO,\n",
        "# OPCIONAL e OBRIGATÓRIO nas eleições.\n",
        "# by geanclm in 16/04/2022 at 10:47h\n",
        "\n",
        "def voto(nasc=0):\n",
        "    from datetime import date\n",
        "    ano = date.today().year\n",
        "    idade = ano-nasc\n",
        "    if idade < 16:\n",
        "        msg = (f'voto NEGADO! Idade informada: {idade} anos')\n",
        "    elif (idade > 16 and idade < 18) or (idade > 70):\n",
        "        msg = (f'voto OPCIONAL! Idade informada: {idade} anos')\n",
        "    else:\n",
        "        msg = (f'voto OBRIGATÓRIO! Idade informada: {idade} anos')\n",
        "    return msg\n",
        "\n",
        "nasc = int(input('Ano de nascimento: [ex: 2000] '))\n",
        "voto (nasc)"
      ],
      "metadata": {
        "colab": {
          "base_uri": "https://localhost:8080/",
          "height": 53
        },
        "id": "QBd8Nr3Annzy",
        "outputId": "2c813c20-b18c-473e-87d1-9ec96c557526"
      },
      "execution_count": null,
      "outputs": [
        {
          "name": "stdout",
          "output_type": "stream",
          "text": [
            "Ano de nascimento: [ex: 2000] 2001\n"
          ]
        },
        {
          "output_type": "execute_result",
          "data": {
            "text/plain": [
              "'voto OBRIGATÓRIO! Idade informada: 21 anos'"
            ],
            "application/vnd.google.colaboratory.intrinsic+json": {
              "type": "string"
            }
          },
          "metadata": {},
          "execution_count": 21
        }
      ]
    },
    {
      "cell_type": "code",
      "source": [
        "# Exercício Python 102: Crie um programa que tenha uma função fatorial()\n",
        "# que receba dois parâmetros: o primeiro que indique o número a calcular\n",
        "# e outro chamado show, que será um valor lógico (opcional) indicando\n",
        "# se será mostrado ou não na tela o processo de cálculo do fatorial.\n",
        "# ---\n",
        "# by geanclm in 16/04/2022 at 13:31h\n",
        "# ---\n",
        "def fatorial(n=0, show=' '):\n",
        "    \"\"\"\n",
        "    -> Calcula o fatorial de um número\n",
        "    :param n: número para cálculo\n",
        "    :param show: (opcional) retorna o processo de cálculo\n",
        "    :return: fatorial de um número n\n",
        "    \"\"\"\n",
        "    f = 1 # variável local\n",
        "    print('-'*25)\n",
        "    for i in range (n, 0, -1):\n",
        "        f *= i\n",
        "    if show == True:      \n",
        "        for i in range(n, 1, -1):\n",
        "            print (f'{i} x', end=' ')\n",
        "        print (f'1 = {f}')\n",
        "    else:\n",
        "        return f\n",
        "\n",
        "# fatorial(5, show=True)\n",
        "\n",
        "help(fatorial) # docstring"
      ],
      "metadata": {
        "colab": {
          "base_uri": "https://localhost:8080/"
        },
        "id": "GEuKrEDfzMd5",
        "outputId": "5c2edc07-0781-4c08-86fb-74f8f9cb810e"
      },
      "execution_count": null,
      "outputs": [
        {
          "output_type": "stream",
          "name": "stdout",
          "text": [
            "Help on function fatorial in module __main__:\n",
            "\n",
            "fatorial(n=0, show=' ')\n",
            "    -> Calcula o fatorial de um número\n",
            "    :param n: número para cálculo\n",
            "    :param show: (opcional) retorna o processo de cálculo\n",
            "    :return: fatorial de um número n\n",
            "\n"
          ]
        }
      ]
    },
    {
      "cell_type": "code",
      "source": [
        "# Exercício Python 103: Faça um programa que tenha uma função chamada ficha(),\n",
        "# que receba dois parâmetros opcionais: o nome de um jogador e quantos gols ele marcou.\n",
        "# O programa deverá ser capaz de mostrar a ficha do jogador, mesmo que algum dado não\n",
        "# tenha sido informado corretamente.\n",
        "# by geanclm in 16/04/2022 at 18:30h\n",
        "\n",
        "def ficha(nome='<DESCONHECIDO>', gols=0):\n",
        "    \"\"\"\n",
        "    -> Exibe a ficha do jogador\n",
        "    :param nome: nome do jogador\n",
        "    :param gols: quantidade de gols do jogador informado. Número inteiro. Ex: 3\n",
        "    :print: imprime na tela a ficha as informações do jogador\n",
        "    \"\"\"\n",
        "    print(f'Jogador {nome} com total de {gols} gols marcados')\n",
        "\n",
        "nome = str(input('nome do jogador: '))\n",
        "gols = str(input('total de gols: '))\n",
        "\n",
        "if gols.isnumeric():\n",
        "    gols = int(gols)\n",
        "else:\n",
        "    gols = 0\n",
        "if nome.strip() == '':\n",
        "    ficha(gols=gols)\n",
        "else:\n",
        "    ficha(nome, gols)\n",
        "\n",
        "# help(ficha) # docstring"
      ],
      "metadata": {
        "id": "Rw6EupsEEn2z"
      },
      "execution_count": null,
      "outputs": []
    },
    {
      "cell_type": "code",
      "source": [
        "# Exercício Python 104: Crie um programa que tenha a função leiaInt(),\n",
        "# que vai funcionar de forma semelhante ‘a função input() do Python,\n",
        "# só que fazendo a validação para aceitar apenas um valor numérico.\n",
        "# Ex: n = leiaInt(‘Digite um n: ‘)\n",
        "# by geanclm in 16/04/2022 at 18:59h\n",
        "def leiaInt(n):\n",
        "    n = str(input(n))\n",
        "    if not n.isnumeric():\n",
        "        while True:    \n",
        "            print ('\\033[31m'+'ERRO! O dado informado \"'+n+'\" não é um número inteiro!'+'\\033[0;0m')\n",
        "            n = str(input('Digite um número inteiro válido: '))\n",
        "            if n.isnumeric():\n",
        "                print('-'*33)\n",
        "                print (f'OK! O dado informado \"{n}\" pode ser convertido para número inteiro!')\n",
        "                break\n",
        "    else:\n",
        "        print('-'*33)\n",
        "        print (f'OK! O dado informado \"{n}\" pode ser convertido para número inteiro!')\n",
        "\n",
        "n = leiaInt('Digite um número: ')"
      ],
      "metadata": {
        "id": "TDJiH_D2TaB9"
      },
      "execution_count": null,
      "outputs": []
    },
    {
      "cell_type": "code",
      "source": [
        "# Exercício Python 105: Faça um programa que tenha uma função notas()\n",
        "# que pode receber várias notas de alunos e vai retornar um dicionário\n",
        "# com as seguintes informações:\n",
        "# – Quantidade de notas\n",
        "# – A maior nota\n",
        "# – A situação (opcional)\n",
        "# by geanclm in 17/04/2022 at 11:40h\n",
        "\n",
        "def soma(*notas, status=''):\n",
        "    # docstrings\n",
        "    \"\"\"\n",
        "    -> Exibe o relatório de notas do aluno\n",
        "    :param notas: relação de notas do aluno. Pode ser adcionado n notas.\n",
        "    :param status: Exibe a situção do aluno de acordo com a média atual [REPROVADO, RECUPERAÇÃO, APROVADO]\n",
        "    :print: imprime na tela os dados do aluno: total, maior nota, menor nota, média e situação\n",
        "    \"\"\"\n",
        "    dic = {}\n",
        "    dic['total avaliações'] = len(notas)\n",
        "    dic['maior n'] = max(notas)\n",
        "    dic['menor n'] = min(notas)\n",
        "    dic['média'] = sum(notas)/len(notas)\n",
        "    if status:\n",
        "        if dic['média'] >= 7:\n",
        "            status = 'APROVADO'\n",
        "        elif dic['média'] >= 5 and dic['média'] < 7:\n",
        "            status = 'RECUPERAÇÃO'\n",
        "        else:\n",
        "            status = 'REPROVADO'\n",
        "        dic['situação'] = status    \n",
        "    print (dic)\n",
        "\n",
        "# programa principal\n",
        "soma(5.5,2.5,1.5, status=True)\n",
        "# help(soma)"
      ],
      "metadata": {
        "colab": {
          "base_uri": "https://localhost:8080/"
        },
        "id": "jQ_dR52MpxXd",
        "outputId": "fc5c7bc4-3131-4d77-dbf5-e00ec8097ccb"
      },
      "execution_count": null,
      "outputs": [
        {
          "output_type": "stream",
          "name": "stdout",
          "text": [
            "{'total avaliações': 3, 'maior n': 5.5, 'menor n': 1.5, 'média': 3.1666666666666665, 'situação': 'REPROVADO'}\n"
          ]
        }
      ]
    },
    {
      "cell_type": "code",
      "source": [
        "# Exercício Python 106: Faça um mini-sistema que utilize o Interactive Help do Python.\n",
        "# O usuário vai digitar o comando e o manual vai aparecer.\n",
        "# Quando o usuário digitar a palavra ‘FIM’, o programa se encerrará.\n",
        "# Importante: use cores.\n",
        "# by geanclm in 17/04/2022 at 14h\n",
        "\n",
        "from time import sleep\n",
        "\n",
        "# variável global\n",
        "c=('\\033[0;0m',         # 0 = sem cor\n",
        "   '\\033[37;41m',       # 1 = vermelho\n",
        "   '\\033[30;42m',       # 2 = verde\n",
        "   '\\033[30;43m',       # 3 = amarelo\n",
        "   '\\033[30;44m',       # 4 = azul\n",
        "   '\\033[30;45m',       # 5 = roxo\n",
        "   '\\033[7;30m',        # 6 = branco   \n",
        "    )\n",
        "\n",
        "def ajuda(consulta):\n",
        "    escreva(f'Acessando o manual do comando \\'{consulta}\\'',4)\n",
        "    print(c[3], end='')\n",
        "    help(consulta)\n",
        "    print(c[0], end='')\n",
        "    sleep(2)\n",
        "\n",
        "def escreva(texto, cor=0):\n",
        "    texto = ' '+texto+' '\n",
        "    print(c[cor], end='')\n",
        "    print('-'*(len(texto)))\n",
        "    print(f'{texto}')\n",
        "    print('-'*(len(texto)))\n",
        "    print(c[0], end='')\n",
        "    sleep(1)\n",
        "\n",
        "while True:\n",
        "    escreva('SISTEMA DE AJUDA PyHELP', 2)\n",
        "    consulta = str(input('Função / biblioteca [\"Q\" para sair]: '))\n",
        "    if consulta.upper() == 'Q':\n",
        "        break\n",
        "    else:\n",
        "         ajuda(consulta)\n",
        "\n",
        "escreva ('QUIT', 1)"
      ],
      "metadata": {
        "id": "jDzzgRhNFAq6"
      },
      "execution_count": null,
      "outputs": []
    },
    {
      "cell_type": "code",
      "source": [
        "print (f'''\\033[30;1;43m Curso em Vídeo \\033[0;0m''')\n",
        "print (f'''\\033[37;1;42m Curso em Vídeo \\033[0;0m''')\n",
        "print (f'''\\033[37;1;45m Curso em Vídeo \\033[0;0m''')\n",
        "print (f'''\\033[37;1;44m Curso em Vídeo \\033[0;0m''')"
      ],
      "metadata": {
        "id": "08EHsEWFVtEB"
      },
      "execution_count": null,
      "outputs": []
    },
    {
      "cell_type": "markdown",
      "source": [
        "# Aula 22 – Módulos e Pacotes"
      ],
      "metadata": {
        "id": "kq7jVqNgiJIb"
      }
    },
    {
      "cell_type": "code",
      "source": [
        "# módulos e pacotes"
      ],
      "metadata": {
        "id": "kh6Bd97AiKd7"
      },
      "execution_count": null,
      "outputs": []
    },
    {
      "cell_type": "code",
      "source": [
        "def fatorial(n):\n",
        "    \"\"\"\n",
        "    -> Função para retornar o fatorial de um número\n",
        "    \"\"\"\n",
        "    f=1\n",
        "    for i in range(1, n+1):\n",
        "        f *= i\n",
        "    return f\n",
        "\n",
        "# programa principal\n",
        "n = int(input('digite um número: '))\n",
        "fat = fatorial(n)\n",
        "print(f'O fatorial de {n} é {fat}')"
      ],
      "metadata": {
        "id": "GL5cFkkIorO5"
      },
      "execution_count": null,
      "outputs": []
    },
    {
      "cell_type": "code",
      "source": [
        "# VANTAGENS dos módulos\n",
        "# organização do código\n",
        "# facilidade de manutenção\n",
        "# ocultação do código detalhado\n",
        "# reutilizar em outros projetos"
      ],
      "metadata": {
        "id": "_nUlSt72wXnS"
      },
      "execution_count": null,
      "outputs": []
    },
    {
      "cell_type": "code",
      "source": [
        "# PACOTES (Python)\n",
        "\n",
        "# pacote usefull:\n",
        "        # __init__.py\n",
        "#     módulo números\n",
        "        # __init__.py\n",
        "        # função fatorial ()\n",
        "#     módulo datas\n",
        "        # __init__.py\n",
        "#     módulo cores\n",
        "        # __init__.py\n",
        "#     módulo strngs\n",
        "        # __init__.py"
      ],
      "metadata": {
        "id": "ZQmQXcG8woBm"
      },
      "execution_count": null,
      "outputs": []
    },
    {
      "cell_type": "markdown",
      "source": [
        "# Aula 23 – Tratamento de Erros e Exceções"
      ],
      "metadata": {
        "id": "UaKnzFatioAi"
      }
    },
    {
      "cell_type": "code",
      "source": [
        "# erros e exceções"
      ],
      "metadata": {
        "id": "yT_I1uX9iplx"
      },
      "execution_count": null,
      "outputs": []
    },
    {
      "cell_type": "code",
      "source": [
        "n = int(input('Digite um número: '))\n",
        "print (n)"
      ],
      "metadata": {
        "colab": {
          "base_uri": "https://localhost:8080/",
          "height": 205
        },
        "id": "rgS612Qomd15",
        "outputId": "ba57ba01-4cac-4fdc-c9ae-f093bc8539db"
      },
      "execution_count": null,
      "outputs": [
        {
          "name": "stdout",
          "output_type": "stream",
          "text": [
            "Digite um número: oito\n"
          ]
        },
        {
          "output_type": "error",
          "ename": "ValueError",
          "evalue": "ignored",
          "traceback": [
            "\u001b[0;31m---------------------------------------------------------------------------\u001b[0m",
            "\u001b[0;31mValueError\u001b[0m                                Traceback (most recent call last)",
            "\u001b[0;32m<ipython-input-6-6935cb9b2efa>\u001b[0m in \u001b[0;36m<module>\u001b[0;34m()\u001b[0m\n\u001b[0;32m----> 1\u001b[0;31m \u001b[0mn\u001b[0m \u001b[0;34m=\u001b[0m \u001b[0mint\u001b[0m\u001b[0;34m(\u001b[0m\u001b[0minput\u001b[0m\u001b[0;34m(\u001b[0m\u001b[0;34m'Digite um número: '\u001b[0m\u001b[0;34m)\u001b[0m\u001b[0;34m)\u001b[0m\u001b[0;34m\u001b[0m\u001b[0;34m\u001b[0m\u001b[0m\n\u001b[0m\u001b[1;32m      2\u001b[0m \u001b[0mprint\u001b[0m \u001b[0;34m(\u001b[0m\u001b[0mn\u001b[0m\u001b[0;34m)\u001b[0m\u001b[0;34m\u001b[0m\u001b[0;34m\u001b[0m\u001b[0m\n",
            "\u001b[0;31mValueError\u001b[0m: invalid literal for int() with base 10: 'oito'"
          ]
        }
      ]
    },
    {
      "cell_type": "code",
      "source": [
        "print(x)"
      ],
      "metadata": {
        "colab": {
          "base_uri": "https://localhost:8080/",
          "height": 169
        },
        "id": "RyYVFXJHmDIv",
        "outputId": "73120da0-d91c-4a80-b770-14f78cb47d98"
      },
      "execution_count": null,
      "outputs": [
        {
          "output_type": "error",
          "ename": "NameError",
          "evalue": "ignored",
          "traceback": [
            "\u001b[0;31m---------------------------------------------------------------------------\u001b[0m",
            "\u001b[0;31mNameError\u001b[0m                                 Traceback (most recent call last)",
            "\u001b[0;32m<ipython-input-4-fc17d851ef81>\u001b[0m in \u001b[0;36m<module>\u001b[0;34m()\u001b[0m\n\u001b[0;32m----> 1\u001b[0;31m \u001b[0mprint\u001b[0m\u001b[0;34m(\u001b[0m\u001b[0mx\u001b[0m\u001b[0;34m)\u001b[0m\u001b[0;34m\u001b[0m\u001b[0;34m\u001b[0m\u001b[0m\n\u001b[0m",
            "\u001b[0;31mNameError\u001b[0m: name 'x' is not defined"
          ]
        }
      ]
    },
    {
      "cell_type": "code",
      "source": [
        "a = 8\n",
        "b = 0\n",
        "a/b\n"
      ],
      "metadata": {
        "colab": {
          "base_uri": "https://localhost:8080/",
          "height": 205
        },
        "id": "Hg3hhpw_l7_l",
        "outputId": "5172a37d-b4fe-4e4a-ef31-3ac8cd43b889"
      },
      "execution_count": null,
      "outputs": [
        {
          "output_type": "error",
          "ename": "ZeroDivisionError",
          "evalue": "ignored",
          "traceback": [
            "\u001b[0;31m---------------------------------------------------------------------------\u001b[0m",
            "\u001b[0;31mZeroDivisionError\u001b[0m                         Traceback (most recent call last)",
            "\u001b[0;32m<ipython-input-16-929539863048>\u001b[0m in \u001b[0;36m<module>\u001b[0;34m()\u001b[0m\n\u001b[1;32m      1\u001b[0m \u001b[0ma\u001b[0m \u001b[0;34m=\u001b[0m \u001b[0;36m8\u001b[0m\u001b[0;34m\u001b[0m\u001b[0;34m\u001b[0m\u001b[0m\n\u001b[1;32m      2\u001b[0m \u001b[0mb\u001b[0m \u001b[0;34m=\u001b[0m \u001b[0;36m0\u001b[0m\u001b[0;34m\u001b[0m\u001b[0;34m\u001b[0m\u001b[0m\n\u001b[0;32m----> 3\u001b[0;31m \u001b[0ma\u001b[0m\u001b[0;34m/\u001b[0m\u001b[0mb\u001b[0m\u001b[0;34m\u001b[0m\u001b[0;34m\u001b[0m\u001b[0m\n\u001b[0m",
            "\u001b[0;31mZeroDivisionError\u001b[0m: division by zero"
          ]
        }
      ]
    },
    {
      "cell_type": "code",
      "source": [
        "r = 2/'2'"
      ],
      "metadata": {
        "colab": {
          "base_uri": "https://localhost:8080/",
          "height": 169
        },
        "id": "ofM2NwIZm3zE",
        "outputId": "6fafb952-b46c-4111-8634-2b9b2ccd56b8"
      },
      "execution_count": null,
      "outputs": [
        {
          "output_type": "error",
          "ename": "TypeError",
          "evalue": "ignored",
          "traceback": [
            "\u001b[0;31m---------------------------------------------------------------------------\u001b[0m",
            "\u001b[0;31mTypeError\u001b[0m                                 Traceback (most recent call last)",
            "\u001b[0;32m<ipython-input-8-fe355301a11e>\u001b[0m in \u001b[0;36m<module>\u001b[0;34m()\u001b[0m\n\u001b[0;32m----> 1\u001b[0;31m \u001b[0mr\u001b[0m \u001b[0;34m=\u001b[0m \u001b[0;36m2\u001b[0m\u001b[0;34m/\u001b[0m\u001b[0;34m'2'\u001b[0m\u001b[0;34m\u001b[0m\u001b[0;34m\u001b[0m\u001b[0m\n\u001b[0m",
            "\u001b[0;31mTypeError\u001b[0m: unsupported operand type(s) for /: 'int' and 'str'"
          ]
        }
      ]
    },
    {
      "cell_type": "code",
      "source": [
        "lista = [3,6,9]\n",
        "print(lista[3])"
      ],
      "metadata": {
        "colab": {
          "base_uri": "https://localhost:8080/",
          "height": 187
        },
        "id": "U2Dpnxk3nMnL",
        "outputId": "94f42bcd-9591-4497-ca74-042dcd437d45"
      },
      "execution_count": null,
      "outputs": [
        {
          "output_type": "error",
          "ename": "IndexError",
          "evalue": "ignored",
          "traceback": [
            "\u001b[0;31m---------------------------------------------------------------------------\u001b[0m",
            "\u001b[0;31mIndexError\u001b[0m                                Traceback (most recent call last)",
            "\u001b[0;32m<ipython-input-9-192122f5c985>\u001b[0m in \u001b[0;36m<module>\u001b[0;34m()\u001b[0m\n\u001b[1;32m      1\u001b[0m \u001b[0mlista\u001b[0m \u001b[0;34m=\u001b[0m \u001b[0;34m[\u001b[0m\u001b[0;36m3\u001b[0m\u001b[0;34m,\u001b[0m\u001b[0;36m6\u001b[0m\u001b[0;34m,\u001b[0m\u001b[0;36m9\u001b[0m\u001b[0;34m]\u001b[0m\u001b[0;34m\u001b[0m\u001b[0;34m\u001b[0m\u001b[0m\n\u001b[0;32m----> 2\u001b[0;31m \u001b[0mprint\u001b[0m\u001b[0;34m(\u001b[0m\u001b[0mlista\u001b[0m\u001b[0;34m[\u001b[0m\u001b[0;36m3\u001b[0m\u001b[0;34m]\u001b[0m\u001b[0;34m)\u001b[0m\u001b[0;34m\u001b[0m\u001b[0;34m\u001b[0m\u001b[0m\n\u001b[0m",
            "\u001b[0;31mIndexError\u001b[0m: list index out of range"
          ]
        }
      ]
    },
    {
      "cell_type": "code",
      "source": [
        "import uteis"
      ],
      "metadata": {
        "colab": {
          "base_uri": "https://localhost:8080/",
          "height": 312
        },
        "id": "R9iLX3hsnk0s",
        "outputId": "fec5e895-54e2-4394-f68e-bb0c8b58758f"
      },
      "execution_count": null,
      "outputs": [
        {
          "output_type": "error",
          "ename": "ModuleNotFoundError",
          "evalue": "ignored",
          "traceback": [
            "\u001b[0;31m---------------------------------------------------------------------------\u001b[0m",
            "\u001b[0;31mModuleNotFoundError\u001b[0m                       Traceback (most recent call last)",
            "\u001b[0;32m<ipython-input-10-c200af2e0af9>\u001b[0m in \u001b[0;36m<module>\u001b[0;34m()\u001b[0m\n\u001b[0;32m----> 1\u001b[0;31m \u001b[0;32mimport\u001b[0m \u001b[0muteis\u001b[0m\u001b[0;34m\u001b[0m\u001b[0;34m\u001b[0m\u001b[0m\n\u001b[0m",
            "\u001b[0;31mModuleNotFoundError\u001b[0m: No module named 'uteis'",
            "",
            "\u001b[0;31m---------------------------------------------------------------------------\u001b[0;32m\nNOTE: If your import is failing due to a missing package, you can\nmanually install dependencies using either !pip or !apt.\n\nTo view examples of installing some common dependencies, click the\n\"Open Examples\" button below.\n\u001b[0;31m---------------------------------------------------------------------------\u001b[0m\n"
          ],
          "errorDetails": {
            "actions": [
              {
                "action": "open_url",
                "actionText": "Open Examples",
                "url": "/notebooks/snippets/importing_libraries.ipynb"
              }
            ]
          }
        }
      ]
    },
    {
      "cell_type": "code",
      "source": [
        "# https://docs.python.org/3/library/exceptions.html"
      ],
      "metadata": {
        "id": "CXDbDeC3n-Ti"
      },
      "execution_count": null,
      "outputs": []
    },
    {
      "cell_type": "code",
      "source": [
        "try:\n",
        "    # operação\n",
        "    print('texto...')\n",
        "except:\n",
        "    # falhou\n",
        "    print('error!')"
      ],
      "metadata": {
        "colab": {
          "base_uri": "https://localhost:8080/"
        },
        "id": "0W7x835PoU2-",
        "outputId": "a6148130-5e0c-41fd-9d6f-f6b45befd76b"
      },
      "execution_count": null,
      "outputs": [
        {
          "output_type": "stream",
          "name": "stdout",
          "text": [
            "texto...\n"
          ]
        }
      ]
    },
    {
      "cell_type": "code",
      "source": [
        "try:\n",
        "    # operação\n",
        "    print('texto...')\n",
        "except:\n",
        "    # falhou\n",
        "    print('error!')\n",
        "else:\n",
        "    # deu certo\n",
        "finally:\n",
        "    # certo/falha"
      ],
      "metadata": {
        "id": "UF_QgSaxptmC"
      },
      "execution_count": null,
      "outputs": []
    },
    {
      "cell_type": "code",
      "source": [
        "def escreva(texto):\n",
        "    texto = ' '+texto+' '\n",
        "    print('-'*(len(texto)))\n",
        "    print(f'{texto}')\n",
        "    print('-'*(len(texto)))\n",
        "a = 8\n",
        "b = 0\n",
        "\n",
        "try:\n",
        "    c = a/b\n",
        "except Exception as erro:\n",
        "    print(f'Cálculo não pode ser realizado: {erro.__class__}')\n",
        "else:\n",
        "    print(f'O resultado é: {c:.2f}')\n",
        "finally:\n",
        "    escreva('  sistemas gclm  ')"
      ],
      "metadata": {
        "colab": {
          "base_uri": "https://localhost:8080/"
        },
        "id": "gEt2_8K_pUYU",
        "outputId": "ecd519ca-47ac-4738-c413-5a6cd28f1710"
      },
      "execution_count": null,
      "outputs": [
        {
          "output_type": "stream",
          "name": "stdout",
          "text": [
            "Cálculo não pode ser realizado: <class 'ZeroDivisionError'>\n",
            "-------------------\n",
            "   sistemas gclm   \n",
            "-------------------\n"
          ]
        }
      ]
    },
    {
      "cell_type": "code",
      "source": [
        "def escreva(texto):\n",
        "    texto = ' '+texto+' '\n",
        "    print('-'*(len(texto)))\n",
        "    print(f'{texto}')\n",
        "    print('-'*(len(texto)))\n",
        "try:\n",
        "    a = int(input('numerador: '))\n",
        "    b = int(input('denominador: '))\n",
        "    c = a/b\n",
        "except (ValueError):\n",
        "    print(f'Cálculo não pode ser precessado sem dado digitado:')\n",
        "except (KeyboardInterrupt):\n",
        "    print(f'Não foi informado o dado:')\n",
        "except (TypeError):\n",
        "    print(f'Cálculo não pode ser precessado com o tipo de dado digitado:')\n",
        "except (ZeroDivisionError):\n",
        "    print(f'Não é possível realizar a divisão por zero:')\n",
        "except Exception as erro:\n",
        "    print (f'O erro encontredo foi {erro.__cause__}')\n",
        "else:\n",
        "    print(f'O resultado é: {c:.2f}')\n",
        "finally:\n",
        "    escreva('  sistemas gclm  ')"
      ],
      "metadata": {
        "id": "WjlFpVabGFvi"
      },
      "execution_count": null,
      "outputs": []
    }
  ]
}