{
  "nbformat": 4,
  "nbformat_minor": 0,
  "metadata": {
    "colab": {
      "name": "Curso em Vídeo - PYTHON 3 - MUNDO 3.ipynb",
      "provenance": [],
      "collapsed_sections": [
        "Iv1JvJMxr_3l",
        "ORH0FziVvh-Q",
        "RWEDdX2metCk"
      ]
    },
    "kernelspec": {
      "name": "python3",
      "display_name": "Python 3"
    }
  },
  "cells": [
    {
      "cell_type": "markdown",
      "metadata": {
        "id": "Iv1JvJMxr_3l"
      },
      "source": [
        "# CURSO EM VÍDEO - PYTHON 3 - MUNDO 3\n",
        "\n",
        "<p>by geanclm</p>\n",
        "\n",
        "---\n",
        "<p>https://www.python.org/</p>"
      ]
    },
    {
      "cell_type": "markdown",
      "metadata": {
        "id": "ORH0FziVvh-Q"
      },
      "source": [
        "#Aula 16 – Tuplas"
      ]
    },
    {
      "cell_type": "code",
      "source": [
        "# Tuplas são estruturas de dados imutáveis"
      ],
      "metadata": {
        "id": "Mwts5geEeje-"
      },
      "execution_count": null,
      "outputs": []
    },
    {
      "cell_type": "code",
      "source": [
        "frutas = ('banana', 'abacaxi', 'uva', 'goiaba', 'banana', 'banana')"
      ],
      "metadata": {
        "id": "5rP0F13VYerh"
      },
      "execution_count": null,
      "outputs": []
    },
    {
      "cell_type": "code",
      "source": [
        "for i in frutas:\n",
        "    print (i, end=' ')"
      ],
      "metadata": {
        "id": "YatAPOXhYn9a"
      },
      "execution_count": null,
      "outputs": []
    },
    {
      "cell_type": "code",
      "source": [
        "for i in range(0, len(frutas)):\n",
        "    print(frutas[i], end=' ')"
      ],
      "metadata": {
        "id": "xPLPUKyLgll5"
      },
      "execution_count": null,
      "outputs": []
    },
    {
      "cell_type": "code",
      "source": [
        "for i, fruta in enumerate(frutas):\n",
        "    print (i+1, fruta)"
      ],
      "metadata": {
        "id": "dNKzYWdUhpHw"
      },
      "execution_count": null,
      "outputs": []
    },
    {
      "cell_type": "code",
      "source": [
        "print (frutas[:])"
      ],
      "metadata": {
        "id": "HUO2OgJKY0Hp"
      },
      "execution_count": null,
      "outputs": []
    },
    {
      "cell_type": "code",
      "source": [
        "print(sorted(frutas))"
      ],
      "metadata": {
        "id": "O25txfJGiu9q"
      },
      "execution_count": null,
      "outputs": []
    },
    {
      "cell_type": "code",
      "source": [
        "print(len(frutas))"
      ],
      "metadata": {
        "id": "i7Hffl4Ri5cb"
      },
      "execution_count": null,
      "outputs": []
    },
    {
      "cell_type": "code",
      "source": [
        "print(frutas.count('banana'))"
      ],
      "metadata": {
        "id": "eO-WfwYrjc-o"
      },
      "execution_count": null,
      "outputs": []
    },
    {
      "cell_type": "code",
      "source": [
        "print(frutas.index('banana',1))"
      ],
      "metadata": {
        "id": "-RoUhhH5jkHv"
      },
      "execution_count": null,
      "outputs": []
    },
    {
      "cell_type": "code",
      "source": [
        "# Exercício Python 72: Crie um programa que tenha uma dupla totalmente preenchida\n",
        "# com uma contagem por extenso, de zero até vinte.\n",
        "# Seu programa deverá ler um número pelo teclado (entre 0 e 20) e mostrá-lo por extenso.\n",
        "# by geanclm in 17/03/2022 at 07:56h\n",
        "tupla = ('zero', 'um', 'dois', 'três', 'quatro', 'cinco', 'seis', 'sete',\n",
        "         'oito', 'nove', 'dez', 'onze', 'doze', 'treze', 'quatorze',\n",
        "         'quinze', 'dezesseis', 'dezessete', 'dezoito', 'dezenove', 'vinte')\n",
        "continua = ' '\n",
        "while True:\n",
        "    n = int(input('número [0-20]: '))\n",
        "    if  0 <= n <= 20:\n",
        "        print (f'''\n",
        "        Você digitou o número {tupla[n]}''')\n",
        "        continua = str(input('deseja continuar: ')).upper().strip()\n",
        "        if continua not in 'S':\n",
        "            break\n",
        "    else:\n",
        "        print(f'''\n",
        "        DIGITE NOVAMENTE!''', end=' ')\n",
        "print ('FIM DO PROGRAMA')"
      ],
      "metadata": {
        "id": "h47c_yXtkCSH"
      },
      "execution_count": null,
      "outputs": []
    },
    {
      "cell_type": "code",
      "source": [
        "# Exercício Python 73: Crie uma tupla preenchida com os 20 primeiros colocados da\n",
        "# Tabela do Campeonato Brasileiro de Futebol, na ordem de colocação. Depois mostre:\n",
        "# a) Os 5 primeiros times.\n",
        "# b) Os últimos 4 colocados.\n",
        "# c) Times em ordem alfabética.\n",
        "# d) Em que posição está o time da Chapecoense, [Avaí] para esse caso\n",
        "# by geanclm in 20/03/2022 at 10:25h\n",
        "\n",
        "times = ('América-MG', 'Athletico-PR', 'Atlético-GO', 'Atlético-MG', 'Avaí', 'Botafogo',\n",
        "         'Bragantino', 'Ceará', 'Corinthians', 'Coritiba', 'Cuiabá', 'Flamengo', 'Fluminense',\n",
        "         'Fortaleza', 'Goiás', 'Internacional', 'Palmeiras', 'Santos', 'São Paulo', 'Juventude')\n",
        "\n",
        "print ('-'*46)\n",
        "print (f'''DOS TIMES DO BRASILEIRÃO\n",
        "{times[:]}''')\n",
        "\n",
        "print ('-'*46)\n",
        "print (f'''Os cinco primeiros colocados da lista\n",
        "{times[:5]}''')\n",
        "\n",
        "print ('-'*33)\n",
        "print (f'''Os quatro últimos colocados da lista\n",
        "{times[-4:]}''')\n",
        "\n",
        "print ('-'*33)\n",
        "print(f'''Ordem alfabética\n",
        "{(sorted(times))}''')\n",
        "\n",
        "print ('-'*33)\n",
        "print (f'O Avaí está na {(times.index(\"Avaí\",1)+1)}ª posição da tabela')"
      ],
      "metadata": {
        "id": "7keiGA_uZNqo"
      },
      "execution_count": null,
      "outputs": []
    },
    {
      "cell_type": "code",
      "source": [
        "# Exercício Python 074: Crie um programa que vai gerar cinco números aleatórios\n",
        "# e colocar em uma tupla. Depois disso, mostre a listagem de números gerados\n",
        "# e também indique o menor e o maior valor que estão na tupla.\n",
        "# by geanclm in 21/03/2022 at 07:18h\n",
        "from random import sample\n",
        "tupla = sample(range(1, 10),5)\n",
        "\n",
        "# maior = menor = 0\n",
        "# for i in tupla:\n",
        "#     if menor == 0:\n",
        "#         menor = i\n",
        "#     if i < menor:\n",
        "#         menor = i\n",
        "#     if i > maior:\n",
        "#         maior = i\n",
        "\n",
        "maior = max(tupla)\n",
        "menor = min(tupla)\n",
        "\n",
        "print (f'NÚMEROS gerados na tupla: {tupla}')\n",
        "print (f'MAIOR número da sequência: {maior}')\n",
        "print (f'MENOR número da sequência: {menor}')\n",
        "print ('-'*33)\n",
        "print (f'ORDEM CRESCENTE da sequência: {sorted(tupla)}')"
      ],
      "metadata": {
        "colab": {
          "base_uri": "https://localhost:8080/"
        },
        "id": "L2NS20ng_0wC",
        "outputId": "5739e38d-e8fd-4500-bd31-6f6096ee9aa8"
      },
      "execution_count": null,
      "outputs": [
        {
          "output_type": "stream",
          "name": "stdout",
          "text": [
            "NÚMEROS gerados na tupla: [3, 4, 6, 7, 9]\n",
            "MAIOR número da sequência: 9\n",
            "MENOR número da sequência: 3\n",
            "---------------------------------\n",
            "ORDEM CRESCENTE da sequência: [3, 4, 6, 7, 9]\n"
          ]
        }
      ]
    },
    {
      "cell_type": "code",
      "source": [
        "# https://www.cursoemvideo.com/apoie/\n",
        "# Exercício Python 075: Desenvolva um programa que leia quatro valores pelo teclado\n",
        "# e guarde-os em uma tupla. No final, mostre:\n",
        "# A) Quantas vezes apareceu o valor 9.\n",
        "# B) Em que posição foi digitado o primeiro valor 3.\n",
        "# C) Quais foram os números pares.\n",
        "# by geanclm in 22/03/2022 at 07:06h\n",
        "\n",
        "\n",
        "tupla = (\n",
        "    int(input('digite o primeiro número inteiro: ' )),\n",
        "    int(input('digite o seguento número inteiro: ' )),\n",
        "    int(input('digite o tereceiro número inteiro: ' )),\n",
        "    int(input('digite o último número: ' ))\n",
        "    )\n",
        "\n",
        "# visualização dos resultados finais\n",
        "print ('-'*33)\n",
        "print (f'Valores registrados na tupla: {tupla}')\n",
        "print ('-'*33)\n",
        "\n",
        "# verificação e visualização da entrada dos dados\n",
        "if 9 in tupla:\n",
        "    print (f'O número 9 apareceu {tupla.count(9)} vez(es)')\n",
        "else:\n",
        "    print ('O número 9 não foi registrado na tupla!')\n",
        "if 3 in tupla:\n",
        "    print (f'O número 3 está na posição {tupla.index(3,1)+1}ª da tupla')\n",
        "else:\n",
        "    print ('O número 3 não foi registrado na tupla!')\n",
        "print (f'A tupla tem os seguintes números pares: {[i for i in tupla if i%2 == 0]}')"
      ],
      "metadata": {
        "colab": {
          "base_uri": "https://localhost:8080/"
        },
        "id": "wnqECvsC8h4I",
        "outputId": "e2dd23e7-4664-4db0-e6da-287e1ffd4859"
      },
      "execution_count": null,
      "outputs": [
        {
          "output_type": "stream",
          "name": "stdout",
          "text": [
            "digite o primeiro número inteiro: 1\n",
            "digite o seguento número inteiro: 2\n",
            "digite o tereceiro número inteiro: 4\n",
            "digite o último número: 6\n",
            "---------------------------------\n",
            "Valores registrados na tupla: (1, 2, 4, 6)\n",
            "---------------------------------\n",
            "O número 9 não foi registrado na tupla!\n",
            "O número 3 não foi registrado na tupla!\n",
            "A tupla tem os seguintes pares: [2, 4, 6]\n"
          ]
        }
      ]
    },
    {
      "cell_type": "code",
      "source": [
        "# Exercício Python 076: Crie um programa que tenha uma tupla única com\n",
        "# nomes de produtos e seus respectivos preços, na sequência.\n",
        "# No final, mostre uma listagem\n",
        "# de preços, organizando os dados em forma tabular.\n",
        "# by geanclm in 23/03/2022 at 06:46h\n",
        "\n",
        "produtos = ('lápis',1.75, 'borracha', 2, 'Caderno', 15.90, 'Estojo', 25.00,\n",
        "            'Tranferidor', 4.2, 'Compasso', 9.9, 'Mochila', 120.3,\n",
        "            'Canetas', 22.30, 'Livro', 34.9)\n",
        "\n",
        "print ('-'*33)\n",
        "print ('{:-^33}'.format('| LISTAGEM DE PREÇOS |'))\n",
        "print ('-'*33)\n",
        "for i in (range(0,len(produtos))):\n",
        "    if i%2==0:\n",
        "        print (f'{produtos[i]:.<23}', end=' ')\n",
        "    elif i%2!=0:\n",
        "        print (f'R${produtos[i]:>7,.2f}')\n",
        "print ('-'*33)"
      ],
      "metadata": {
        "id": "10Pf53BoEGv1"
      },
      "execution_count": null,
      "outputs": []
    },
    {
      "cell_type": "code",
      "source": [
        "# Exercício Python 077: Crie um programa que tenha uma tupla com várias palavras\n",
        "# (não usar acentos). Depois disso, você deve mostrar, para cada palavra, quais são as suas vogais.\n",
        "# by geanclm in 24/03/2022 at 07:01h\n",
        "\n",
        "tupla = ('motocicleta','CARRO', 'CASA', 'MOTO', 'BARCO', 'BICICLETA', 'TREM', 'UBER')\n",
        "for i in tupla:\n",
        "    print (f'\\nNa palavra {i} temos:', end=' ')\n",
        "    # if 'A' in i:\n",
        "    #     print ('a', end=' ')\n",
        "    # if 'E' in i:\n",
        "    #     print ('e', end=' ')\n",
        "    # if 'I' in i:\n",
        "    #     print ('i', end=' ')\n",
        "    # if 'O' in i:\n",
        "    #     print ('o', end=' ')\n",
        "    # if 'U' in i:\n",
        "    #     print ('u', end=' ')\n",
        "    for letra in i:\n",
        "        if letra in 'aeiouAEIOU':\n",
        "            print (letra, end=' ')"
      ],
      "metadata": {
        "id": "JSlF_M2sSYA2"
      },
      "execution_count": null,
      "outputs": []
    },
    {
      "cell_type": "markdown",
      "source": [
        "# Aula 17 – Listas (Parte 1)"
      ],
      "metadata": {
        "id": "RWEDdX2metCk"
      }
    },
    {
      "cell_type": "code",
      "source": [
        "lista01 = []"
      ],
      "metadata": {
        "id": "eSIeg5VStC57"
      },
      "execution_count": null,
      "outputs": []
    },
    {
      "cell_type": "code",
      "source": [
        "lista02 = list()"
      ],
      "metadata": {
        "id": "yzpGXuGAtGW7"
      },
      "execution_count": null,
      "outputs": []
    },
    {
      "cell_type": "code",
      "source": [
        "lista = ['gean', 'carlos', 'cientista', 'dados', 'machine learning', 'dados']"
      ],
      "metadata": {
        "id": "qK0fxMDwjuba"
      },
      "execution_count": null,
      "outputs": []
    },
    {
      "cell_type": "code",
      "source": [
        "lista"
      ],
      "metadata": {
        "id": "cKf6J7Fdj5QK"
      },
      "execution_count": null,
      "outputs": []
    },
    {
      "cell_type": "code",
      "source": [
        "# del lista[3]\n",
        "# lista.pop(4)\n",
        "lista.remove('dados')"
      ],
      "metadata": {
        "id": "ewWnwahPjc_r"
      },
      "execution_count": null,
      "outputs": []
    },
    {
      "cell_type": "code",
      "source": [
        "if 'dados' in lista:\n",
        "    lista.remove('dados')\n",
        "else:\n",
        "    print ('dados inexistentes')"
      ],
      "metadata": {
        "id": "zbFfRGpblubz"
      },
      "execution_count": null,
      "outputs": []
    },
    {
      "cell_type": "code",
      "source": [
        "valores = list(range(1,26,5))"
      ],
      "metadata": {
        "id": "qB_LYmkvorGL"
      },
      "execution_count": null,
      "outputs": []
    },
    {
      "cell_type": "code",
      "source": [
        "print (valores, end=' ')"
      ],
      "metadata": {
        "id": "C0NF7UcVov-0"
      },
      "execution_count": null,
      "outputs": []
    },
    {
      "cell_type": "code",
      "source": [
        "lista2 = [2,9,8,1,6,0,7,2,3]"
      ],
      "metadata": {
        "id": "JovndDMmpNeU"
      },
      "execution_count": null,
      "outputs": []
    },
    {
      "cell_type": "code",
      "source": [
        "lista2"
      ],
      "metadata": {
        "id": "q9n0bjUFr1Ob"
      },
      "execution_count": null,
      "outputs": []
    },
    {
      "cell_type": "code",
      "source": [
        "print(sorted(lista2, reverse=True))"
      ],
      "metadata": {
        "id": "Cd1Ioe77plzF"
      },
      "execution_count": null,
      "outputs": []
    },
    {
      "cell_type": "code",
      "source": [
        "len(lista2)"
      ],
      "metadata": {
        "id": "K8y48x0tqM70"
      },
      "execution_count": null,
      "outputs": []
    },
    {
      "cell_type": "code",
      "source": [
        "lista2.append(999)"
      ],
      "metadata": {
        "id": "uPEnKuazrQt6"
      },
      "execution_count": null,
      "outputs": []
    },
    {
      "cell_type": "code",
      "source": [
        "lista2.insert(1,888)"
      ],
      "metadata": {
        "id": "rNyFY5ASrvyl"
      },
      "execution_count": null,
      "outputs": []
    },
    {
      "cell_type": "code",
      "source": [
        "valores = []\n",
        "for i in range(0,2):\n",
        "    valores.append(input('digite um números: '))\n",
        "print('-'*15)\n",
        "for i,n in enumerate(valores):\n",
        "    print (i,n)"
      ],
      "metadata": {
        "id": "b3L31m7iuPTi"
      },
      "execution_count": null,
      "outputs": []
    },
    {
      "cell_type": "code",
      "source": [
        "a = [1,2,3,4,5]\n",
        "b = a[:]\n",
        "b[2] = 888\n",
        "print(f'lista a: {a}')\n",
        "print(f'lista a: {b}')"
      ],
      "metadata": {
        "id": "K5fvt0B6wEMC"
      },
      "execution_count": null,
      "outputs": []
    },
    {
      "cell_type": "code",
      "source": [
        "# https://docs.python.org/pt-br/3/tutorial/datastructures.html?highlight=tupla\n",
        "\n",
        "# Exercício Python 078: Faça um programa que leia 5 valores numéricos e guarde-os em uma lista.\n",
        "# No final, mostre qual foi o maior e o menor valor digitado e as suas respectivas posições na lista.\n",
        "# by geanclm in 25/03/2022 at 09:12h\n",
        "\n",
        "lista = []\n",
        "maior = menor = 0\n",
        "\n",
        "for i in range(0,5):\n",
        "    lista.append(int(input(f'digite um valor na posição {i}: ')))\n",
        "    if menor == 0:\n",
        "        menor = lista[i]\n",
        "    if lista[i] > maior:\n",
        "        maior = lista[i]\n",
        "    if lista[i] < menor:\n",
        "        menor = lista[i]\n",
        "\n",
        "print('-'*15)        \n",
        "print(f'LISTA completa:', end=' ')\n",
        "for i in lista:\n",
        "    print(f'{i}', end=' ')\n",
        "print('\\n')\n",
        "\n",
        "print(f'MENOR valor digitado: {menor}, posição(ões)', end=' ')\n",
        "for i,n in enumerate(lista):\n",
        "    if n == menor:\n",
        "        print(f'{i}... ', end=' ')\n",
        "print(f'\\nMAIOR valor digitado: {maior}, posição(ões)', end=' ')\n",
        "for i,n in enumerate(lista):\n",
        "    if n == maior:\n",
        "         print(f'{i}... ', end=' ')"
      ],
      "metadata": {
        "colab": {
          "base_uri": "https://localhost:8080/"
        },
        "id": "ztMnjqm6z3p1",
        "outputId": "d71fb345-c240-4c66-fc21-a79d141f125c"
      },
      "execution_count": null,
      "outputs": [
        {
          "output_type": "stream",
          "name": "stdout",
          "text": [
            "digite um valor na posição 0: 1\n",
            "digite um valor na posição 1: 8\n",
            "digite um valor na posição 2: 8\n",
            "digite um valor na posição 3: 2\n",
            "digite um valor na posição 4: 1\n",
            "---------------\n",
            "LISTA completa: 1 8 8 2 1 \n",
            "\n",
            "MENOR valor digitado: 1, posição(ões) 0...  4...  \n",
            "MAIOR valor digitado: 8, posição(ões) 1...  2...  "
          ]
        }
      ]
    },
    {
      "cell_type": "code",
      "source": [
        "# Exercício Python 079: Crie um programa onde o usuário possa digitar vários valores\n",
        "# numéricos e cadastre-os em uma lista. Caso o número já exista lá dentro, ele não será adicionado.\n",
        "# No final, serão exibidos todos os valores únicos digitados, em ordem crescente.\n",
        "# by geanclm in 29/03/2022 at 05:30h\n",
        "\n",
        "lista = []\n",
        "while True:\n",
        "    n = int(input(f'digite um número: '))\n",
        "    if n not in lista:\n",
        "        lista.append(n)\n",
        "    else:\n",
        "        print (f'valor {n} já existente na lista!')\n",
        "    continua = str(input('continua? [S/N]: ')).upper().strip()\n",
        "    if continua not in 'S':\n",
        "        break\n",
        "print (sorted(lista))"
      ],
      "metadata": {
        "id": "UYWf75eux_ud"
      },
      "execution_count": null,
      "outputs": []
    },
    {
      "cell_type": "code",
      "source": [
        "# Exercício Python 080: Crie um programa onde o usuário possa digitar cinco valores\n",
        "# numéricos e cadastre-os em uma lista, já na posição correta de inserção (sem usar o sort()).\n",
        "# No final, mostre a lista ordenada na tela.\n",
        "# by geanclm in 03/30/2022 at 07:04h\n",
        "lista = []\n",
        "for i in range(0,5):\n",
        "    n = int(input('digite um número inteiro: '))\n",
        "    if (i == 0) or (n > lista[-1]):\n",
        "        lista.append(n)\n",
        "        print (f'O valor {n} foi inserido no final da lista')\n",
        "    else:\n",
        "        c = 0\n",
        "        while c < len(lista):\n",
        "            if n <= lista[c]:\n",
        "                lista.insert(c,n)\n",
        "                print (f'O valor {n} foi inserido na posição {c} da lista')\n",
        "                break\n",
        "            c += 1\n",
        "print('-'*33)  \n",
        "print (lista)"
      ],
      "metadata": {
        "id": "ScqC4IcZ9duI"
      },
      "execution_count": null,
      "outputs": []
    },
    {
      "cell_type": "code",
      "source": [
        "# Exercício Python 081: Crie um programa que vai ler vários números e colocar em uma lista.\n",
        "# Depois disso, mostre:\n",
        "# A) Quantos números foram digitados.\n",
        "# B) A lista de valores, ordenada de forma decrescente.\n",
        "# C) Se o valor 5 foi digitado e está ou não na lista.\n",
        "# by geanclm in 02/04/2022 at 06:51h\n",
        "lista = []\n",
        "while True:\n",
        "    lista.append(int(input(f'digite um número: ')))\n",
        "    continua = str(input('continua? [S/N]: ')).upper().strip()\n",
        "    if continua not in 'S': break\n",
        "print('-'*33)\n",
        "print (f'lista de números: {lista}')\n",
        "print (f'quantidade de números: {len(lista)}')\n",
        "print (f'ordem decrescente: {sorted(lista, reverse=True)}')\n",
        "if 5 in lista:\n",
        "    print ('O número 5 está na lista')\n",
        "else:\n",
        "    print ('O valor 5 não foi encontrado da lista')"
      ],
      "metadata": {
        "id": "Vv1_BW3XnRqX"
      },
      "execution_count": null,
      "outputs": []
    },
    {
      "cell_type": "code",
      "source": [
        "# Exercício Python 082: Crie um programa que vai ler vários números e colocar em uma lista.\n",
        "# Depois disso, crie duas listas extras que vão conter apenas os valores pares e os valores\n",
        "# ímpares digitados, respectivamente. Ao final, mostre o conteúdo das três listas geradas.\n",
        "# by geanclm in 02/04/2022 at 07:26h\n",
        "lista = pares = ímpares = []\n",
        "while True:\n",
        "    lista.append(int(input(f'digite um número: ')))\n",
        "    continua = str(input('continua? [S/N]: ')).upper().strip()\n",
        "    if continua not in 'S': break\n",
        "for i in lista:\n",
        "    if i%2 == 0:\n",
        "        pares.append(i)\n",
        "    else:\n",
        "        ímpares.append(i)\n",
        "print('-'*33)\n",
        "print(f'lista completa: {lista}')\n",
        "print(f'pares: {pares}')\n",
        "print(f'ímpares: {ímpares}')"
      ],
      "metadata": {
        "id": "IgGJ4TUAxXQ0"
      },
      "execution_count": null,
      "outputs": []
    },
    {
      "cell_type": "code",
      "source": [
        "# Exercício Python 083: Crie um programa onde o usuário digite uma expressão qualquer que use parênteses.\n",
        "# Seu aplicativo deverá analisar se a expressão passada está com os parênteses abertos\n",
        "# e fechados na ordem correta.\n",
        "# by geanclm in 02/04/2022 at 08:28h\n",
        "lista = []\n",
        "expr = str(input(f'digite uma expressão matemática: '))\n",
        "for i in expr:\n",
        "    lista.append(i)\n",
        "if (lista.count('(')) == lista.count(')'):\n",
        "    print ('EXPRESSÃO VÁLIDA')\n",
        "else:\n",
        "    print ('EXPRESSÃO INVÁLIDA')"
      ],
      "metadata": {
        "id": "3pfgnKzs2MyS"
      },
      "execution_count": null,
      "outputs": []
    },
    {
      "cell_type": "markdown",
      "source": [
        "# Aula 18 – Listas (Parte 2)"
      ],
      "metadata": {
        "id": "QOCxu-_Q0ili"
      }
    },
    {
      "cell_type": "code",
      "source": [
        "equipe1 =[['geanclm', 11],['gclm', 22],['clm', 33],['lm', 44]]\n",
        "equipe2 =[['Gean', 10],['Carlos', 20],['Luciano', 30],['Madeira', 40]]"
      ],
      "metadata": {
        "id": "FXOT2GFjGGhK"
      },
      "execution_count": 9,
      "outputs": []
    },
    {
      "cell_type": "code",
      "source": [
        "galera[0][0]"
      ],
      "metadata": {
        "id": "wWEpllJRGjoa"
      },
      "execution_count": null,
      "outputs": []
    },
    {
      "cell_type": "code",
      "source": [
        "for i in equipe1:\n",
        "    print (f'name: {i[0]} code: {i[1]}')"
      ],
      "metadata": {
        "id": "RfiyytctI5Ny"
      },
      "execution_count": null,
      "outputs": []
    },
    {
      "cell_type": "code",
      "source": [
        "equipe2.append(equipe1[:])"
      ],
      "metadata": {
        "id": "1HrPOcjcG-e7"
      },
      "execution_count": 11,
      "outputs": []
    },
    {
      "cell_type": "code",
      "source": [
        "equipe2"
      ],
      "metadata": {
        "id": "y2UCRaz8HdCy"
      },
      "execution_count": null,
      "outputs": []
    },
    {
      "cell_type": "code",
      "source": [
        "equipe2[4][0][0]"
      ],
      "metadata": {
        "id": "0R9vN48hH1EP"
      },
      "execution_count": null,
      "outputs": []
    },
    {
      "cell_type": "code",
      "source": [
        "for i in equipe2:\n",
        "    print (i[0])"
      ],
      "metadata": {
        "id": "EaRHG7Y9IenC"
      },
      "execution_count": null,
      "outputs": []
    },
    {
      "cell_type": "code",
      "source": [
        "dados = []\n",
        "for i in range(0,3):\n",
        "    dados.append(str(input('nome: ')))\n",
        "    dados.append(int(input('idade: ')))\n",
        "    equipe2.append(dados[:])\n",
        "    dados.clear()"
      ],
      "metadata": {
        "id": "CPAmfdfJJ_mS"
      },
      "execution_count": null,
      "outputs": []
    },
    {
      "cell_type": "code",
      "source": [
        "menor = maior = 0\n",
        "for j in equipe1:\n",
        "    if j[1] >= 21:\n",
        "        print (f'{j[0]} tem code acima de 21')\n",
        "        maior += 1\n",
        "    else:\n",
        "        print (f'{j[0]} tem code abaixo de 21')\n",
        "        menor += 1\n",
        "print ('-'*33)\n",
        "print (f'TOTAL DE CODE ACIMA DE 21: {maior}')\n",
        "print (f'TOTAL DE CODE ABAIXO DE 21: {menor}')"
      ],
      "metadata": {
        "id": "ZMT-a-BeLgDB"
      },
      "execution_count": null,
      "outputs": []
    }
  ]
}